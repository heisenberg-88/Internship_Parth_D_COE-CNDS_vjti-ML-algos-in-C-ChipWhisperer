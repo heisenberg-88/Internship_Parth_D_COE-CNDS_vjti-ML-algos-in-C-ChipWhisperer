{
 "cells": [
  {
   "cell_type": "code",
   "execution_count": 1,
   "id": "6145884f",
   "metadata": {},
   "outputs": [],
   "source": [
    "SCOPETYPE = 'OPENADC'\n",
    "PLATFORM = 'CWLITEARM'"
   ]
  },
  {
   "cell_type": "code",
   "execution_count": 2,
   "id": "f996a2b7",
   "metadata": {},
   "outputs": [],
   "source": [
    "# %%bash\n",
    "# cd hardware/victims/firmware/\n",
    "# # mkdir -p simpleserial-nn && cp -r neuralnetwork/* $_\n",
    "# cd simpleserial-nn"
   ]
  },
  {
   "cell_type": "code",
   "execution_count": 3,
   "id": "7d3b1c45",
   "metadata": {
    "scrolled": false
   },
   "outputs": [
    {
     "name": "stdout",
     "output_type": "stream",
     "text": [
      "SS_VER set to SS_VER_1_1\r\n",
      "C:/Users/parth/CHIPWH~1/cw/home/portable/avrgcc/bin/make clean_objs .dep \r\n",
      "make[1]: Entering directory 'C:/Users/parth/ChipWhisperer5_64/cw/home/portable/chipwhisperer/hardware/victims/firmware/simpleserial-nn'\r\n",
      "SS_VER set to SS_VER_1_1\r\n",
      "rm -f -- simpleserial-base-CWLITEARM.hex\r\n",
      "rm -f -- simpleserial-base-CWLITEARM.eep\r\n",
      "rm -f -- simpleserial-base-CWLITEARM.cof\r\n",
      "rm -f -- simpleserial-base-CWLITEARM.elf\r\n",
      "rm -f -- simpleserial-base-CWLITEARM.map\r\n",
      "rm -f -- simpleserial-base-CWLITEARM.sym\r\n",
      "rm -f -- simpleserial-base-CWLITEARM.lss\r\n",
      "rm -f -- objdir-CWLITEARM/*.o\r\n",
      "rm -f -- objdir-CWLITEARM/*.lst\r\n",
      "rm -f -- simpleserial-base.s simpleserial.s stm32f3_hal.s stm32f3_hal_lowlevel.s stm32f3_sysmem.s\r\n",
      "rm -f -- simpleserial-base.d simpleserial.d stm32f3_hal.d stm32f3_hal_lowlevel.d stm32f3_sysmem.d\r\n",
      "rm -f -- simpleserial-base.i simpleserial.i stm32f3_hal.i stm32f3_hal_lowlevel.i stm32f3_sysmem.i\r\n",
      "make[1]: '.dep' is up to date.\r\n",
      "make[1]: Leaving directory 'C:/Users/parth/ChipWhisperer5_64/cw/home/portable/chipwhisperer/hardware/victims/firmware/simpleserial-nn'\r\n",
      "C:/Users/parth/CHIPWH~1/cw/home/portable/avrgcc/bin/make begin gccversion build sizeafter fastnote end\r\n",
      "make[1]: Entering directory 'C:/Users/parth/ChipWhisperer5_64/cw/home/portable/chipwhisperer/hardware/victims/firmware/simpleserial-nn'\r\n",
      "SS_VER set to SS_VER_1_1\r\n",
      ".\n",
      "Welcome to another exciting ChipWhisperer target build!!\n",
      "arm-none-eabi-gcc (GNU Arm Embedded Toolchain 10-2020-q4-major) 10.2.1 20201103 (release)\r\n",
      "Copyright (C) 2020 Free Software Foundation, Inc.\r\n",
      "This is free software; see the source for copying conditions.  There is NO\r\n",
      "warranty; not even for MERCHANTABILITY or FITNESS FOR A PARTICULAR PURPOSE.\r\n",
      "\r\n",
      ".\n",
      "Compiling C: simpleserial-base.c\n",
      "arm-none-eabi-gcc -c -mcpu=cortex-m4 -I. -mthumb -mfloat-abi=soft -fmessage-length=0 -ffunction-sections -gdwarf-2 -DSS_VER=SS_VER_1_1 -DSTM32F303xC -DSTM32F3 -DSTM32 -DDEBUG -DHAL_TYPE=HAL_stm32f3 -DPLATFORM=CWLITEARM -DF_CPU=7372800UL -DSS_VER_2_0=2 -DSS_VER_2_1=3 -DSS_VER_1_1=1 -DSS_VER_1_0=0 -Os -funsigned-char -funsigned-bitfields -fshort-enums -Wall -Wstrict-prototypes -Wa,-adhlns=objdir-CWLITEARM/simpleserial-base.lst -I.././simpleserial/ -I.././hal -I.././hal/stm32f3 -I.././hal/stm32f3/CMSIS -I.././hal/stm32f3/CMSIS/core -I.././hal/stm32f3/CMSIS/device -I.././hal/stm32f4/Legacy -I.././crypto/ -std=gnu99  -MMD -MP -MF .dep/simpleserial-base.o.d simpleserial-base.c -o objdir-CWLITEARM/simpleserial-base.o\r\n",
      ".\n",
      "Compiling C: .././simpleserial/simpleserial.c\n",
      "arm-none-eabi-gcc -c -mcpu=cortex-m4 -I. -mthumb -mfloat-abi=soft -fmessage-length=0 -ffunction-sections -gdwarf-2 -DSS_VER=SS_VER_1_1 -DSTM32F303xC -DSTM32F3 -DSTM32 -DDEBUG -DHAL_TYPE=HAL_stm32f3 -DPLATFORM=CWLITEARM -DF_CPU=7372800UL -DSS_VER_2_0=2 -DSS_VER_2_1=3 -DSS_VER_1_1=1 -DSS_VER_1_0=0 -Os -funsigned-char -funsigned-bitfields -fshort-enums -Wall -Wstrict-prototypes -Wa,-adhlns=objdir-CWLITEARM/simpleserial.lst -I.././simpleserial/ -I.././hal -I.././hal/stm32f3 -I.././hal/stm32f3/CMSIS -I.././hal/stm32f3/CMSIS/core -I.././hal/stm32f3/CMSIS/device -I.././hal/stm32f4/Legacy -I.././crypto/ -std=gnu99  -MMD -MP -MF .dep/simpleserial.o.d .././simpleserial/simpleserial.c -o objdir-CWLITEARM/simpleserial.o\r\n",
      ".\n",
      "Compiling C: .././hal/stm32f3/stm32f3_hal.c\n",
      "arm-none-eabi-gcc -c -mcpu=cortex-m4 -I. -mthumb -mfloat-abi=soft -fmessage-length=0 -ffunction-sections -gdwarf-2 -DSS_VER=SS_VER_1_1 -DSTM32F303xC -DSTM32F3 -DSTM32 -DDEBUG -DHAL_TYPE=HAL_stm32f3 -DPLATFORM=CWLITEARM -DF_CPU=7372800UL -DSS_VER_2_0=2 -DSS_VER_2_1=3 -DSS_VER_1_1=1 -DSS_VER_1_0=0 -Os -funsigned-char -funsigned-bitfields -fshort-enums -Wall -Wstrict-prototypes -Wa,-adhlns=objdir-CWLITEARM/stm32f3_hal.lst -I.././simpleserial/ -I.././hal -I.././hal/stm32f3 -I.././hal/stm32f3/CMSIS -I.././hal/stm32f3/CMSIS/core -I.././hal/stm32f3/CMSIS/device -I.././hal/stm32f4/Legacy -I.././crypto/ -std=gnu99  -MMD -MP -MF .dep/stm32f3_hal.o.d .././hal/stm32f3/stm32f3_hal.c -o objdir-CWLITEARM/stm32f3_hal.o\r\n",
      ".\n",
      "Compiling C: .././hal/stm32f3/stm32f3_hal_lowlevel.c\n",
      "arm-none-eabi-gcc -c -mcpu=cortex-m4 -I. -mthumb -mfloat-abi=soft -fmessage-length=0 -ffunction-sections -gdwarf-2 -DSS_VER=SS_VER_1_1 -DSTM32F303xC -DSTM32F3 -DSTM32 -DDEBUG -DHAL_TYPE=HAL_stm32f3 -DPLATFORM=CWLITEARM -DF_CPU=7372800UL -DSS_VER_2_0=2 -DSS_VER_2_1=3 -DSS_VER_1_1=1 -DSS_VER_1_0=0 -Os -funsigned-char -funsigned-bitfields -fshort-enums -Wall -Wstrict-prototypes -Wa,-adhlns=objdir-CWLITEARM/stm32f3_hal_lowlevel.lst -I.././simpleserial/ -I.././hal -I.././hal/stm32f3 -I.././hal/stm32f3/CMSIS -I.././hal/stm32f3/CMSIS/core -I.././hal/stm32f3/CMSIS/device -I.././hal/stm32f4/Legacy -I.././crypto/ -std=gnu99  -MMD -MP -MF .dep/stm32f3_hal_lowlevel.o.d .././hal/stm32f3/stm32f3_hal_lowlevel.c -o objdir-CWLITEARM/stm32f3_hal_lowlevel.o\r\n",
      ".\n",
      "Compiling C: .././hal/stm32f3/stm32f3_sysmem.c\n",
      "arm-none-eabi-gcc -c -mcpu=cortex-m4 -I. -mthumb -mfloat-abi=soft -fmessage-length=0 -ffunction-sections -gdwarf-2 -DSS_VER=SS_VER_1_1 -DSTM32F303xC -DSTM32F3 -DSTM32 -DDEBUG -DHAL_TYPE=HAL_stm32f3 -DPLATFORM=CWLITEARM -DF_CPU=7372800UL -DSS_VER_2_0=2 -DSS_VER_2_1=3 -DSS_VER_1_1=1 -DSS_VER_1_0=0 -Os -funsigned-char -funsigned-bitfields -fshort-enums -Wall -Wstrict-prototypes -Wa,-adhlns=objdir-CWLITEARM/stm32f3_sysmem.lst -I.././simpleserial/ -I.././hal -I.././hal/stm32f3 -I.././hal/stm32f3/CMSIS -I.././hal/stm32f3/CMSIS/core -I.././hal/stm32f3/CMSIS/device -I.././hal/stm32f4/Legacy -I.././crypto/ -std=gnu99  -MMD -MP -MF .dep/stm32f3_sysmem.o.d .././hal/stm32f3/stm32f3_sysmem.c -o objdir-CWLITEARM/stm32f3_sysmem.o\r\n",
      ".\n",
      "Assembling: .././hal/stm32f3/stm32f3_startup.S\n",
      "arm-none-eabi-gcc -c -mcpu=cortex-m4 -I. -x assembler-with-cpp -mthumb -mfloat-abi=soft -fmessage-length=0 -ffunction-sections -DF_CPU=7372800 -Wa,-gstabs,-adhlns=objdir-CWLITEARM/stm32f3_startup.lst -I.././simpleserial/ -I.././hal -I.././hal/stm32f3 -I.././hal/stm32f3/CMSIS -I.././hal/stm32f3/CMSIS/core -I.././hal/stm32f3/CMSIS/device -I.././hal/stm32f4/Legacy -I.././crypto/ .././hal/stm32f3/stm32f3_startup.S -o objdir-CWLITEARM/stm32f3_startup.o\r\n",
      ".\n",
      "Linking: simpleserial-base-CWLITEARM.elf\n",
      "arm-none-eabi-gcc -mcpu=cortex-m4 -I. -mthumb -mfloat-abi=soft -fmessage-length=0 -ffunction-sections -gdwarf-2 -DSS_VER=SS_VER_1_1 -DSTM32F303xC -DSTM32F3 -DSTM32 -DDEBUG -DHAL_TYPE=HAL_stm32f3 -DPLATFORM=CWLITEARM -DF_CPU=7372800UL -DSS_VER_2_0=2 -DSS_VER_2_1=3 -DSS_VER_1_1=1 -DSS_VER_1_0=0 -Os -funsigned-char -funsigned-bitfields -fshort-enums -Wall -Wstrict-prototypes -Wa,-adhlns=objdir-CWLITEARM/simpleserial-base.o -I.././simpleserial/ -I.././hal -I.././hal/stm32f3 -I.././hal/stm32f3/CMSIS -I.././hal/stm32f3/CMSIS/core -I.././hal/stm32f3/CMSIS/device -I.././hal/stm32f4/Legacy -I.././crypto/ -std=gnu99  -MMD -MP -MF .dep/simpleserial-base-CWLITEARM.elf.d objdir-CWLITEARM/simpleserial-base.o objdir-CWLITEARM/simpleserial.o objdir-CWLITEARM/stm32f3_hal.o objdir-CWLITEARM/stm32f3_hal_lowlevel.o objdir-CWLITEARM/stm32f3_sysmem.o objdir-CWLITEARM/stm32f3_startup.o --output simpleserial-base-CWLITEARM.elf --specs=nano.specs --specs=nosys.specs -T .././hal/stm32f3/LinkerScript.ld -Wl,--gc-sections -lm -Wl,-Map=simpleserial-base-CWLITEARM.map,--cref   -lm  \r\n",
      ".\n",
      "Creating load file for Flash: simpleserial-base-CWLITEARM.hex\n",
      "arm-none-eabi-objcopy -O ihex -R .eeprom -R .fuse -R .lock -R .signature simpleserial-base-CWLITEARM.elf simpleserial-base-CWLITEARM.hex\r\n",
      ".\n",
      "Creating load file for Flash: simpleserial-base-CWLITEARM.bin\n",
      "arm-none-eabi-objcopy -O binary -R .eeprom -R .fuse -R .lock -R .signature simpleserial-base-CWLITEARM.elf simpleserial-base-CWLITEARM.bin\r\n",
      ".\n",
      "Creating load file for EEPROM: simpleserial-base-CWLITEARM.eep\n",
      "arm-none-eabi-objcopy -j .eeprom --set-section-flags=.eeprom=\"alloc,load\" \\\r\n",
      "--change-section-lma .eeprom=0 --no-change-warnings -O ihex simpleserial-base-CWLITEARM.elf simpleserial-base-CWLITEARM.eep || exit 0\r\n",
      ".\n",
      "Creating Extended Listing: simpleserial-base-CWLITEARM.lss\n",
      "arm-none-eabi-objdump -h -S -z simpleserial-base-CWLITEARM.elf > simpleserial-base-CWLITEARM.lss\r\n",
      ".\n",
      "Creating Symbol Table: simpleserial-base-CWLITEARM.sym\n",
      "arm-none-eabi-nm -n simpleserial-base-CWLITEARM.elf > simpleserial-base-CWLITEARM.sym\r\n",
      "Size after:\n",
      "   text\t   data\t    bss\t    dec\t    hex\tfilename\r\n",
      "  21204\t    112\t  34232\t  55548\t   d8fc\tsimpleserial-base-CWLITEARM.elf\r\n",
      "+--------------------------------------------------------\n",
      "+ Default target does full rebuild each time.\n",
      "+ Specify buildtarget == allquick == to avoid full rebuild\n",
      "+--------------------------------------------------------\n",
      "+--------------------------------------------------------\n",
      "+ Built for platform CW-Lite Arm \\(STM32F3\\) with:\n",
      "+ CRYPTO_TARGET = NONE\n",
      "+ CRYPTO_OPTIONS = AES128C\n",
      "+--------------------------------------------------------\n",
      "make[1]: Leaving directory 'C:/Users/parth/ChipWhisperer5_64/cw/home/portable/chipwhisperer/hardware/victims/firmware/simpleserial-nn'\r\n"
     ]
    },
    {
     "name": "stderr",
     "output_type": "stream",
     "text": [
      "simpleserial-base.c: In function 'printaccuracy':\n",
      "simpleserial-base.c:241:11: warning: variable 'accu_train' set but not used [-Wunused-but-set-variable]\n",
      "  241 |     float accu_train = 0.0;\n",
      "      |           ^~~~~~~~~~\n",
      "simpleserial-base.c: In function 'optimize':\n",
      "simpleserial-base.c:165:24: warning: 'db' may be used uninitialized in this function [-Wmaybe-uninitialized]\n",
      "  165 |     infovec[dim+dim+1] = db;\n",
      "      |     ~~~~~~~~~~~~~~~~~~~^~~~\n"
     ]
    }
   ],
   "source": [
    "%%bash -s \"$PLATFORM\"\n",
    "cd hardware/victims/firmware/simpleserial-nn\n",
    "make PLATFORM=$1 CRYPTO_TARGET=NONE"
   ]
  },
  {
   "cell_type": "code",
   "execution_count": 6,
   "id": "97f70312",
   "metadata": {},
   "outputs": [
    {
     "name": "stdout",
     "output_type": "stream",
     "text": [
      "INFO: Found ChipWhisperer😍\n"
     ]
    }
   ],
   "source": [
    "# import chipwhisperer as cw\n",
    "# try:\n",
    "#     if not scope.connectStatus:\n",
    "#         scope.con()\n",
    "# except NameError:\n",
    "#     scope = cw.scope()\n",
    "   \n",
    "# try:\n",
    "#     target = cw.target(scope)\n",
    "# except IOError:\n",
    "#     print(\"INFO: Caught exception on reconnecting to target - attempting to reconnect to scope first.\")\n",
    "#     print(\"INFO: This is a work-around when USB has died without Python knowing. Ignore errors above this line.\")\n",
    "#     scope = cw.scope()\n",
    "#     target = cw.target(scope)\n",
    "\n",
    "# print(\"INFO: Found ChipWhisperer😍\")\n",
    "\n",
    "# if \"STM\" in PLATFORM or PLATFORM == \"CWLITEARM\" or PLATFORM == \"CWNANO\":\n",
    "#     prog = cw.programmers.STM32FProgrammer\n",
    "# elif PLATFORM == \"CW303\" or PLATFORM == \"CWLITEXMEGA\":\n",
    "#     prog = cw.programmers.XMEGAProgrammer\n",
    "# else:\n",
    "#     prog = None\n",
    "    \n",
    "# import time\n",
    "# time.sleep(0.05)\n",
    "# scope.default_setup()\n",
    "# def reset_target(scope):\n",
    "#     if PLATFORM == \"CW303\" or PLATFORM == \"CWLITEXMEGA\":\n",
    "#         scope.io.pdic = 'low'\n",
    "#         time.sleep(0.05)\n",
    "#         scope.io.pdic = 'high_z' #XMEGA doesn't like pdic driven high\n",
    "#         time.sleep(0.05)\n",
    "#     else:  \n",
    "#         scope.io.nrst = 'low'\n",
    "#         time.sleep(0.05)\n",
    "#         scope.io.nrst = 'high_z'\n",
    "#         time.sleep(0.05)"
   ]
  },
  {
   "cell_type": "code",
   "execution_count": 4,
   "id": "e830a3f0",
   "metadata": {},
   "outputs": [
    {
     "name": "stderr",
     "output_type": "stream",
     "text": [
      "(ChipWhisperer NAEUSB WARNING|File naeusb.py:701) Your firmware (0.30) is outdated - latest is 0.62See https://chipwhisperer.readthedocs.io/en/latest/firmware.html for more information\n"
     ]
    },
    {
     "name": "stdout",
     "output_type": "stream",
     "text": [
      "INFO: Found ChipWhisperer😍\n",
      "Detected unknown STM32F ID: 0x446\n",
      "Extended erase (0x44), this can take ten seconds or more\n",
      "Attempting to program 21323 bytes at 0x8000000\n",
      "STM32F Programming flash...\n",
      "STM32F Reading flash...\n",
      "Verified flash OK, 21323 bytes\n"
     ]
    },
    {
     "name": "stderr",
     "output_type": "stream",
     "text": [
      "(ChipWhisperer Target WARNING|File SimpleSerial.py:397) Unexpected start to command: \n"
     ]
    },
    {
     "name": "stdout",
     "output_type": "stream",
     "text": [
      "😍ok to continue\n",
      "file deleted\n",
      "(5000, 2)\n",
      "INFO: Found ChipWhisperer😍\n",
      "Detected unknown STM32F ID: 0x446\n",
      "Extended erase (0x44), this can take ten seconds or more\n",
      "Attempting to program 21323 bytes at 0x8000000\n",
      "STM32F Programming flash...\n",
      "STM32F Reading flash...\n",
      "Verified flash OK, 21323 bytes\n"
     ]
    },
    {
     "name": "stderr",
     "output_type": "stream",
     "text": [
      "(ChipWhisperer Target WARNING|File SimpleSerial.py:397) Unexpected start to command: \n"
     ]
    },
    {
     "name": "stdout",
     "output_type": "stream",
     "text": [
      "😍ok to continue\n",
      "file deleted\n",
      "(5000, 3)\n",
      "INFO: Found ChipWhisperer😍\n",
      "Detected unknown STM32F ID: 0x446\n",
      "Extended erase (0x44), this can take ten seconds or more\n",
      "Attempting to program 21323 bytes at 0x8000000\n",
      "STM32F Programming flash...\n",
      "STM32F Reading flash...\n",
      "Verified flash OK, 21323 bytes\n"
     ]
    },
    {
     "name": "stderr",
     "output_type": "stream",
     "text": [
      "(ChipWhisperer Target WARNING|File SimpleSerial.py:397) Unexpected start to command: \n"
     ]
    },
    {
     "name": "stdout",
     "output_type": "stream",
     "text": [
      "😍ok to continue\n",
      "file deleted\n",
      "(5000, 4)\n",
      "INFO: Found ChipWhisperer😍\n",
      "Detected unknown STM32F ID: 0x446\n",
      "Extended erase (0x44), this can take ten seconds or more\n",
      "Attempting to program 21323 bytes at 0x8000000\n",
      "STM32F Programming flash...\n",
      "STM32F Reading flash...\n",
      "Verified flash OK, 21323 bytes\n"
     ]
    },
    {
     "name": "stderr",
     "output_type": "stream",
     "text": [
      "(ChipWhisperer Target WARNING|File SimpleSerial.py:397) Unexpected start to command: \n"
     ]
    },
    {
     "name": "stdout",
     "output_type": "stream",
     "text": [
      "😍ok to continue\n",
      "file deleted\n",
      "(5000, 5)\n",
      "INFO: Found ChipWhisperer😍\n",
      "Detected unknown STM32F ID: 0x446\n",
      "Extended erase (0x44), this can take ten seconds or more\n",
      "Attempting to program 21323 bytes at 0x8000000\n",
      "STM32F Programming flash...\n",
      "STM32F Reading flash...\n",
      "Verified flash OK, 21323 bytes\n"
     ]
    },
    {
     "name": "stderr",
     "output_type": "stream",
     "text": [
      "(ChipWhisperer Target WARNING|File SimpleSerial.py:397) Unexpected start to command: \n"
     ]
    },
    {
     "name": "stdout",
     "output_type": "stream",
     "text": [
      "😍ok to continue\n",
      "file deleted\n",
      "(5000, 6)\n",
      "INFO: Found ChipWhisperer😍\n",
      "Detected unknown STM32F ID: 0x446\n",
      "Extended erase (0x44), this can take ten seconds or more\n",
      "Attempting to program 21323 bytes at 0x8000000\n",
      "STM32F Programming flash...\n",
      "STM32F Reading flash...\n",
      "Verified flash OK, 21323 bytes\n"
     ]
    },
    {
     "name": "stderr",
     "output_type": "stream",
     "text": [
      "(ChipWhisperer Target WARNING|File SimpleSerial.py:397) Unexpected start to command: \n"
     ]
    },
    {
     "name": "stdout",
     "output_type": "stream",
     "text": [
      "😍ok to continue\n",
      "file deleted\n",
      "(5000, 7)\n",
      "INFO: Found ChipWhisperer😍\n",
      "Detected unknown STM32F ID: 0x446\n",
      "Extended erase (0x44), this can take ten seconds or more\n",
      "Attempting to program 21323 bytes at 0x8000000\n",
      "STM32F Programming flash...\n",
      "STM32F Reading flash...\n",
      "Verified flash OK, 21323 bytes\n"
     ]
    },
    {
     "name": "stderr",
     "output_type": "stream",
     "text": [
      "(ChipWhisperer Target WARNING|File SimpleSerial.py:397) Unexpected start to command: \n"
     ]
    },
    {
     "name": "stdout",
     "output_type": "stream",
     "text": [
      "😍ok to continue\n",
      "file deleted\n",
      "(5000, 8)\n",
      "INFO: Found ChipWhisperer😍\n",
      "Detected unknown STM32F ID: 0x446\n",
      "Extended erase (0x44), this can take ten seconds or more\n",
      "Attempting to program 21323 bytes at 0x8000000\n",
      "STM32F Programming flash...\n",
      "STM32F Reading flash...\n",
      "Verified flash OK, 21323 bytes\n"
     ]
    },
    {
     "name": "stderr",
     "output_type": "stream",
     "text": [
      "(ChipWhisperer Target WARNING|File SimpleSerial.py:397) Unexpected start to command: \n"
     ]
    },
    {
     "name": "stdout",
     "output_type": "stream",
     "text": [
      "😍ok to continue\n",
      "file deleted\n",
      "(5000, 9)\n",
      "INFO: Found ChipWhisperer😍\n",
      "Detected unknown STM32F ID: 0x446\n",
      "Extended erase (0x44), this can take ten seconds or more\n",
      "Attempting to program 21323 bytes at 0x8000000\n",
      "STM32F Programming flash...\n",
      "STM32F Reading flash...\n",
      "Verified flash OK, 21323 bytes\n"
     ]
    },
    {
     "name": "stderr",
     "output_type": "stream",
     "text": [
      "(ChipWhisperer Target WARNING|File SimpleSerial.py:397) Unexpected start to command: \n"
     ]
    },
    {
     "name": "stdout",
     "output_type": "stream",
     "text": [
      "😍ok to continue\n",
      "file deleted\n",
      "(5000, 10)\n",
      "INFO: Found ChipWhisperer😍\n",
      "Detected unknown STM32F ID: 0x446\n",
      "Extended erase (0x44), this can take ten seconds or more\n",
      "Attempting to program 21323 bytes at 0x8000000\n",
      "STM32F Programming flash...\n",
      "STM32F Reading flash...\n",
      "Verified flash OK, 21323 bytes\n"
     ]
    },
    {
     "name": "stderr",
     "output_type": "stream",
     "text": [
      "(ChipWhisperer Target WARNING|File SimpleSerial.py:397) Unexpected start to command: \n"
     ]
    },
    {
     "name": "stdout",
     "output_type": "stream",
     "text": [
      "😍ok to continue\n",
      "file deleted\n",
      "(5000, 11)\n",
      "INFO: Found ChipWhisperer😍\n",
      "Detected unknown STM32F ID: 0x446\n",
      "Extended erase (0x44), this can take ten seconds or more\n",
      "Attempting to program 21323 bytes at 0x8000000\n",
      "STM32F Programming flash...\n",
      "STM32F Reading flash...\n",
      "Verified flash OK, 21323 bytes\n"
     ]
    },
    {
     "name": "stderr",
     "output_type": "stream",
     "text": [
      "(ChipWhisperer Target WARNING|File SimpleSerial.py:397) Unexpected start to command: \n"
     ]
    },
    {
     "name": "stdout",
     "output_type": "stream",
     "text": [
      "😍ok to continue\n",
      "file deleted\n",
      "(5000, 12)\n",
      "INFO: Found ChipWhisperer😍\n",
      "Detected unknown STM32F ID: 0x446\n",
      "Extended erase (0x44), this can take ten seconds or more\n",
      "Attempting to program 21323 bytes at 0x8000000\n",
      "STM32F Programming flash...\n",
      "STM32F Reading flash...\n",
      "Verified flash OK, 21323 bytes\n"
     ]
    },
    {
     "name": "stderr",
     "output_type": "stream",
     "text": [
      "(ChipWhisperer Target WARNING|File SimpleSerial.py:397) Unexpected start to command: \n"
     ]
    },
    {
     "name": "stdout",
     "output_type": "stream",
     "text": [
      "😍ok to continue\n",
      "file deleted\n",
      "(5000, 13)\n",
      "INFO: Found ChipWhisperer😍\n",
      "Detected unknown STM32F ID: 0x446\n",
      "Extended erase (0x44), this can take ten seconds or more\n",
      "Attempting to program 21323 bytes at 0x8000000\n",
      "STM32F Programming flash...\n",
      "STM32F Reading flash...\n",
      "Verified flash OK, 21323 bytes\n"
     ]
    },
    {
     "name": "stderr",
     "output_type": "stream",
     "text": [
      "(ChipWhisperer Target WARNING|File SimpleSerial.py:397) Unexpected start to command: \n"
     ]
    },
    {
     "name": "stdout",
     "output_type": "stream",
     "text": [
      "😍ok to continue\n",
      "file deleted\n",
      "(5000, 14)\n",
      "INFO: Found ChipWhisperer😍\n",
      "Detected unknown STM32F ID: 0x446\n",
      "Extended erase (0x44), this can take ten seconds or more\n",
      "Attempting to program 21323 bytes at 0x8000000\n",
      "STM32F Programming flash...\n",
      "STM32F Reading flash...\n",
      "Verified flash OK, 21323 bytes\n"
     ]
    },
    {
     "name": "stderr",
     "output_type": "stream",
     "text": [
      "(ChipWhisperer Target WARNING|File SimpleSerial.py:397) Unexpected start to command: \n"
     ]
    },
    {
     "name": "stdout",
     "output_type": "stream",
     "text": [
      "😍ok to continue\n",
      "file deleted\n",
      "(5000, 15)\n",
      "INFO: Found ChipWhisperer😍\n",
      "Detected unknown STM32F ID: 0x446\n",
      "Extended erase (0x44), this can take ten seconds or more\n",
      "Attempting to program 21323 bytes at 0x8000000\n",
      "STM32F Programming flash...\n",
      "STM32F Reading flash...\n",
      "Verified flash OK, 21323 bytes\n"
     ]
    },
    {
     "name": "stderr",
     "output_type": "stream",
     "text": [
      "(ChipWhisperer Target WARNING|File SimpleSerial.py:397) Unexpected start to command: \n"
     ]
    },
    {
     "name": "stdout",
     "output_type": "stream",
     "text": [
      "😍ok to continue\n",
      "file deleted\n",
      "(5000, 16)\n",
      "INFO: Found ChipWhisperer😍\n",
      "Detected unknown STM32F ID: 0x446\n",
      "Extended erase (0x44), this can take ten seconds or more\n",
      "Attempting to program 21323 bytes at 0x8000000\n",
      "STM32F Programming flash...\n",
      "STM32F Reading flash...\n",
      "Verified flash OK, 21323 bytes\n"
     ]
    },
    {
     "name": "stderr",
     "output_type": "stream",
     "text": [
      "(ChipWhisperer Target WARNING|File SimpleSerial.py:397) Unexpected start to command: \n"
     ]
    },
    {
     "name": "stdout",
     "output_type": "stream",
     "text": [
      "😍ok to continue\n",
      "file deleted\n",
      "(5000, 17)\n",
      "INFO: Found ChipWhisperer😍\n",
      "Detected unknown STM32F ID: 0x446\n",
      "Extended erase (0x44), this can take ten seconds or more\n",
      "Attempting to program 21323 bytes at 0x8000000\n",
      "STM32F Programming flash...\n",
      "STM32F Reading flash...\n",
      "Verified flash OK, 21323 bytes\n"
     ]
    },
    {
     "name": "stderr",
     "output_type": "stream",
     "text": [
      "(ChipWhisperer Target WARNING|File SimpleSerial.py:397) Unexpected start to command: \n"
     ]
    },
    {
     "name": "stdout",
     "output_type": "stream",
     "text": [
      "😍ok to continue\n",
      "file deleted\n",
      "(5000, 18)\n",
      "INFO: Found ChipWhisperer😍\n",
      "Detected unknown STM32F ID: 0x446\n",
      "Extended erase (0x44), this can take ten seconds or more\n",
      "Attempting to program 21323 bytes at 0x8000000\n",
      "STM32F Programming flash...\n",
      "STM32F Reading flash...\n",
      "Verified flash OK, 21323 bytes\n"
     ]
    },
    {
     "name": "stderr",
     "output_type": "stream",
     "text": [
      "(ChipWhisperer Target WARNING|File SimpleSerial.py:397) Unexpected start to command: \n"
     ]
    },
    {
     "name": "stdout",
     "output_type": "stream",
     "text": [
      "😍ok to continue\n",
      "file deleted\n",
      "(5000, 19)\n",
      "INFO: Found ChipWhisperer😍\n",
      "Detected unknown STM32F ID: 0x446\n",
      "Extended erase (0x44), this can take ten seconds or more\n",
      "Attempting to program 21323 bytes at 0x8000000\n",
      "STM32F Programming flash...\n",
      "STM32F Reading flash...\n",
      "Verified flash OK, 21323 bytes\n"
     ]
    },
    {
     "name": "stderr",
     "output_type": "stream",
     "text": [
      "(ChipWhisperer Target WARNING|File SimpleSerial.py:397) Unexpected start to command: \n"
     ]
    },
    {
     "name": "stdout",
     "output_type": "stream",
     "text": [
      "😍ok to continue\n",
      "file deleted\n",
      "(5000, 20)\n",
      "INFO: Found ChipWhisperer😍\n",
      "Detected unknown STM32F ID: 0x446\n",
      "Extended erase (0x44), this can take ten seconds or more\n",
      "Attempting to program 21323 bytes at 0x8000000\n",
      "STM32F Programming flash...\n",
      "STM32F Reading flash...\n",
      "Verified flash OK, 21323 bytes\n"
     ]
    },
    {
     "name": "stderr",
     "output_type": "stream",
     "text": [
      "(ChipWhisperer Target WARNING|File SimpleSerial.py:397) Unexpected start to command: \n"
     ]
    },
    {
     "name": "stdout",
     "output_type": "stream",
     "text": [
      "😍ok to continue\n",
      "file deleted\n",
      "(5000, 21)\n",
      "INFO: Found ChipWhisperer😍\n",
      "Detected unknown STM32F ID: 0x446\n",
      "Extended erase (0x44), this can take ten seconds or more\n",
      "Attempting to program 21323 bytes at 0x8000000\n",
      "STM32F Programming flash...\n",
      "STM32F Reading flash...\n",
      "Verified flash OK, 21323 bytes\n"
     ]
    },
    {
     "name": "stderr",
     "output_type": "stream",
     "text": [
      "(ChipWhisperer Target WARNING|File SimpleSerial.py:397) Unexpected start to command: \n"
     ]
    },
    {
     "name": "stdout",
     "output_type": "stream",
     "text": [
      "😍ok to continue\n",
      "file deleted\n",
      "(5000, 22)\n",
      "INFO: Found ChipWhisperer😍\n",
      "Detected unknown STM32F ID: 0x446\n",
      "Extended erase (0x44), this can take ten seconds or more\n",
      "Attempting to program 21323 bytes at 0x8000000\n",
      "STM32F Programming flash...\n",
      "STM32F Reading flash...\n",
      "Verified flash OK, 21323 bytes\n"
     ]
    },
    {
     "name": "stderr",
     "output_type": "stream",
     "text": [
      "(ChipWhisperer Target WARNING|File SimpleSerial.py:397) Unexpected start to command: \n"
     ]
    },
    {
     "name": "stdout",
     "output_type": "stream",
     "text": [
      "😍ok to continue\n",
      "file deleted\n",
      "(5000, 23)\n",
      "INFO: Found ChipWhisperer😍\n",
      "Detected unknown STM32F ID: 0x446\n",
      "Extended erase (0x44), this can take ten seconds or more\n",
      "Attempting to program 21323 bytes at 0x8000000\n",
      "STM32F Programming flash...\n",
      "STM32F Reading flash...\n",
      "Verified flash OK, 21323 bytes\n"
     ]
    },
    {
     "name": "stderr",
     "output_type": "stream",
     "text": [
      "(ChipWhisperer Target WARNING|File SimpleSerial.py:397) Unexpected start to command: \n"
     ]
    },
    {
     "name": "stdout",
     "output_type": "stream",
     "text": [
      "😍ok to continue\n",
      "file deleted\n",
      "(5000, 24)\n",
      "INFO: Found ChipWhisperer😍\n",
      "Detected unknown STM32F ID: 0x446\n",
      "Extended erase (0x44), this can take ten seconds or more\n",
      "Attempting to program 21323 bytes at 0x8000000\n",
      "STM32F Programming flash...\n",
      "STM32F Reading flash...\n",
      "Verified flash OK, 21323 bytes\n"
     ]
    },
    {
     "name": "stderr",
     "output_type": "stream",
     "text": [
      "(ChipWhisperer Target WARNING|File SimpleSerial.py:397) Unexpected start to command: \n"
     ]
    },
    {
     "name": "stdout",
     "output_type": "stream",
     "text": [
      "😍ok to continue\n",
      "file deleted\n",
      "(5000, 25)\n",
      "INFO: Found ChipWhisperer😍\n",
      "Detected unknown STM32F ID: 0x446\n",
      "Extended erase (0x44), this can take ten seconds or more\n",
      "Attempting to program 21323 bytes at 0x8000000\n",
      "STM32F Programming flash...\n",
      "STM32F Reading flash...\n",
      "Verified flash OK, 21323 bytes\n"
     ]
    },
    {
     "name": "stderr",
     "output_type": "stream",
     "text": [
      "(ChipWhisperer Target WARNING|File SimpleSerial.py:397) Unexpected start to command: \n"
     ]
    },
    {
     "name": "stdout",
     "output_type": "stream",
     "text": [
      "😍ok to continue\n",
      "file deleted\n",
      "(5000, 26)\n",
      "INFO: Found ChipWhisperer😍\n",
      "Detected unknown STM32F ID: 0x446\n",
      "Extended erase (0x44), this can take ten seconds or more\n",
      "Attempting to program 21323 bytes at 0x8000000\n",
      "STM32F Programming flash...\n",
      "STM32F Reading flash...\n",
      "Verified flash OK, 21323 bytes\n"
     ]
    },
    {
     "name": "stderr",
     "output_type": "stream",
     "text": [
      "(ChipWhisperer Target WARNING|File SimpleSerial.py:397) Unexpected start to command: \n"
     ]
    },
    {
     "name": "stdout",
     "output_type": "stream",
     "text": [
      "😍ok to continue\n",
      "file deleted\n",
      "(5000, 27)\n",
      "INFO: Found ChipWhisperer😍\n",
      "Detected unknown STM32F ID: 0x446\n",
      "Extended erase (0x44), this can take ten seconds or more\n",
      "Attempting to program 21323 bytes at 0x8000000\n",
      "STM32F Programming flash...\n",
      "STM32F Reading flash...\n",
      "Verified flash OK, 21323 bytes\n"
     ]
    },
    {
     "name": "stderr",
     "output_type": "stream",
     "text": [
      "(ChipWhisperer Target WARNING|File SimpleSerial.py:397) Unexpected start to command: \n"
     ]
    },
    {
     "name": "stdout",
     "output_type": "stream",
     "text": [
      "😍ok to continue\n",
      "file deleted\n",
      "(5000, 28)\n",
      "INFO: Found ChipWhisperer😍\n",
      "Detected unknown STM32F ID: 0x446\n",
      "Extended erase (0x44), this can take ten seconds or more\n",
      "Attempting to program 21323 bytes at 0x8000000\n",
      "STM32F Programming flash...\n",
      "STM32F Reading flash...\n",
      "Verified flash OK, 21323 bytes\n"
     ]
    },
    {
     "name": "stderr",
     "output_type": "stream",
     "text": [
      "(ChipWhisperer Target WARNING|File SimpleSerial.py:397) Unexpected start to command: \n"
     ]
    },
    {
     "name": "stdout",
     "output_type": "stream",
     "text": [
      "😍ok to continue\n",
      "file deleted\n",
      "(5000, 29)\n",
      "INFO: Found ChipWhisperer😍\n",
      "Detected unknown STM32F ID: 0x446\n",
      "Extended erase (0x44), this can take ten seconds or more\n",
      "Attempting to program 21323 bytes at 0x8000000\n",
      "STM32F Programming flash...\n",
      "STM32F Reading flash...\n",
      "Verified flash OK, 21323 bytes\n"
     ]
    },
    {
     "name": "stderr",
     "output_type": "stream",
     "text": [
      "(ChipWhisperer Target WARNING|File SimpleSerial.py:397) Unexpected start to command: \n"
     ]
    },
    {
     "name": "stdout",
     "output_type": "stream",
     "text": [
      "😍ok to continue\n",
      "file deleted\n",
      "(5000, 30)\n",
      "INFO: Found ChipWhisperer😍\n",
      "Detected unknown STM32F ID: 0x446\n",
      "Extended erase (0x44), this can take ten seconds or more\n",
      "Attempting to program 21323 bytes at 0x8000000\n",
      "STM32F Programming flash...\n",
      "STM32F Reading flash...\n",
      "Verified flash OK, 21323 bytes\n"
     ]
    },
    {
     "name": "stderr",
     "output_type": "stream",
     "text": [
      "(ChipWhisperer Target WARNING|File SimpleSerial.py:397) Unexpected start to command: \n"
     ]
    },
    {
     "name": "stdout",
     "output_type": "stream",
     "text": [
      "😍ok to continue\n",
      "file deleted\n",
      "(5000, 31)\n",
      "INFO: Found ChipWhisperer😍\n",
      "Detected unknown STM32F ID: 0x446\n",
      "Extended erase (0x44), this can take ten seconds or more\n",
      "Attempting to program 21323 bytes at 0x8000000\n",
      "STM32F Programming flash...\n",
      "STM32F Reading flash...\n",
      "Verified flash OK, 21323 bytes\n"
     ]
    },
    {
     "name": "stderr",
     "output_type": "stream",
     "text": [
      "(ChipWhisperer Target WARNING|File SimpleSerial.py:397) Unexpected start to command: \n"
     ]
    },
    {
     "name": "stdout",
     "output_type": "stream",
     "text": [
      "😍ok to continue\n",
      "file deleted\n",
      "(5000, 32)\n",
      "INFO: Found ChipWhisperer😍\n",
      "Detected unknown STM32F ID: 0x446\n",
      "Extended erase (0x44), this can take ten seconds or more\n",
      "Attempting to program 21323 bytes at 0x8000000\n",
      "STM32F Programming flash...\n",
      "STM32F Reading flash...\n",
      "Verified flash OK, 21323 bytes\n"
     ]
    },
    {
     "name": "stderr",
     "output_type": "stream",
     "text": [
      "(ChipWhisperer Target WARNING|File SimpleSerial.py:397) Unexpected start to command: \n"
     ]
    },
    {
     "name": "stdout",
     "output_type": "stream",
     "text": [
      "😍ok to continue\n",
      "file deleted\n",
      "(5000, 33)\n",
      "INFO: Found ChipWhisperer😍\n",
      "Detected unknown STM32F ID: 0x446\n",
      "Extended erase (0x44), this can take ten seconds or more\n",
      "Attempting to program 21323 bytes at 0x8000000\n",
      "STM32F Programming flash...\n",
      "STM32F Reading flash...\n",
      "Verified flash OK, 21323 bytes\n"
     ]
    },
    {
     "name": "stderr",
     "output_type": "stream",
     "text": [
      "(ChipWhisperer Target WARNING|File SimpleSerial.py:397) Unexpected start to command: \n"
     ]
    },
    {
     "name": "stdout",
     "output_type": "stream",
     "text": [
      "😍ok to continue\n",
      "file deleted\n",
      "(5000, 34)\n",
      "INFO: Found ChipWhisperer😍\n",
      "Detected unknown STM32F ID: 0x446\n",
      "Extended erase (0x44), this can take ten seconds or more\n",
      "Attempting to program 21323 bytes at 0x8000000\n",
      "STM32F Programming flash...\n",
      "STM32F Reading flash...\n",
      "Verified flash OK, 21323 bytes\n"
     ]
    },
    {
     "name": "stderr",
     "output_type": "stream",
     "text": [
      "(ChipWhisperer Target WARNING|File SimpleSerial.py:397) Unexpected start to command: \n"
     ]
    },
    {
     "name": "stdout",
     "output_type": "stream",
     "text": [
      "😍ok to continue\n",
      "file deleted\n",
      "(5000, 35)\n",
      "INFO: Found ChipWhisperer😍\n",
      "Detected unknown STM32F ID: 0x446\n",
      "Extended erase (0x44), this can take ten seconds or more\n",
      "Attempting to program 21323 bytes at 0x8000000\n",
      "STM32F Programming flash...\n",
      "STM32F Reading flash...\n",
      "Verified flash OK, 21323 bytes\n"
     ]
    },
    {
     "name": "stderr",
     "output_type": "stream",
     "text": [
      "(ChipWhisperer Target WARNING|File SimpleSerial.py:397) Unexpected start to command: \n"
     ]
    },
    {
     "name": "stdout",
     "output_type": "stream",
     "text": [
      "😍ok to continue\n",
      "file deleted\n",
      "(5000, 36)\n",
      "INFO: Found ChipWhisperer😍\n",
      "Detected unknown STM32F ID: 0x446\n",
      "Extended erase (0x44), this can take ten seconds or more\n",
      "Attempting to program 21323 bytes at 0x8000000\n",
      "STM32F Programming flash...\n",
      "STM32F Reading flash...\n",
      "Verified flash OK, 21323 bytes\n"
     ]
    },
    {
     "name": "stderr",
     "output_type": "stream",
     "text": [
      "(ChipWhisperer Target WARNING|File SimpleSerial.py:397) Unexpected start to command: \n"
     ]
    },
    {
     "name": "stdout",
     "output_type": "stream",
     "text": [
      "😍ok to continue\n",
      "file deleted\n",
      "(5000, 37)\n",
      "INFO: Found ChipWhisperer😍\n",
      "Detected unknown STM32F ID: 0x446\n",
      "Extended erase (0x44), this can take ten seconds or more\n",
      "Attempting to program 21323 bytes at 0x8000000\n",
      "STM32F Programming flash...\n",
      "STM32F Reading flash...\n",
      "Verified flash OK, 21323 bytes\n"
     ]
    },
    {
     "name": "stderr",
     "output_type": "stream",
     "text": [
      "(ChipWhisperer Target WARNING|File SimpleSerial.py:397) Unexpected start to command: \n"
     ]
    },
    {
     "name": "stdout",
     "output_type": "stream",
     "text": [
      "😍ok to continue\n",
      "file deleted\n",
      "(5000, 38)\n",
      "INFO: Found ChipWhisperer😍\n",
      "Detected unknown STM32F ID: 0x446\n",
      "Extended erase (0x44), this can take ten seconds or more\n",
      "Attempting to program 21323 bytes at 0x8000000\n",
      "STM32F Programming flash...\n",
      "STM32F Reading flash...\n",
      "Verified flash OK, 21323 bytes\n"
     ]
    },
    {
     "name": "stderr",
     "output_type": "stream",
     "text": [
      "(ChipWhisperer Target WARNING|File SimpleSerial.py:397) Unexpected start to command: \n"
     ]
    },
    {
     "name": "stdout",
     "output_type": "stream",
     "text": [
      "😍ok to continue\n",
      "file deleted\n",
      "(5000, 39)\n",
      "INFO: Found ChipWhisperer😍\n",
      "Detected unknown STM32F ID: 0x446\n",
      "Extended erase (0x44), this can take ten seconds or more\n",
      "Attempting to program 21323 bytes at 0x8000000\n",
      "STM32F Programming flash...\n",
      "STM32F Reading flash...\n",
      "Verified flash OK, 21323 bytes\n"
     ]
    },
    {
     "name": "stderr",
     "output_type": "stream",
     "text": [
      "(ChipWhisperer Target WARNING|File SimpleSerial.py:397) Unexpected start to command: \n"
     ]
    },
    {
     "name": "stdout",
     "output_type": "stream",
     "text": [
      "😍ok to continue\n",
      "file deleted\n",
      "(5000, 40)\n",
      "INFO: Found ChipWhisperer😍\n",
      "Detected unknown STM32F ID: 0x446\n",
      "Extended erase (0x44), this can take ten seconds or more\n",
      "Attempting to program 21323 bytes at 0x8000000\n",
      "STM32F Programming flash...\n",
      "STM32F Reading flash...\n",
      "Verified flash OK, 21323 bytes\n"
     ]
    },
    {
     "name": "stderr",
     "output_type": "stream",
     "text": [
      "(ChipWhisperer Target WARNING|File SimpleSerial.py:397) Unexpected start to command: \n"
     ]
    },
    {
     "name": "stdout",
     "output_type": "stream",
     "text": [
      "😍ok to continue\n",
      "file deleted\n",
      "(5000, 41)\n",
      "INFO: Found ChipWhisperer😍\n",
      "Detected unknown STM32F ID: 0x446\n",
      "Extended erase (0x44), this can take ten seconds or more\n",
      "Attempting to program 21323 bytes at 0x8000000\n",
      "STM32F Programming flash...\n",
      "STM32F Reading flash...\n",
      "Verified flash OK, 21323 bytes\n"
     ]
    },
    {
     "name": "stderr",
     "output_type": "stream",
     "text": [
      "(ChipWhisperer Target WARNING|File SimpleSerial.py:397) Unexpected start to command: \n"
     ]
    },
    {
     "name": "stdout",
     "output_type": "stream",
     "text": [
      "😍ok to continue\n",
      "file deleted\n",
      "(5000, 42)\n",
      "INFO: Found ChipWhisperer😍\n",
      "Detected unknown STM32F ID: 0x446\n",
      "Extended erase (0x44), this can take ten seconds or more\n",
      "Attempting to program 21323 bytes at 0x8000000\n",
      "STM32F Programming flash...\n",
      "STM32F Reading flash...\n",
      "Verified flash OK, 21323 bytes\n"
     ]
    },
    {
     "name": "stderr",
     "output_type": "stream",
     "text": [
      "(ChipWhisperer Target WARNING|File SimpleSerial.py:397) Unexpected start to command: \n"
     ]
    },
    {
     "name": "stdout",
     "output_type": "stream",
     "text": [
      "😍ok to continue\n",
      "file deleted\n",
      "(5000, 43)\n",
      "INFO: Found ChipWhisperer😍\n",
      "Detected unknown STM32F ID: 0x446\n",
      "Extended erase (0x44), this can take ten seconds or more\n",
      "Attempting to program 21323 bytes at 0x8000000\n",
      "STM32F Programming flash...\n",
      "STM32F Reading flash...\n",
      "Verified flash OK, 21323 bytes\n"
     ]
    },
    {
     "name": "stderr",
     "output_type": "stream",
     "text": [
      "(ChipWhisperer Target WARNING|File SimpleSerial.py:397) Unexpected start to command: \n"
     ]
    },
    {
     "name": "stdout",
     "output_type": "stream",
     "text": [
      "😍ok to continue\n",
      "file deleted\n",
      "(5000, 44)\n",
      "INFO: Found ChipWhisperer😍\n",
      "Detected unknown STM32F ID: 0x446\n",
      "Extended erase (0x44), this can take ten seconds or more\n",
      "Attempting to program 21323 bytes at 0x8000000\n",
      "STM32F Programming flash...\n",
      "STM32F Reading flash...\n",
      "Verified flash OK, 21323 bytes\n"
     ]
    },
    {
     "name": "stderr",
     "output_type": "stream",
     "text": [
      "(ChipWhisperer Target WARNING|File SimpleSerial.py:397) Unexpected start to command: \n"
     ]
    },
    {
     "name": "stdout",
     "output_type": "stream",
     "text": [
      "😍ok to continue\n",
      "file deleted\n",
      "(5000, 45)\n",
      "INFO: Found ChipWhisperer😍\n",
      "Detected unknown STM32F ID: 0x446\n",
      "Extended erase (0x44), this can take ten seconds or more\n",
      "Attempting to program 21323 bytes at 0x8000000\n",
      "STM32F Programming flash...\n",
      "STM32F Reading flash...\n",
      "Verified flash OK, 21323 bytes\n"
     ]
    },
    {
     "name": "stderr",
     "output_type": "stream",
     "text": [
      "(ChipWhisperer Target WARNING|File SimpleSerial.py:397) Unexpected start to command: \n"
     ]
    },
    {
     "name": "stdout",
     "output_type": "stream",
     "text": [
      "😍ok to continue\n",
      "file deleted\n",
      "(5000, 46)\n",
      "INFO: Found ChipWhisperer😍\n",
      "Detected unknown STM32F ID: 0x446\n",
      "Extended erase (0x44), this can take ten seconds or more\n",
      "Attempting to program 21323 bytes at 0x8000000\n",
      "STM32F Programming flash...\n",
      "STM32F Reading flash...\n",
      "Verified flash OK, 21323 bytes\n"
     ]
    },
    {
     "name": "stderr",
     "output_type": "stream",
     "text": [
      "(ChipWhisperer Target WARNING|File SimpleSerial.py:397) Unexpected start to command: \n"
     ]
    },
    {
     "name": "stdout",
     "output_type": "stream",
     "text": [
      "😍ok to continue\n",
      "file deleted\n",
      "(5000, 47)\n",
      "INFO: Found ChipWhisperer😍\n",
      "Detected unknown STM32F ID: 0x446\n",
      "Extended erase (0x44), this can take ten seconds or more\n",
      "Attempting to program 21323 bytes at 0x8000000\n",
      "STM32F Programming flash...\n",
      "STM32F Reading flash...\n",
      "Verified flash OK, 21323 bytes\n"
     ]
    },
    {
     "name": "stderr",
     "output_type": "stream",
     "text": [
      "(ChipWhisperer Target WARNING|File SimpleSerial.py:397) Unexpected start to command: \n"
     ]
    },
    {
     "name": "stdout",
     "output_type": "stream",
     "text": [
      "😍ok to continue\n",
      "file deleted\n",
      "(5000, 48)\n",
      "INFO: Found ChipWhisperer😍\n",
      "Detected unknown STM32F ID: 0x446\n",
      "Extended erase (0x44), this can take ten seconds or more\n",
      "Attempting to program 21323 bytes at 0x8000000\n",
      "STM32F Programming flash...\n",
      "STM32F Reading flash...\n",
      "Verified flash OK, 21323 bytes\n"
     ]
    },
    {
     "name": "stderr",
     "output_type": "stream",
     "text": [
      "(ChipWhisperer Target WARNING|File SimpleSerial.py:397) Unexpected start to command: \n"
     ]
    },
    {
     "name": "stdout",
     "output_type": "stream",
     "text": [
      "😍ok to continue\n",
      "file deleted\n",
      "(5000, 49)\n",
      "INFO: Found ChipWhisperer😍\n",
      "Detected unknown STM32F ID: 0x446\n",
      "Extended erase (0x44), this can take ten seconds or more\n",
      "Attempting to program 21323 bytes at 0x8000000\n",
      "STM32F Programming flash...\n",
      "STM32F Reading flash...\n",
      "Verified flash OK, 21323 bytes\n"
     ]
    },
    {
     "name": "stderr",
     "output_type": "stream",
     "text": [
      "(ChipWhisperer Target WARNING|File SimpleSerial.py:397) Unexpected start to command: \n"
     ]
    },
    {
     "name": "stdout",
     "output_type": "stream",
     "text": [
      "😍ok to continue\n",
      "file deleted\n",
      "(5000, 50)\n",
      "INFO: Found ChipWhisperer😍\n",
      "Detected unknown STM32F ID: 0x446\n",
      "Extended erase (0x44), this can take ten seconds or more\n",
      "Attempting to program 21323 bytes at 0x8000000\n",
      "STM32F Programming flash...\n",
      "STM32F Reading flash...\n",
      "Verified flash OK, 21323 bytes\n"
     ]
    },
    {
     "name": "stderr",
     "output_type": "stream",
     "text": [
      "(ChipWhisperer Target WARNING|File SimpleSerial.py:397) Unexpected start to command: \n"
     ]
    },
    {
     "name": "stdout",
     "output_type": "stream",
     "text": [
      "😍ok to continue\n",
      "file deleted\n",
      "(5000, 51)\n",
      "INFO: Found ChipWhisperer😍\n",
      "Detected unknown STM32F ID: 0x446\n",
      "Extended erase (0x44), this can take ten seconds or more\n",
      "Attempting to program 21323 bytes at 0x8000000\n",
      "STM32F Programming flash...\n",
      "STM32F Reading flash...\n",
      "Verified flash OK, 21323 bytes\n"
     ]
    },
    {
     "name": "stderr",
     "output_type": "stream",
     "text": [
      "(ChipWhisperer Target WARNING|File SimpleSerial.py:397) Unexpected start to command: \n"
     ]
    },
    {
     "name": "stdout",
     "output_type": "stream",
     "text": [
      "😍ok to continue\n",
      "file deleted\n",
      "(5000, 52)\n",
      "INFO: Found ChipWhisperer😍\n",
      "Detected unknown STM32F ID: 0x446\n",
      "Extended erase (0x44), this can take ten seconds or more\n",
      "Attempting to program 21323 bytes at 0x8000000\n",
      "STM32F Programming flash...\n",
      "STM32F Reading flash...\n",
      "Verified flash OK, 21323 bytes\n"
     ]
    },
    {
     "name": "stderr",
     "output_type": "stream",
     "text": [
      "(ChipWhisperer Target WARNING|File SimpleSerial.py:397) Unexpected start to command: \n"
     ]
    },
    {
     "name": "stdout",
     "output_type": "stream",
     "text": [
      "😍ok to continue\n",
      "file deleted\n",
      "(5000, 53)\n",
      "INFO: Found ChipWhisperer😍\n",
      "Detected unknown STM32F ID: 0x446\n",
      "Extended erase (0x44), this can take ten seconds or more\n",
      "Attempting to program 21323 bytes at 0x8000000\n",
      "STM32F Programming flash...\n",
      "STM32F Reading flash...\n",
      "Verified flash OK, 21323 bytes\n"
     ]
    },
    {
     "name": "stderr",
     "output_type": "stream",
     "text": [
      "(ChipWhisperer Target WARNING|File SimpleSerial.py:397) Unexpected start to command: \n"
     ]
    },
    {
     "name": "stdout",
     "output_type": "stream",
     "text": [
      "😍ok to continue\n",
      "file deleted\n",
      "(5000, 54)\n",
      "INFO: Found ChipWhisperer😍\n",
      "Detected unknown STM32F ID: 0x446\n",
      "Extended erase (0x44), this can take ten seconds or more\n",
      "Attempting to program 21323 bytes at 0x8000000\n",
      "STM32F Programming flash...\n",
      "STM32F Reading flash...\n",
      "Verified flash OK, 21323 bytes\n"
     ]
    },
    {
     "name": "stderr",
     "output_type": "stream",
     "text": [
      "(ChipWhisperer Target WARNING|File SimpleSerial.py:397) Unexpected start to command: \n"
     ]
    },
    {
     "name": "stdout",
     "output_type": "stream",
     "text": [
      "😍ok to continue\n",
      "file deleted\n",
      "(5000, 55)\n",
      "INFO: Found ChipWhisperer😍\n",
      "Detected unknown STM32F ID: 0x446\n",
      "Extended erase (0x44), this can take ten seconds or more\n",
      "Attempting to program 21323 bytes at 0x8000000\n",
      "STM32F Programming flash...\n",
      "STM32F Reading flash...\n",
      "Verified flash OK, 21323 bytes\n"
     ]
    },
    {
     "name": "stderr",
     "output_type": "stream",
     "text": [
      "(ChipWhisperer Target WARNING|File SimpleSerial.py:397) Unexpected start to command: \n"
     ]
    },
    {
     "name": "stdout",
     "output_type": "stream",
     "text": [
      "😍ok to continue\n",
      "file deleted\n",
      "(5000, 56)\n",
      "INFO: Found ChipWhisperer😍\n",
      "Detected unknown STM32F ID: 0x446\n",
      "Extended erase (0x44), this can take ten seconds or more\n",
      "Attempting to program 21323 bytes at 0x8000000\n",
      "STM32F Programming flash...\n",
      "STM32F Reading flash...\n",
      "Verified flash OK, 21323 bytes\n"
     ]
    },
    {
     "name": "stderr",
     "output_type": "stream",
     "text": [
      "(ChipWhisperer Target WARNING|File SimpleSerial.py:397) Unexpected start to command: \n"
     ]
    },
    {
     "name": "stdout",
     "output_type": "stream",
     "text": [
      "😍ok to continue\n",
      "file deleted\n",
      "(5000, 57)\n",
      "INFO: Found ChipWhisperer😍\n",
      "Detected unknown STM32F ID: 0x446\n",
      "Extended erase (0x44), this can take ten seconds or more\n",
      "Attempting to program 21323 bytes at 0x8000000\n",
      "STM32F Programming flash...\n",
      "STM32F Reading flash...\n",
      "Verified flash OK, 21323 bytes\n"
     ]
    },
    {
     "name": "stderr",
     "output_type": "stream",
     "text": [
      "(ChipWhisperer Target WARNING|File SimpleSerial.py:397) Unexpected start to command: \n"
     ]
    },
    {
     "name": "stdout",
     "output_type": "stream",
     "text": [
      "😍ok to continue\n",
      "file deleted\n",
      "(5000, 58)\n",
      "INFO: Found ChipWhisperer😍\n",
      "Detected unknown STM32F ID: 0x446\n",
      "Extended erase (0x44), this can take ten seconds or more\n",
      "Attempting to program 21323 bytes at 0x8000000\n",
      "STM32F Programming flash...\n",
      "STM32F Reading flash...\n",
      "Verified flash OK, 21323 bytes\n"
     ]
    },
    {
     "name": "stderr",
     "output_type": "stream",
     "text": [
      "(ChipWhisperer Target WARNING|File SimpleSerial.py:397) Unexpected start to command: \n"
     ]
    },
    {
     "name": "stdout",
     "output_type": "stream",
     "text": [
      "😍ok to continue\n",
      "file deleted\n",
      "(5000, 59)\n",
      "INFO: Found ChipWhisperer😍\n",
      "Detected unknown STM32F ID: 0x446\n",
      "Extended erase (0x44), this can take ten seconds or more\n",
      "Attempting to program 21323 bytes at 0x8000000\n",
      "STM32F Programming flash...\n",
      "STM32F Reading flash...\n",
      "Verified flash OK, 21323 bytes\n"
     ]
    },
    {
     "name": "stderr",
     "output_type": "stream",
     "text": [
      "(ChipWhisperer Target WARNING|File SimpleSerial.py:397) Unexpected start to command: \n"
     ]
    },
    {
     "name": "stdout",
     "output_type": "stream",
     "text": [
      "😍ok to continue\n",
      "file deleted\n",
      "(5000, 60)\n",
      "INFO: Found ChipWhisperer😍\n",
      "Detected unknown STM32F ID: 0x446\n",
      "Extended erase (0x44), this can take ten seconds or more\n",
      "Attempting to program 21323 bytes at 0x8000000\n",
      "STM32F Programming flash...\n",
      "STM32F Reading flash...\n",
      "Verified flash OK, 21323 bytes\n"
     ]
    },
    {
     "name": "stderr",
     "output_type": "stream",
     "text": [
      "(ChipWhisperer Target WARNING|File SimpleSerial.py:397) Unexpected start to command: \n"
     ]
    },
    {
     "name": "stdout",
     "output_type": "stream",
     "text": [
      "😍ok to continue\n",
      "file deleted\n",
      "(5000, 61)\n",
      "INFO: Found ChipWhisperer😍\n",
      "Detected unknown STM32F ID: 0x446\n",
      "Extended erase (0x44), this can take ten seconds or more\n",
      "Attempting to program 21323 bytes at 0x8000000\n",
      "STM32F Programming flash...\n",
      "STM32F Reading flash...\n",
      "Verified flash OK, 21323 bytes\n"
     ]
    },
    {
     "name": "stderr",
     "output_type": "stream",
     "text": [
      "(ChipWhisperer Target WARNING|File SimpleSerial.py:397) Unexpected start to command: \n"
     ]
    },
    {
     "name": "stdout",
     "output_type": "stream",
     "text": [
      "😍ok to continue\n",
      "file deleted\n",
      "(5000, 62)\n",
      "INFO: Found ChipWhisperer😍\n",
      "Detected unknown STM32F ID: 0x446\n",
      "Extended erase (0x44), this can take ten seconds or more\n",
      "Attempting to program 21323 bytes at 0x8000000\n",
      "STM32F Programming flash...\n",
      "STM32F Reading flash...\n",
      "Verified flash OK, 21323 bytes\n"
     ]
    },
    {
     "name": "stderr",
     "output_type": "stream",
     "text": [
      "(ChipWhisperer Target WARNING|File SimpleSerial.py:397) Unexpected start to command: \n"
     ]
    },
    {
     "name": "stdout",
     "output_type": "stream",
     "text": [
      "😍ok to continue\n",
      "file deleted\n",
      "(5000, 63)\n",
      "INFO: Found ChipWhisperer😍\n",
      "Detected unknown STM32F ID: 0x446\n",
      "Extended erase (0x44), this can take ten seconds or more\n",
      "Attempting to program 21323 bytes at 0x8000000\n",
      "STM32F Programming flash...\n",
      "STM32F Reading flash...\n",
      "Verified flash OK, 21323 bytes\n"
     ]
    },
    {
     "name": "stderr",
     "output_type": "stream",
     "text": [
      "(ChipWhisperer Target WARNING|File SimpleSerial.py:397) Unexpected start to command: \n"
     ]
    },
    {
     "name": "stdout",
     "output_type": "stream",
     "text": [
      "😍ok to continue\n",
      "file deleted\n",
      "(5000, 64)\n",
      "INFO: Found ChipWhisperer😍\n",
      "Detected unknown STM32F ID: 0x446\n",
      "Extended erase (0x44), this can take ten seconds or more\n",
      "Attempting to program 21323 bytes at 0x8000000\n",
      "STM32F Programming flash...\n",
      "STM32F Reading flash...\n",
      "Verified flash OK, 21323 bytes\n"
     ]
    },
    {
     "name": "stderr",
     "output_type": "stream",
     "text": [
      "(ChipWhisperer Target WARNING|File SimpleSerial.py:397) Unexpected start to command: \n"
     ]
    },
    {
     "name": "stdout",
     "output_type": "stream",
     "text": [
      "😍ok to continue\n",
      "file deleted\n",
      "(5000, 65)\n",
      "INFO: Found ChipWhisperer😍\n",
      "Detected unknown STM32F ID: 0x446\n",
      "Extended erase (0x44), this can take ten seconds or more\n",
      "Attempting to program 21323 bytes at 0x8000000\n",
      "STM32F Programming flash...\n",
      "STM32F Reading flash...\n",
      "Verified flash OK, 21323 bytes\n"
     ]
    },
    {
     "name": "stderr",
     "output_type": "stream",
     "text": [
      "(ChipWhisperer Target WARNING|File SimpleSerial.py:397) Unexpected start to command: \n"
     ]
    },
    {
     "name": "stdout",
     "output_type": "stream",
     "text": [
      "😍ok to continue\n",
      "file deleted\n",
      "(5000, 66)\n",
      "INFO: Found ChipWhisperer😍\n",
      "Detected unknown STM32F ID: 0x446\n",
      "Extended erase (0x44), this can take ten seconds or more\n",
      "Attempting to program 21323 bytes at 0x8000000\n",
      "STM32F Programming flash...\n",
      "STM32F Reading flash...\n",
      "Verified flash OK, 21323 bytes\n"
     ]
    },
    {
     "name": "stderr",
     "output_type": "stream",
     "text": [
      "(ChipWhisperer Target WARNING|File SimpleSerial.py:397) Unexpected start to command: \n"
     ]
    },
    {
     "name": "stdout",
     "output_type": "stream",
     "text": [
      "😍ok to continue\n",
      "file deleted\n",
      "(5000, 67)\n",
      "INFO: Found ChipWhisperer😍\n",
      "Detected unknown STM32F ID: 0x446\n",
      "Extended erase (0x44), this can take ten seconds or more\n",
      "Attempting to program 21323 bytes at 0x8000000\n",
      "STM32F Programming flash...\n",
      "STM32F Reading flash...\n",
      "Verified flash OK, 21323 bytes\n"
     ]
    },
    {
     "name": "stderr",
     "output_type": "stream",
     "text": [
      "(ChipWhisperer Target WARNING|File SimpleSerial.py:397) Unexpected start to command: \n"
     ]
    },
    {
     "name": "stdout",
     "output_type": "stream",
     "text": [
      "😍ok to continue\n",
      "file deleted\n",
      "(5000, 68)\n",
      "INFO: Found ChipWhisperer😍\n",
      "Detected unknown STM32F ID: 0x446\n",
      "Extended erase (0x44), this can take ten seconds or more\n",
      "Attempting to program 21323 bytes at 0x8000000\n",
      "STM32F Programming flash...\n",
      "STM32F Reading flash...\n",
      "Verified flash OK, 21323 bytes\n"
     ]
    },
    {
     "name": "stderr",
     "output_type": "stream",
     "text": [
      "(ChipWhisperer Target WARNING|File SimpleSerial.py:397) Unexpected start to command: \n"
     ]
    },
    {
     "name": "stdout",
     "output_type": "stream",
     "text": [
      "😍ok to continue\n",
      "file deleted\n",
      "(5000, 69)\n",
      "INFO: Found ChipWhisperer😍\n",
      "Detected unknown STM32F ID: 0x446\n",
      "Extended erase (0x44), this can take ten seconds or more\n",
      "Attempting to program 21323 bytes at 0x8000000\n",
      "STM32F Programming flash...\n",
      "STM32F Reading flash...\n",
      "Verified flash OK, 21323 bytes\n"
     ]
    },
    {
     "name": "stderr",
     "output_type": "stream",
     "text": [
      "(ChipWhisperer Target WARNING|File SimpleSerial.py:397) Unexpected start to command: \n"
     ]
    },
    {
     "name": "stdout",
     "output_type": "stream",
     "text": [
      "😍ok to continue\n",
      "file deleted\n",
      "(5000, 70)\n",
      "INFO: Found ChipWhisperer😍\n",
      "Detected unknown STM32F ID: 0x446\n",
      "Extended erase (0x44), this can take ten seconds or more\n",
      "Attempting to program 21323 bytes at 0x8000000\n",
      "STM32F Programming flash...\n",
      "STM32F Reading flash...\n",
      "Verified flash OK, 21323 bytes\n"
     ]
    },
    {
     "name": "stderr",
     "output_type": "stream",
     "text": [
      "(ChipWhisperer Target WARNING|File SimpleSerial.py:397) Unexpected start to command: \n"
     ]
    },
    {
     "name": "stdout",
     "output_type": "stream",
     "text": [
      "😍ok to continue\n",
      "file deleted\n",
      "(5000, 71)\n",
      "INFO: Found ChipWhisperer😍\n",
      "Detected unknown STM32F ID: 0x446\n",
      "Extended erase (0x44), this can take ten seconds or more\n",
      "Attempting to program 21323 bytes at 0x8000000\n",
      "STM32F Programming flash...\n",
      "STM32F Reading flash...\n",
      "Verified flash OK, 21323 bytes\n"
     ]
    },
    {
     "name": "stderr",
     "output_type": "stream",
     "text": [
      "(ChipWhisperer Target WARNING|File SimpleSerial.py:397) Unexpected start to command: \n"
     ]
    },
    {
     "name": "stdout",
     "output_type": "stream",
     "text": [
      "😍ok to continue\n",
      "file deleted\n",
      "(5000, 72)\n",
      "INFO: Found ChipWhisperer😍\n",
      "Detected unknown STM32F ID: 0x446\n",
      "Extended erase (0x44), this can take ten seconds or more\n",
      "Attempting to program 21323 bytes at 0x8000000\n",
      "STM32F Programming flash...\n",
      "STM32F Reading flash...\n",
      "Verified flash OK, 21323 bytes\n"
     ]
    },
    {
     "name": "stderr",
     "output_type": "stream",
     "text": [
      "(ChipWhisperer Target WARNING|File SimpleSerial.py:397) Unexpected start to command: \n"
     ]
    },
    {
     "name": "stdout",
     "output_type": "stream",
     "text": [
      "😍ok to continue\n",
      "file deleted\n",
      "(5000, 73)\n",
      "INFO: Found ChipWhisperer😍\n",
      "Detected unknown STM32F ID: 0x446\n",
      "Extended erase (0x44), this can take ten seconds or more\n",
      "Attempting to program 21323 bytes at 0x8000000\n",
      "STM32F Programming flash...\n",
      "STM32F Reading flash...\n",
      "Verified flash OK, 21323 bytes\n"
     ]
    },
    {
     "name": "stderr",
     "output_type": "stream",
     "text": [
      "(ChipWhisperer Target WARNING|File SimpleSerial.py:397) Unexpected start to command: \n"
     ]
    },
    {
     "name": "stdout",
     "output_type": "stream",
     "text": [
      "😍ok to continue\n",
      "file deleted\n",
      "(5000, 74)\n",
      "INFO: Found ChipWhisperer😍\n",
      "Detected unknown STM32F ID: 0x446\n",
      "Extended erase (0x44), this can take ten seconds or more\n",
      "Attempting to program 21323 bytes at 0x8000000\n",
      "STM32F Programming flash...\n",
      "STM32F Reading flash...\n",
      "Verified flash OK, 21323 bytes\n"
     ]
    },
    {
     "name": "stderr",
     "output_type": "stream",
     "text": [
      "(ChipWhisperer Target WARNING|File SimpleSerial.py:397) Unexpected start to command: \n"
     ]
    },
    {
     "name": "stdout",
     "output_type": "stream",
     "text": [
      "😍ok to continue\n",
      "file deleted\n",
      "(5000, 75)\n",
      "INFO: Found ChipWhisperer😍\n",
      "Detected unknown STM32F ID: 0x446\n",
      "Extended erase (0x44), this can take ten seconds or more\n",
      "Attempting to program 21323 bytes at 0x8000000\n",
      "STM32F Programming flash...\n",
      "STM32F Reading flash...\n",
      "Verified flash OK, 21323 bytes\n"
     ]
    },
    {
     "name": "stderr",
     "output_type": "stream",
     "text": [
      "(ChipWhisperer Target WARNING|File SimpleSerial.py:397) Unexpected start to command: \n"
     ]
    },
    {
     "name": "stdout",
     "output_type": "stream",
     "text": [
      "😍ok to continue\n",
      "file deleted\n",
      "(5000, 76)\n",
      "INFO: Found ChipWhisperer😍\n",
      "Detected unknown STM32F ID: 0x446\n",
      "Extended erase (0x44), this can take ten seconds or more\n",
      "Attempting to program 21323 bytes at 0x8000000\n",
      "STM32F Programming flash...\n",
      "STM32F Reading flash...\n",
      "Verified flash OK, 21323 bytes\n"
     ]
    },
    {
     "name": "stderr",
     "output_type": "stream",
     "text": [
      "(ChipWhisperer Target WARNING|File SimpleSerial.py:397) Unexpected start to command: \n"
     ]
    },
    {
     "name": "stdout",
     "output_type": "stream",
     "text": [
      "😍ok to continue\n",
      "file deleted\n",
      "(5000, 77)\n",
      "INFO: Found ChipWhisperer😍\n",
      "Detected unknown STM32F ID: 0x446\n",
      "Extended erase (0x44), this can take ten seconds or more\n",
      "Attempting to program 21323 bytes at 0x8000000\n",
      "STM32F Programming flash...\n",
      "STM32F Reading flash...\n",
      "Verified flash OK, 21323 bytes\n"
     ]
    },
    {
     "name": "stderr",
     "output_type": "stream",
     "text": [
      "(ChipWhisperer Target WARNING|File SimpleSerial.py:397) Unexpected start to command: \n"
     ]
    },
    {
     "name": "stdout",
     "output_type": "stream",
     "text": [
      "😍ok to continue\n",
      "file deleted\n",
      "(5000, 78)\n",
      "INFO: Found ChipWhisperer😍\n",
      "Detected unknown STM32F ID: 0x446\n",
      "Extended erase (0x44), this can take ten seconds or more\n",
      "Attempting to program 21323 bytes at 0x8000000\n",
      "STM32F Programming flash...\n",
      "STM32F Reading flash...\n",
      "Verified flash OK, 21323 bytes\n"
     ]
    },
    {
     "name": "stderr",
     "output_type": "stream",
     "text": [
      "(ChipWhisperer Target WARNING|File SimpleSerial.py:397) Unexpected start to command: \n"
     ]
    },
    {
     "name": "stdout",
     "output_type": "stream",
     "text": [
      "😍ok to continue\n",
      "file deleted\n",
      "(5000, 79)\n",
      "INFO: Found ChipWhisperer😍\n",
      "Detected unknown STM32F ID: 0x446\n",
      "Extended erase (0x44), this can take ten seconds or more\n",
      "Attempting to program 21323 bytes at 0x8000000\n",
      "STM32F Programming flash...\n",
      "STM32F Reading flash...\n",
      "Verified flash OK, 21323 bytes\n"
     ]
    },
    {
     "name": "stderr",
     "output_type": "stream",
     "text": [
      "(ChipWhisperer Target WARNING|File SimpleSerial.py:397) Unexpected start to command: \n"
     ]
    },
    {
     "name": "stdout",
     "output_type": "stream",
     "text": [
      "😍ok to continue\n",
      "file deleted\n",
      "(5000, 80)\n",
      "INFO: Found ChipWhisperer😍\n",
      "Detected unknown STM32F ID: 0x446\n",
      "Extended erase (0x44), this can take ten seconds or more\n",
      "Attempting to program 21323 bytes at 0x8000000\n",
      "STM32F Programming flash...\n",
      "STM32F Reading flash...\n",
      "Verified flash OK, 21323 bytes\n"
     ]
    },
    {
     "name": "stderr",
     "output_type": "stream",
     "text": [
      "(ChipWhisperer Target WARNING|File SimpleSerial.py:397) Unexpected start to command: \n"
     ]
    },
    {
     "name": "stdout",
     "output_type": "stream",
     "text": [
      "😍ok to continue\n",
      "file deleted\n",
      "(5000, 81)\n",
      "INFO: Found ChipWhisperer😍\n",
      "Detected unknown STM32F ID: 0x446\n",
      "Extended erase (0x44), this can take ten seconds or more\n",
      "Attempting to program 21323 bytes at 0x8000000\n",
      "STM32F Programming flash...\n",
      "STM32F Reading flash...\n",
      "Verified flash OK, 21323 bytes\n"
     ]
    },
    {
     "name": "stderr",
     "output_type": "stream",
     "text": [
      "(ChipWhisperer Target WARNING|File SimpleSerial.py:397) Unexpected start to command: \n"
     ]
    },
    {
     "name": "stdout",
     "output_type": "stream",
     "text": [
      "😍ok to continue\n",
      "file deleted\n",
      "(5000, 82)\n",
      "INFO: Found ChipWhisperer😍\n",
      "Detected unknown STM32F ID: 0x446\n",
      "Extended erase (0x44), this can take ten seconds or more\n",
      "Attempting to program 21323 bytes at 0x8000000\n",
      "STM32F Programming flash...\n",
      "STM32F Reading flash...\n",
      "Verified flash OK, 21323 bytes\n"
     ]
    },
    {
     "name": "stderr",
     "output_type": "stream",
     "text": [
      "(ChipWhisperer Target WARNING|File SimpleSerial.py:397) Unexpected start to command: \n"
     ]
    },
    {
     "name": "stdout",
     "output_type": "stream",
     "text": [
      "😍ok to continue\n",
      "file deleted\n",
      "(5000, 83)\n",
      "INFO: Found ChipWhisperer😍\n",
      "Detected unknown STM32F ID: 0x446\n",
      "Extended erase (0x44), this can take ten seconds or more\n",
      "Attempting to program 21323 bytes at 0x8000000\n",
      "STM32F Programming flash...\n",
      "STM32F Reading flash...\n",
      "Verified flash OK, 21323 bytes\n"
     ]
    },
    {
     "name": "stderr",
     "output_type": "stream",
     "text": [
      "(ChipWhisperer Target WARNING|File SimpleSerial.py:397) Unexpected start to command: \n"
     ]
    },
    {
     "name": "stdout",
     "output_type": "stream",
     "text": [
      "😍ok to continue\n",
      "file deleted\n",
      "(5000, 84)\n",
      "INFO: Found ChipWhisperer😍\n",
      "Detected unknown STM32F ID: 0x446\n",
      "Extended erase (0x44), this can take ten seconds or more\n",
      "Attempting to program 21323 bytes at 0x8000000\n",
      "STM32F Programming flash...\n",
      "STM32F Reading flash...\n",
      "Verified flash OK, 21323 bytes\n"
     ]
    },
    {
     "name": "stderr",
     "output_type": "stream",
     "text": [
      "(ChipWhisperer Target WARNING|File SimpleSerial.py:397) Unexpected start to command: \n"
     ]
    },
    {
     "name": "stdout",
     "output_type": "stream",
     "text": [
      "😍ok to continue\n",
      "file deleted\n",
      "(5000, 85)\n",
      "INFO: Found ChipWhisperer😍\n",
      "Detected unknown STM32F ID: 0x446\n",
      "Extended erase (0x44), this can take ten seconds or more\n",
      "Attempting to program 21323 bytes at 0x8000000\n",
      "STM32F Programming flash...\n",
      "STM32F Reading flash...\n",
      "Verified flash OK, 21323 bytes\n"
     ]
    },
    {
     "name": "stderr",
     "output_type": "stream",
     "text": [
      "(ChipWhisperer Target WARNING|File SimpleSerial.py:397) Unexpected start to command: \n"
     ]
    },
    {
     "name": "stdout",
     "output_type": "stream",
     "text": [
      "😍ok to continue\n",
      "file deleted\n",
      "(5000, 86)\n",
      "INFO: Found ChipWhisperer😍\n",
      "Detected unknown STM32F ID: 0x446\n",
      "Extended erase (0x44), this can take ten seconds or more\n",
      "Attempting to program 21323 bytes at 0x8000000\n",
      "STM32F Programming flash...\n",
      "STM32F Reading flash...\n",
      "Verified flash OK, 21323 bytes\n"
     ]
    },
    {
     "name": "stderr",
     "output_type": "stream",
     "text": [
      "(ChipWhisperer Target WARNING|File SimpleSerial.py:397) Unexpected start to command: \n"
     ]
    },
    {
     "name": "stdout",
     "output_type": "stream",
     "text": [
      "😍ok to continue\n",
      "file deleted\n",
      "(5000, 87)\n",
      "INFO: Found ChipWhisperer😍\n",
      "Detected unknown STM32F ID: 0x446\n",
      "Extended erase (0x44), this can take ten seconds or more\n",
      "Attempting to program 21323 bytes at 0x8000000\n",
      "STM32F Programming flash...\n",
      "STM32F Reading flash...\n",
      "Verified flash OK, 21323 bytes\n"
     ]
    },
    {
     "name": "stderr",
     "output_type": "stream",
     "text": [
      "(ChipWhisperer Target WARNING|File SimpleSerial.py:397) Unexpected start to command: \n"
     ]
    },
    {
     "name": "stdout",
     "output_type": "stream",
     "text": [
      "😍ok to continue\n",
      "file deleted\n",
      "(5000, 88)\n",
      "INFO: Found ChipWhisperer😍\n",
      "Detected unknown STM32F ID: 0x446\n",
      "Extended erase (0x44), this can take ten seconds or more\n",
      "Attempting to program 21323 bytes at 0x8000000\n",
      "STM32F Programming flash...\n",
      "STM32F Reading flash...\n",
      "Verified flash OK, 21323 bytes\n"
     ]
    },
    {
     "name": "stderr",
     "output_type": "stream",
     "text": [
      "(ChipWhisperer Target WARNING|File SimpleSerial.py:397) Unexpected start to command: \n"
     ]
    },
    {
     "name": "stdout",
     "output_type": "stream",
     "text": [
      "😍ok to continue\n",
      "file deleted\n",
      "(5000, 89)\n",
      "INFO: Found ChipWhisperer😍\n",
      "Detected unknown STM32F ID: 0x446\n",
      "Extended erase (0x44), this can take ten seconds or more\n",
      "Attempting to program 21323 bytes at 0x8000000\n",
      "STM32F Programming flash...\n",
      "STM32F Reading flash...\n",
      "Verified flash OK, 21323 bytes\n"
     ]
    },
    {
     "name": "stderr",
     "output_type": "stream",
     "text": [
      "(ChipWhisperer Target WARNING|File SimpleSerial.py:397) Unexpected start to command: \n"
     ]
    },
    {
     "name": "stdout",
     "output_type": "stream",
     "text": [
      "😍ok to continue\n",
      "file deleted\n",
      "(5000, 90)\n",
      "INFO: Found ChipWhisperer😍\n",
      "Detected unknown STM32F ID: 0x446\n",
      "Extended erase (0x44), this can take ten seconds or more\n",
      "Attempting to program 21323 bytes at 0x8000000\n",
      "STM32F Programming flash...\n",
      "STM32F Reading flash...\n",
      "Verified flash OK, 21323 bytes\n"
     ]
    },
    {
     "name": "stderr",
     "output_type": "stream",
     "text": [
      "(ChipWhisperer Target WARNING|File SimpleSerial.py:397) Unexpected start to command: \n"
     ]
    },
    {
     "name": "stdout",
     "output_type": "stream",
     "text": [
      "😍ok to continue\n",
      "file deleted\n",
      "(5000, 91)\n",
      "INFO: Found ChipWhisperer😍\n",
      "Detected unknown STM32F ID: 0x446\n",
      "Extended erase (0x44), this can take ten seconds or more\n",
      "Attempting to program 21323 bytes at 0x8000000\n",
      "STM32F Programming flash...\n",
      "STM32F Reading flash...\n",
      "Verified flash OK, 21323 bytes\n"
     ]
    },
    {
     "name": "stderr",
     "output_type": "stream",
     "text": [
      "(ChipWhisperer Target WARNING|File SimpleSerial.py:397) Unexpected start to command: \n"
     ]
    },
    {
     "name": "stdout",
     "output_type": "stream",
     "text": [
      "😍ok to continue\n",
      "file deleted\n",
      "(5000, 92)\n",
      "INFO: Found ChipWhisperer😍\n",
      "Detected unknown STM32F ID: 0x446\n",
      "Extended erase (0x44), this can take ten seconds or more\n",
      "Attempting to program 21323 bytes at 0x8000000\n",
      "STM32F Programming flash...\n",
      "STM32F Reading flash...\n",
      "Verified flash OK, 21323 bytes\n"
     ]
    },
    {
     "name": "stderr",
     "output_type": "stream",
     "text": [
      "(ChipWhisperer Target WARNING|File SimpleSerial.py:397) Unexpected start to command: \n"
     ]
    },
    {
     "name": "stdout",
     "output_type": "stream",
     "text": [
      "😍ok to continue\n",
      "file deleted\n",
      "(5000, 93)\n",
      "INFO: Found ChipWhisperer😍\n",
      "Detected unknown STM32F ID: 0x446\n",
      "Extended erase (0x44), this can take ten seconds or more\n",
      "Attempting to program 21323 bytes at 0x8000000\n",
      "STM32F Programming flash...\n",
      "STM32F Reading flash...\n",
      "Verified flash OK, 21323 bytes\n"
     ]
    },
    {
     "name": "stderr",
     "output_type": "stream",
     "text": [
      "(ChipWhisperer Target WARNING|File SimpleSerial.py:397) Unexpected start to command: \n"
     ]
    },
    {
     "name": "stdout",
     "output_type": "stream",
     "text": [
      "😍ok to continue\n",
      "file deleted\n",
      "(5000, 94)\n",
      "INFO: Found ChipWhisperer😍\n",
      "Detected unknown STM32F ID: 0x446\n",
      "Extended erase (0x44), this can take ten seconds or more\n",
      "Attempting to program 21323 bytes at 0x8000000\n",
      "STM32F Programming flash...\n",
      "STM32F Reading flash...\n",
      "Verified flash OK, 21323 bytes\n"
     ]
    },
    {
     "name": "stderr",
     "output_type": "stream",
     "text": [
      "(ChipWhisperer Target WARNING|File SimpleSerial.py:397) Unexpected start to command: \n"
     ]
    },
    {
     "name": "stdout",
     "output_type": "stream",
     "text": [
      "😍ok to continue\n",
      "file deleted\n",
      "(5000, 95)\n",
      "INFO: Found ChipWhisperer😍\n",
      "Detected unknown STM32F ID: 0x446\n",
      "Extended erase (0x44), this can take ten seconds or more\n",
      "Attempting to program 21323 bytes at 0x8000000\n",
      "STM32F Programming flash...\n",
      "STM32F Reading flash...\n",
      "Verified flash OK, 21323 bytes\n"
     ]
    },
    {
     "name": "stderr",
     "output_type": "stream",
     "text": [
      "(ChipWhisperer Target WARNING|File SimpleSerial.py:397) Unexpected start to command: \n"
     ]
    },
    {
     "name": "stdout",
     "output_type": "stream",
     "text": [
      "😍ok to continue\n",
      "file deleted\n",
      "(5000, 96)\n",
      "INFO: Found ChipWhisperer😍\n",
      "Detected unknown STM32F ID: 0x446\n",
      "Extended erase (0x44), this can take ten seconds or more\n",
      "Attempting to program 21323 bytes at 0x8000000\n",
      "STM32F Programming flash...\n",
      "STM32F Reading flash...\n",
      "Verified flash OK, 21323 bytes\n"
     ]
    },
    {
     "name": "stderr",
     "output_type": "stream",
     "text": [
      "(ChipWhisperer Target WARNING|File SimpleSerial.py:397) Unexpected start to command: \n"
     ]
    },
    {
     "name": "stdout",
     "output_type": "stream",
     "text": [
      "😍ok to continue\n",
      "file deleted\n",
      "(5000, 97)\n",
      "INFO: Found ChipWhisperer😍\n",
      "Detected unknown STM32F ID: 0x446\n",
      "Extended erase (0x44), this can take ten seconds or more\n",
      "Attempting to program 21323 bytes at 0x8000000\n",
      "STM32F Programming flash...\n",
      "STM32F Reading flash...\n",
      "Verified flash OK, 21323 bytes\n"
     ]
    },
    {
     "name": "stderr",
     "output_type": "stream",
     "text": [
      "(ChipWhisperer Target WARNING|File SimpleSerial.py:397) Unexpected start to command: \n"
     ]
    },
    {
     "name": "stdout",
     "output_type": "stream",
     "text": [
      "😍ok to continue\n",
      "file deleted\n",
      "(5000, 98)\n",
      "INFO: Found ChipWhisperer😍\n",
      "Detected unknown STM32F ID: 0x446\n",
      "Extended erase (0x44), this can take ten seconds or more\n",
      "Attempting to program 21323 bytes at 0x8000000\n",
      "STM32F Programming flash...\n",
      "STM32F Reading flash...\n",
      "Verified flash OK, 21323 bytes\n"
     ]
    },
    {
     "name": "stderr",
     "output_type": "stream",
     "text": [
      "(ChipWhisperer Target WARNING|File SimpleSerial.py:397) Unexpected start to command: \n"
     ]
    },
    {
     "name": "stdout",
     "output_type": "stream",
     "text": [
      "😍ok to continue\n",
      "file deleted\n",
      "(5000, 99)\n",
      "INFO: Found ChipWhisperer😍\n",
      "Detected unknown STM32F ID: 0x446\n",
      "Extended erase (0x44), this can take ten seconds or more\n",
      "Attempting to program 21323 bytes at 0x8000000\n",
      "STM32F Programming flash...\n",
      "STM32F Reading flash...\n",
      "Verified flash OK, 21323 bytes\n"
     ]
    },
    {
     "name": "stderr",
     "output_type": "stream",
     "text": [
      "(ChipWhisperer Target WARNING|File SimpleSerial.py:397) Unexpected start to command: \n"
     ]
    },
    {
     "name": "stdout",
     "output_type": "stream",
     "text": [
      "😍ok to continue\n",
      "file deleted\n",
      "(5000, 100)\n",
      "INFO: Found ChipWhisperer😍\n",
      "Detected unknown STM32F ID: 0x446\n",
      "Extended erase (0x44), this can take ten seconds or more\n",
      "Attempting to program 21323 bytes at 0x8000000\n",
      "STM32F Programming flash...\n",
      "STM32F Reading flash...\n",
      "Verified flash OK, 21323 bytes\n"
     ]
    },
    {
     "name": "stderr",
     "output_type": "stream",
     "text": [
      "(ChipWhisperer Target WARNING|File SimpleSerial.py:397) Unexpected start to command: \n"
     ]
    },
    {
     "name": "stdout",
     "output_type": "stream",
     "text": [
      "😍ok to continue\n",
      "file deleted\n",
      "(5000, 101)\n",
      "INFO: Found ChipWhisperer😍\n",
      "Detected unknown STM32F ID: 0x446\n",
      "Extended erase (0x44), this can take ten seconds or more\n",
      "Attempting to program 21323 bytes at 0x8000000\n",
      "STM32F Programming flash...\n",
      "STM32F Reading flash...\n",
      "Verified flash OK, 21323 bytes\n"
     ]
    },
    {
     "name": "stderr",
     "output_type": "stream",
     "text": [
      "(ChipWhisperer Target WARNING|File SimpleSerial.py:397) Unexpected start to command: \n"
     ]
    },
    {
     "name": "stdout",
     "output_type": "stream",
     "text": [
      "😍ok to continue\n",
      "file deleted\n",
      "(5000, 102)\n",
      "INFO: Found ChipWhisperer😍\n",
      "Detected unknown STM32F ID: 0x446\n",
      "Extended erase (0x44), this can take ten seconds or more\n",
      "Attempting to program 21323 bytes at 0x8000000\n",
      "STM32F Programming flash...\n",
      "STM32F Reading flash...\n",
      "Verified flash OK, 21323 bytes\n"
     ]
    },
    {
     "name": "stderr",
     "output_type": "stream",
     "text": [
      "(ChipWhisperer Target WARNING|File SimpleSerial.py:397) Unexpected start to command: \n"
     ]
    },
    {
     "name": "stdout",
     "output_type": "stream",
     "text": [
      "😍ok to continue\n",
      "file deleted\n",
      "(5000, 103)\n",
      "INFO: Found ChipWhisperer😍\n",
      "Detected unknown STM32F ID: 0x446\n",
      "Extended erase (0x44), this can take ten seconds or more\n",
      "Attempting to program 21323 bytes at 0x8000000\n",
      "STM32F Programming flash...\n",
      "STM32F Reading flash...\n",
      "Verified flash OK, 21323 bytes\n"
     ]
    },
    {
     "name": "stderr",
     "output_type": "stream",
     "text": [
      "(ChipWhisperer Target WARNING|File SimpleSerial.py:397) Unexpected start to command: \n"
     ]
    },
    {
     "name": "stdout",
     "output_type": "stream",
     "text": [
      "😍ok to continue\n",
      "file deleted\n",
      "(5000, 104)\n",
      "INFO: Found ChipWhisperer😍\n",
      "Detected unknown STM32F ID: 0x446\n",
      "Extended erase (0x44), this can take ten seconds or more\n",
      "Attempting to program 21323 bytes at 0x8000000\n",
      "STM32F Programming flash...\n",
      "STM32F Reading flash...\n",
      "Verified flash OK, 21323 bytes\n"
     ]
    },
    {
     "name": "stderr",
     "output_type": "stream",
     "text": [
      "(ChipWhisperer Target WARNING|File SimpleSerial.py:397) Unexpected start to command: \n"
     ]
    },
    {
     "name": "stdout",
     "output_type": "stream",
     "text": [
      "😍ok to continue\n",
      "file deleted\n",
      "(5000, 105)\n",
      "INFO: Found ChipWhisperer😍\n",
      "Detected unknown STM32F ID: 0x446\n",
      "Extended erase (0x44), this can take ten seconds or more\n",
      "Attempting to program 21323 bytes at 0x8000000\n",
      "STM32F Programming flash...\n",
      "STM32F Reading flash...\n",
      "Verified flash OK, 21323 bytes\n"
     ]
    },
    {
     "name": "stderr",
     "output_type": "stream",
     "text": [
      "(ChipWhisperer Target WARNING|File SimpleSerial.py:397) Unexpected start to command: \n"
     ]
    },
    {
     "name": "stdout",
     "output_type": "stream",
     "text": [
      "😍ok to continue\n",
      "file deleted\n",
      "(5000, 106)\n",
      "INFO: Found ChipWhisperer😍\n",
      "Detected unknown STM32F ID: 0x446\n",
      "Extended erase (0x44), this can take ten seconds or more\n",
      "Attempting to program 21323 bytes at 0x8000000\n",
      "STM32F Programming flash...\n",
      "STM32F Reading flash...\n",
      "Verified flash OK, 21323 bytes\n"
     ]
    },
    {
     "name": "stderr",
     "output_type": "stream",
     "text": [
      "(ChipWhisperer Target WARNING|File SimpleSerial.py:397) Unexpected start to command: \n"
     ]
    },
    {
     "name": "stdout",
     "output_type": "stream",
     "text": [
      "😍ok to continue\n",
      "file deleted\n",
      "(5000, 107)\n",
      "INFO: Found ChipWhisperer😍\n",
      "Detected unknown STM32F ID: 0x446\n",
      "Extended erase (0x44), this can take ten seconds or more\n",
      "Attempting to program 21323 bytes at 0x8000000\n",
      "STM32F Programming flash...\n",
      "STM32F Reading flash...\n",
      "Verified flash OK, 21323 bytes\n"
     ]
    },
    {
     "name": "stderr",
     "output_type": "stream",
     "text": [
      "(ChipWhisperer Target WARNING|File SimpleSerial.py:397) Unexpected start to command: \n"
     ]
    },
    {
     "name": "stdout",
     "output_type": "stream",
     "text": [
      "😍ok to continue\n",
      "file deleted\n",
      "(5000, 108)\n",
      "INFO: Found ChipWhisperer😍\n",
      "Detected unknown STM32F ID: 0x446\n",
      "Extended erase (0x44), this can take ten seconds or more\n",
      "Attempting to program 21323 bytes at 0x8000000\n",
      "STM32F Programming flash...\n",
      "STM32F Reading flash...\n",
      "Verified flash OK, 21323 bytes\n"
     ]
    },
    {
     "name": "stderr",
     "output_type": "stream",
     "text": [
      "(ChipWhisperer Target WARNING|File SimpleSerial.py:397) Unexpected start to command: \n"
     ]
    },
    {
     "name": "stdout",
     "output_type": "stream",
     "text": [
      "😍ok to continue\n",
      "file deleted\n",
      "(5000, 109)\n",
      "INFO: Found ChipWhisperer😍\n",
      "Detected unknown STM32F ID: 0x446\n",
      "Extended erase (0x44), this can take ten seconds or more\n",
      "Attempting to program 21323 bytes at 0x8000000\n",
      "STM32F Programming flash...\n",
      "STM32F Reading flash...\n",
      "Verified flash OK, 21323 bytes\n"
     ]
    },
    {
     "name": "stderr",
     "output_type": "stream",
     "text": [
      "(ChipWhisperer Target WARNING|File SimpleSerial.py:397) Unexpected start to command: \n"
     ]
    },
    {
     "name": "stdout",
     "output_type": "stream",
     "text": [
      "😍ok to continue\n",
      "file deleted\n",
      "(5000, 110)\n",
      "INFO: Found ChipWhisperer😍\n",
      "Detected unknown STM32F ID: 0x446\n",
      "Extended erase (0x44), this can take ten seconds or more\n",
      "Attempting to program 21323 bytes at 0x8000000\n",
      "STM32F Programming flash...\n",
      "STM32F Reading flash...\n",
      "Verified flash OK, 21323 bytes\n"
     ]
    },
    {
     "name": "stderr",
     "output_type": "stream",
     "text": [
      "(ChipWhisperer Target WARNING|File SimpleSerial.py:397) Unexpected start to command: \n"
     ]
    },
    {
     "name": "stdout",
     "output_type": "stream",
     "text": [
      "😍ok to continue\n",
      "file deleted\n",
      "(5000, 111)\n",
      "INFO: Found ChipWhisperer😍\n",
      "Detected unknown STM32F ID: 0x446\n",
      "Extended erase (0x44), this can take ten seconds or more\n",
      "Attempting to program 21323 bytes at 0x8000000\n",
      "STM32F Programming flash...\n",
      "STM32F Reading flash...\n",
      "Verified flash OK, 21323 bytes\n"
     ]
    },
    {
     "name": "stderr",
     "output_type": "stream",
     "text": [
      "(ChipWhisperer Target WARNING|File SimpleSerial.py:397) Unexpected start to command: \n"
     ]
    },
    {
     "name": "stdout",
     "output_type": "stream",
     "text": [
      "😍ok to continue\n",
      "file deleted\n",
      "(5000, 112)\n",
      "INFO: Found ChipWhisperer😍\n",
      "Detected unknown STM32F ID: 0x446\n",
      "Extended erase (0x44), this can take ten seconds or more\n",
      "Attempting to program 21323 bytes at 0x8000000\n",
      "STM32F Programming flash...\n",
      "STM32F Reading flash...\n",
      "Verified flash OK, 21323 bytes\n"
     ]
    },
    {
     "name": "stderr",
     "output_type": "stream",
     "text": [
      "(ChipWhisperer Target WARNING|File SimpleSerial.py:397) Unexpected start to command: \n"
     ]
    },
    {
     "name": "stdout",
     "output_type": "stream",
     "text": [
      "😍ok to continue\n",
      "file deleted\n",
      "(5000, 113)\n",
      "INFO: Found ChipWhisperer😍\n",
      "Detected unknown STM32F ID: 0x446\n",
      "Extended erase (0x44), this can take ten seconds or more\n",
      "Attempting to program 21323 bytes at 0x8000000\n",
      "STM32F Programming flash...\n",
      "STM32F Reading flash...\n",
      "Verified flash OK, 21323 bytes\n"
     ]
    },
    {
     "name": "stderr",
     "output_type": "stream",
     "text": [
      "(ChipWhisperer Target WARNING|File SimpleSerial.py:397) Unexpected start to command: \n"
     ]
    },
    {
     "name": "stdout",
     "output_type": "stream",
     "text": [
      "😍ok to continue\n",
      "file deleted\n",
      "(5000, 114)\n",
      "INFO: Found ChipWhisperer😍\n",
      "Detected unknown STM32F ID: 0x446\n",
      "Extended erase (0x44), this can take ten seconds or more\n",
      "Attempting to program 21323 bytes at 0x8000000\n",
      "STM32F Programming flash...\n",
      "STM32F Reading flash...\n",
      "Verified flash OK, 21323 bytes\n"
     ]
    },
    {
     "name": "stderr",
     "output_type": "stream",
     "text": [
      "(ChipWhisperer Target WARNING|File SimpleSerial.py:397) Unexpected start to command: \n"
     ]
    },
    {
     "name": "stdout",
     "output_type": "stream",
     "text": [
      "😍ok to continue\n",
      "file deleted\n",
      "(5000, 115)\n",
      "INFO: Found ChipWhisperer😍\n",
      "Detected unknown STM32F ID: 0x446\n",
      "Extended erase (0x44), this can take ten seconds or more\n",
      "Attempting to program 21323 bytes at 0x8000000\n",
      "STM32F Programming flash...\n",
      "STM32F Reading flash...\n",
      "Verified flash OK, 21323 bytes\n"
     ]
    },
    {
     "name": "stderr",
     "output_type": "stream",
     "text": [
      "(ChipWhisperer Target WARNING|File SimpleSerial.py:397) Unexpected start to command: \n"
     ]
    },
    {
     "name": "stdout",
     "output_type": "stream",
     "text": [
      "😍ok to continue\n",
      "file deleted\n",
      "(5000, 116)\n",
      "INFO: Found ChipWhisperer😍\n",
      "Detected unknown STM32F ID: 0x446\n",
      "Extended erase (0x44), this can take ten seconds or more\n",
      "Attempting to program 21323 bytes at 0x8000000\n",
      "STM32F Programming flash...\n",
      "STM32F Reading flash...\n",
      "Verified flash OK, 21323 bytes\n"
     ]
    },
    {
     "name": "stderr",
     "output_type": "stream",
     "text": [
      "(ChipWhisperer Target WARNING|File SimpleSerial.py:397) Unexpected start to command: \n"
     ]
    },
    {
     "name": "stdout",
     "output_type": "stream",
     "text": [
      "😍ok to continue\n",
      "file deleted\n",
      "(5000, 117)\n",
      "INFO: Found ChipWhisperer😍\n",
      "Detected unknown STM32F ID: 0x446\n",
      "Extended erase (0x44), this can take ten seconds or more\n",
      "Attempting to program 21323 bytes at 0x8000000\n",
      "STM32F Programming flash...\n",
      "STM32F Reading flash...\n",
      "Verified flash OK, 21323 bytes\n"
     ]
    },
    {
     "name": "stderr",
     "output_type": "stream",
     "text": [
      "(ChipWhisperer Target WARNING|File SimpleSerial.py:397) Unexpected start to command: \n"
     ]
    },
    {
     "name": "stdout",
     "output_type": "stream",
     "text": [
      "😍ok to continue\n",
      "file deleted\n",
      "(5000, 118)\n",
      "INFO: Found ChipWhisperer😍\n",
      "Detected unknown STM32F ID: 0x446\n",
      "Extended erase (0x44), this can take ten seconds or more\n",
      "Attempting to program 21323 bytes at 0x8000000\n",
      "STM32F Programming flash...\n",
      "STM32F Reading flash...\n",
      "Verified flash OK, 21323 bytes\n"
     ]
    },
    {
     "name": "stderr",
     "output_type": "stream",
     "text": [
      "(ChipWhisperer Target WARNING|File SimpleSerial.py:397) Unexpected start to command: \n"
     ]
    },
    {
     "name": "stdout",
     "output_type": "stream",
     "text": [
      "😍ok to continue\n",
      "file deleted\n",
      "(5000, 119)\n",
      "INFO: Found ChipWhisperer😍\n",
      "Detected unknown STM32F ID: 0x446\n",
      "Extended erase (0x44), this can take ten seconds or more\n",
      "Attempting to program 21323 bytes at 0x8000000\n",
      "STM32F Programming flash...\n",
      "STM32F Reading flash...\n",
      "Verified flash OK, 21323 bytes\n"
     ]
    },
    {
     "name": "stderr",
     "output_type": "stream",
     "text": [
      "(ChipWhisperer Target WARNING|File SimpleSerial.py:397) Unexpected start to command: \n"
     ]
    },
    {
     "name": "stdout",
     "output_type": "stream",
     "text": [
      "😍ok to continue\n",
      "file deleted\n",
      "(5000, 120)\n",
      "INFO: Found ChipWhisperer😍\n",
      "Detected unknown STM32F ID: 0x446\n",
      "Extended erase (0x44), this can take ten seconds or more\n",
      "Attempting to program 21323 bytes at 0x8000000\n",
      "STM32F Programming flash...\n",
      "STM32F Reading flash...\n",
      "Verified flash OK, 21323 bytes\n"
     ]
    },
    {
     "name": "stderr",
     "output_type": "stream",
     "text": [
      "(ChipWhisperer Target WARNING|File SimpleSerial.py:397) Unexpected start to command: \n"
     ]
    },
    {
     "name": "stdout",
     "output_type": "stream",
     "text": [
      "😍ok to continue\n",
      "file deleted\n",
      "(5000, 121)\n",
      "INFO: Found ChipWhisperer😍\n",
      "Detected unknown STM32F ID: 0x446\n",
      "Extended erase (0x44), this can take ten seconds or more\n",
      "Attempting to program 21323 bytes at 0x8000000\n",
      "STM32F Programming flash...\n",
      "STM32F Reading flash...\n",
      "Verified flash OK, 21323 bytes\n"
     ]
    },
    {
     "name": "stderr",
     "output_type": "stream",
     "text": [
      "(ChipWhisperer Target WARNING|File SimpleSerial.py:397) Unexpected start to command: \n"
     ]
    },
    {
     "name": "stdout",
     "output_type": "stream",
     "text": [
      "😍ok to continue\n",
      "file deleted\n",
      "(5000, 122)\n",
      "INFO: Found ChipWhisperer😍\n",
      "Detected unknown STM32F ID: 0x446\n",
      "Extended erase (0x44), this can take ten seconds or more\n",
      "Attempting to program 21323 bytes at 0x8000000\n",
      "STM32F Programming flash...\n",
      "STM32F Reading flash...\n",
      "Verified flash OK, 21323 bytes\n"
     ]
    },
    {
     "name": "stderr",
     "output_type": "stream",
     "text": [
      "(ChipWhisperer Target WARNING|File SimpleSerial.py:397) Unexpected start to command: \n"
     ]
    },
    {
     "name": "stdout",
     "output_type": "stream",
     "text": [
      "😍ok to continue\n",
      "file deleted\n",
      "(5000, 123)\n",
      "INFO: Found ChipWhisperer😍\n",
      "Detected unknown STM32F ID: 0x446\n",
      "Extended erase (0x44), this can take ten seconds or more\n",
      "Attempting to program 21323 bytes at 0x8000000\n",
      "STM32F Programming flash...\n",
      "STM32F Reading flash...\n",
      "Verified flash OK, 21323 bytes\n"
     ]
    },
    {
     "name": "stderr",
     "output_type": "stream",
     "text": [
      "(ChipWhisperer Target WARNING|File SimpleSerial.py:397) Unexpected start to command: \n"
     ]
    },
    {
     "name": "stdout",
     "output_type": "stream",
     "text": [
      "😍ok to continue\n",
      "file deleted\n",
      "(5000, 124)\n",
      "INFO: Found ChipWhisperer😍\n",
      "Detected unknown STM32F ID: 0x446\n",
      "Extended erase (0x44), this can take ten seconds or more\n",
      "Attempting to program 21323 bytes at 0x8000000\n",
      "STM32F Programming flash...\n",
      "STM32F Reading flash...\n",
      "Verified flash OK, 21323 bytes\n"
     ]
    },
    {
     "name": "stderr",
     "output_type": "stream",
     "text": [
      "(ChipWhisperer Target WARNING|File SimpleSerial.py:397) Unexpected start to command: \n"
     ]
    },
    {
     "name": "stdout",
     "output_type": "stream",
     "text": [
      "😍ok to continue\n",
      "file deleted\n",
      "(5000, 125)\n",
      "INFO: Found ChipWhisperer😍\n",
      "Detected unknown STM32F ID: 0x446\n",
      "Extended erase (0x44), this can take ten seconds or more\n",
      "Attempting to program 21323 bytes at 0x8000000\n",
      "STM32F Programming flash...\n",
      "STM32F Reading flash...\n",
      "Verified flash OK, 21323 bytes\n"
     ]
    },
    {
     "name": "stderr",
     "output_type": "stream",
     "text": [
      "(ChipWhisperer Target WARNING|File SimpleSerial.py:397) Unexpected start to command: \n"
     ]
    },
    {
     "name": "stdout",
     "output_type": "stream",
     "text": [
      "😍ok to continue\n",
      "file deleted\n",
      "(5000, 126)\n",
      "INFO: Found ChipWhisperer😍\n",
      "Detected unknown STM32F ID: 0x446\n",
      "Extended erase (0x44), this can take ten seconds or more\n",
      "Attempting to program 21323 bytes at 0x8000000\n",
      "STM32F Programming flash...\n",
      "STM32F Reading flash...\n",
      "Verified flash OK, 21323 bytes\n"
     ]
    },
    {
     "name": "stderr",
     "output_type": "stream",
     "text": [
      "(ChipWhisperer Target WARNING|File SimpleSerial.py:397) Unexpected start to command: \n"
     ]
    },
    {
     "name": "stdout",
     "output_type": "stream",
     "text": [
      "😍ok to continue\n",
      "file deleted\n",
      "(5000, 127)\n",
      "INFO: Found ChipWhisperer😍\n",
      "Detected unknown STM32F ID: 0x446\n",
      "Extended erase (0x44), this can take ten seconds or more\n",
      "Attempting to program 21323 bytes at 0x8000000\n",
      "STM32F Programming flash...\n",
      "STM32F Reading flash...\n",
      "Verified flash OK, 21323 bytes\n"
     ]
    },
    {
     "name": "stderr",
     "output_type": "stream",
     "text": [
      "(ChipWhisperer Target WARNING|File SimpleSerial.py:397) Unexpected start to command: \n"
     ]
    },
    {
     "name": "stdout",
     "output_type": "stream",
     "text": [
      "😍ok to continue\n",
      "file deleted\n",
      "(5000, 128)\n",
      "INFO: Found ChipWhisperer😍\n",
      "Detected unknown STM32F ID: 0x446\n",
      "Extended erase (0x44), this can take ten seconds or more\n",
      "Attempting to program 21323 bytes at 0x8000000\n",
      "STM32F Programming flash...\n",
      "STM32F Reading flash...\n",
      "Verified flash OK, 21323 bytes\n"
     ]
    },
    {
     "name": "stderr",
     "output_type": "stream",
     "text": [
      "(ChipWhisperer Target WARNING|File SimpleSerial.py:397) Unexpected start to command: \n"
     ]
    },
    {
     "name": "stdout",
     "output_type": "stream",
     "text": [
      "😍ok to continue\n",
      "file deleted\n",
      "(5000, 129)\n",
      "INFO: Found ChipWhisperer😍\n",
      "Detected unknown STM32F ID: 0x446\n",
      "Extended erase (0x44), this can take ten seconds or more\n",
      "Attempting to program 21323 bytes at 0x8000000\n",
      "STM32F Programming flash...\n",
      "STM32F Reading flash...\n",
      "Verified flash OK, 21323 bytes\n"
     ]
    },
    {
     "name": "stderr",
     "output_type": "stream",
     "text": [
      "(ChipWhisperer Target WARNING|File SimpleSerial.py:397) Unexpected start to command: \n"
     ]
    },
    {
     "name": "stdout",
     "output_type": "stream",
     "text": [
      "😍ok to continue\n",
      "file deleted\n",
      "(5000, 130)\n",
      "INFO: Found ChipWhisperer😍\n",
      "Detected unknown STM32F ID: 0x446\n",
      "Extended erase (0x44), this can take ten seconds or more\n",
      "Attempting to program 21323 bytes at 0x8000000\n",
      "STM32F Programming flash...\n",
      "STM32F Reading flash...\n",
      "Verified flash OK, 21323 bytes\n"
     ]
    },
    {
     "name": "stderr",
     "output_type": "stream",
     "text": [
      "(ChipWhisperer Target WARNING|File SimpleSerial.py:397) Unexpected start to command: \n"
     ]
    },
    {
     "name": "stdout",
     "output_type": "stream",
     "text": [
      "😍ok to continue\n",
      "file deleted\n",
      "(5000, 131)\n",
      "INFO: Found ChipWhisperer😍\n",
      "Detected unknown STM32F ID: 0x446\n",
      "Extended erase (0x44), this can take ten seconds or more\n",
      "Attempting to program 21323 bytes at 0x8000000\n",
      "STM32F Programming flash...\n",
      "STM32F Reading flash...\n",
      "Verified flash OK, 21323 bytes\n"
     ]
    },
    {
     "name": "stderr",
     "output_type": "stream",
     "text": [
      "(ChipWhisperer Target WARNING|File SimpleSerial.py:397) Unexpected start to command: \n"
     ]
    },
    {
     "name": "stdout",
     "output_type": "stream",
     "text": [
      "😍ok to continue\n",
      "file deleted\n",
      "(5000, 132)\n",
      "INFO: Found ChipWhisperer😍\n",
      "Detected unknown STM32F ID: 0x446\n",
      "Extended erase (0x44), this can take ten seconds or more\n",
      "Attempting to program 21323 bytes at 0x8000000\n",
      "STM32F Programming flash...\n",
      "STM32F Reading flash...\n",
      "Verified flash OK, 21323 bytes\n"
     ]
    },
    {
     "name": "stderr",
     "output_type": "stream",
     "text": [
      "(ChipWhisperer Target WARNING|File SimpleSerial.py:397) Unexpected start to command: \n"
     ]
    },
    {
     "name": "stdout",
     "output_type": "stream",
     "text": [
      "😍ok to continue\n",
      "file deleted\n",
      "(5000, 133)\n",
      "INFO: Found ChipWhisperer😍\n",
      "Detected unknown STM32F ID: 0x446\n",
      "Extended erase (0x44), this can take ten seconds or more\n",
      "Attempting to program 21323 bytes at 0x8000000\n",
      "STM32F Programming flash...\n",
      "STM32F Reading flash...\n",
      "Verified flash OK, 21323 bytes\n"
     ]
    },
    {
     "name": "stderr",
     "output_type": "stream",
     "text": [
      "(ChipWhisperer Target WARNING|File SimpleSerial.py:397) Unexpected start to command: \n"
     ]
    },
    {
     "name": "stdout",
     "output_type": "stream",
     "text": [
      "😍ok to continue\n",
      "file deleted\n",
      "(5000, 134)\n",
      "INFO: Found ChipWhisperer😍\n",
      "Detected unknown STM32F ID: 0x446\n",
      "Extended erase (0x44), this can take ten seconds or more\n",
      "Attempting to program 21323 bytes at 0x8000000\n",
      "STM32F Programming flash...\n",
      "STM32F Reading flash...\n",
      "Verified flash OK, 21323 bytes\n"
     ]
    },
    {
     "name": "stderr",
     "output_type": "stream",
     "text": [
      "(ChipWhisperer Target WARNING|File SimpleSerial.py:397) Unexpected start to command: \n"
     ]
    },
    {
     "name": "stdout",
     "output_type": "stream",
     "text": [
      "😍ok to continue\n",
      "file deleted\n",
      "(5000, 135)\n",
      "INFO: Found ChipWhisperer😍\n",
      "Detected unknown STM32F ID: 0x446\n",
      "Extended erase (0x44), this can take ten seconds or more\n",
      "Attempting to program 21323 bytes at 0x8000000\n",
      "STM32F Programming flash...\n",
      "STM32F Reading flash...\n",
      "Verified flash OK, 21323 bytes\n"
     ]
    },
    {
     "name": "stderr",
     "output_type": "stream",
     "text": [
      "(ChipWhisperer Target WARNING|File SimpleSerial.py:397) Unexpected start to command: \n"
     ]
    },
    {
     "name": "stdout",
     "output_type": "stream",
     "text": [
      "😍ok to continue\n",
      "file deleted\n",
      "(5000, 136)\n",
      "INFO: Found ChipWhisperer😍\n",
      "Detected unknown STM32F ID: 0x446\n",
      "Extended erase (0x44), this can take ten seconds or more\n",
      "Attempting to program 21323 bytes at 0x8000000\n",
      "STM32F Programming flash...\n",
      "STM32F Reading flash...\n",
      "Verified flash OK, 21323 bytes\n"
     ]
    },
    {
     "name": "stderr",
     "output_type": "stream",
     "text": [
      "(ChipWhisperer Target WARNING|File SimpleSerial.py:397) Unexpected start to command: \n"
     ]
    },
    {
     "name": "stdout",
     "output_type": "stream",
     "text": [
      "😍ok to continue\n",
      "file deleted\n",
      "(5000, 137)\n",
      "INFO: Found ChipWhisperer😍\n",
      "Detected unknown STM32F ID: 0x446\n",
      "Extended erase (0x44), this can take ten seconds or more\n",
      "Attempting to program 21323 bytes at 0x8000000\n",
      "STM32F Programming flash...\n",
      "STM32F Reading flash...\n",
      "Verified flash OK, 21323 bytes\n"
     ]
    },
    {
     "name": "stderr",
     "output_type": "stream",
     "text": [
      "(ChipWhisperer Target WARNING|File SimpleSerial.py:397) Unexpected start to command: \n"
     ]
    },
    {
     "name": "stdout",
     "output_type": "stream",
     "text": [
      "😍ok to continue\n",
      "file deleted\n",
      "(5000, 138)\n",
      "INFO: Found ChipWhisperer😍\n",
      "Detected unknown STM32F ID: 0x446\n",
      "Extended erase (0x44), this can take ten seconds or more\n",
      "Attempting to program 21323 bytes at 0x8000000\n",
      "STM32F Programming flash...\n",
      "STM32F Reading flash...\n",
      "Verified flash OK, 21323 bytes\n"
     ]
    },
    {
     "name": "stderr",
     "output_type": "stream",
     "text": [
      "(ChipWhisperer Target WARNING|File SimpleSerial.py:397) Unexpected start to command: \n"
     ]
    },
    {
     "name": "stdout",
     "output_type": "stream",
     "text": [
      "😍ok to continue\n",
      "file deleted\n",
      "(5000, 139)\n",
      "INFO: Found ChipWhisperer😍\n",
      "Detected unknown STM32F ID: 0x446\n",
      "Extended erase (0x44), this can take ten seconds or more\n",
      "Attempting to program 21323 bytes at 0x8000000\n",
      "STM32F Programming flash...\n",
      "STM32F Reading flash...\n",
      "Verified flash OK, 21323 bytes\n"
     ]
    },
    {
     "name": "stderr",
     "output_type": "stream",
     "text": [
      "(ChipWhisperer Target WARNING|File SimpleSerial.py:397) Unexpected start to command: \n"
     ]
    },
    {
     "name": "stdout",
     "output_type": "stream",
     "text": [
      "😍ok to continue\n",
      "file deleted\n",
      "(5000, 140)\n",
      "INFO: Found ChipWhisperer😍\n",
      "Detected unknown STM32F ID: 0x446\n",
      "Extended erase (0x44), this can take ten seconds or more\n",
      "Attempting to program 21323 bytes at 0x8000000\n",
      "STM32F Programming flash...\n",
      "STM32F Reading flash...\n",
      "Verified flash OK, 21323 bytes\n"
     ]
    },
    {
     "name": "stderr",
     "output_type": "stream",
     "text": [
      "(ChipWhisperer Target WARNING|File SimpleSerial.py:397) Unexpected start to command: \n"
     ]
    },
    {
     "name": "stdout",
     "output_type": "stream",
     "text": [
      "😍ok to continue\n",
      "file deleted\n",
      "(5000, 141)\n",
      "INFO: Found ChipWhisperer😍\n",
      "Detected unknown STM32F ID: 0x446\n",
      "Extended erase (0x44), this can take ten seconds or more\n",
      "Attempting to program 21323 bytes at 0x8000000\n",
      "STM32F Programming flash...\n",
      "STM32F Reading flash...\n",
      "Verified flash OK, 21323 bytes\n"
     ]
    },
    {
     "name": "stderr",
     "output_type": "stream",
     "text": [
      "(ChipWhisperer Target WARNING|File SimpleSerial.py:397) Unexpected start to command: \n"
     ]
    },
    {
     "name": "stdout",
     "output_type": "stream",
     "text": [
      "😍ok to continue\n",
      "file deleted\n",
      "(5000, 142)\n",
      "INFO: Found ChipWhisperer😍\n",
      "Detected unknown STM32F ID: 0x446\n",
      "Extended erase (0x44), this can take ten seconds or more\n",
      "Attempting to program 21323 bytes at 0x8000000\n",
      "STM32F Programming flash...\n",
      "STM32F Reading flash...\n",
      "Verified flash OK, 21323 bytes\n"
     ]
    },
    {
     "name": "stderr",
     "output_type": "stream",
     "text": [
      "(ChipWhisperer Target WARNING|File SimpleSerial.py:397) Unexpected start to command: \n"
     ]
    },
    {
     "name": "stdout",
     "output_type": "stream",
     "text": [
      "😍ok to continue\n",
      "file deleted\n",
      "(5000, 143)\n",
      "INFO: Found ChipWhisperer😍\n",
      "Detected unknown STM32F ID: 0x446\n",
      "Extended erase (0x44), this can take ten seconds or more\n",
      "Attempting to program 21323 bytes at 0x8000000\n",
      "STM32F Programming flash...\n",
      "STM32F Reading flash...\n",
      "Verified flash OK, 21323 bytes\n"
     ]
    },
    {
     "name": "stderr",
     "output_type": "stream",
     "text": [
      "(ChipWhisperer Target WARNING|File SimpleSerial.py:397) Unexpected start to command: \n"
     ]
    },
    {
     "name": "stdout",
     "output_type": "stream",
     "text": [
      "😍ok to continue\n",
      "file deleted\n",
      "(5000, 144)\n",
      "INFO: Found ChipWhisperer😍\n",
      "Detected unknown STM32F ID: 0x446\n",
      "Extended erase (0x44), this can take ten seconds or more\n",
      "Attempting to program 21323 bytes at 0x8000000\n",
      "STM32F Programming flash...\n",
      "STM32F Reading flash...\n",
      "Verified flash OK, 21323 bytes\n"
     ]
    },
    {
     "name": "stderr",
     "output_type": "stream",
     "text": [
      "(ChipWhisperer Target WARNING|File SimpleSerial.py:397) Unexpected start to command: \n"
     ]
    },
    {
     "name": "stdout",
     "output_type": "stream",
     "text": [
      "😍ok to continue\n",
      "file deleted\n",
      "(5000, 145)\n",
      "INFO: Found ChipWhisperer😍\n",
      "Detected unknown STM32F ID: 0x446\n",
      "Extended erase (0x44), this can take ten seconds or more\n",
      "Attempting to program 21323 bytes at 0x8000000\n",
      "STM32F Programming flash...\n",
      "STM32F Reading flash...\n",
      "Verified flash OK, 21323 bytes\n"
     ]
    },
    {
     "name": "stderr",
     "output_type": "stream",
     "text": [
      "(ChipWhisperer Target WARNING|File SimpleSerial.py:397) Unexpected start to command: \n"
     ]
    },
    {
     "name": "stdout",
     "output_type": "stream",
     "text": [
      "😍ok to continue\n",
      "file deleted\n",
      "(5000, 146)\n",
      "INFO: Found ChipWhisperer😍\n",
      "Detected unknown STM32F ID: 0x446\n",
      "Extended erase (0x44), this can take ten seconds or more\n",
      "Attempting to program 21323 bytes at 0x8000000\n",
      "STM32F Programming flash...\n",
      "STM32F Reading flash...\n",
      "Verified flash OK, 21323 bytes\n"
     ]
    },
    {
     "name": "stderr",
     "output_type": "stream",
     "text": [
      "(ChipWhisperer Target WARNING|File SimpleSerial.py:397) Unexpected start to command: \n"
     ]
    },
    {
     "name": "stdout",
     "output_type": "stream",
     "text": [
      "😍ok to continue\n",
      "file deleted\n",
      "(5000, 147)\n",
      "INFO: Found ChipWhisperer😍\n",
      "Detected unknown STM32F ID: 0x446\n",
      "Extended erase (0x44), this can take ten seconds or more\n",
      "Attempting to program 21323 bytes at 0x8000000\n",
      "STM32F Programming flash...\n",
      "STM32F Reading flash...\n",
      "Verified flash OK, 21323 bytes\n"
     ]
    },
    {
     "name": "stderr",
     "output_type": "stream",
     "text": [
      "(ChipWhisperer Target WARNING|File SimpleSerial.py:397) Unexpected start to command: \n"
     ]
    },
    {
     "name": "stdout",
     "output_type": "stream",
     "text": [
      "😍ok to continue\n",
      "file deleted\n",
      "(5000, 148)\n",
      "INFO: Found ChipWhisperer😍\n",
      "Detected unknown STM32F ID: 0x446\n",
      "Extended erase (0x44), this can take ten seconds or more\n",
      "Attempting to program 21323 bytes at 0x8000000\n",
      "STM32F Programming flash...\n",
      "STM32F Reading flash...\n",
      "Verified flash OK, 21323 bytes\n"
     ]
    },
    {
     "name": "stderr",
     "output_type": "stream",
     "text": [
      "(ChipWhisperer Target WARNING|File SimpleSerial.py:397) Unexpected start to command: \n"
     ]
    },
    {
     "name": "stdout",
     "output_type": "stream",
     "text": [
      "😍ok to continue\n",
      "file deleted\n",
      "(5000, 149)\n",
      "INFO: Found ChipWhisperer😍\n",
      "Detected unknown STM32F ID: 0x446\n",
      "Extended erase (0x44), this can take ten seconds or more\n",
      "Attempting to program 21323 bytes at 0x8000000\n",
      "STM32F Programming flash...\n",
      "STM32F Reading flash...\n",
      "Verified flash OK, 21323 bytes\n"
     ]
    },
    {
     "name": "stderr",
     "output_type": "stream",
     "text": [
      "(ChipWhisperer Target WARNING|File SimpleSerial.py:397) Unexpected start to command: \n"
     ]
    },
    {
     "name": "stdout",
     "output_type": "stream",
     "text": [
      "😍ok to continue\n",
      "file deleted\n",
      "(5000, 150)\n",
      "INFO: Found ChipWhisperer😍\n",
      "Detected unknown STM32F ID: 0x446\n",
      "Extended erase (0x44), this can take ten seconds or more\n",
      "Attempting to program 21323 bytes at 0x8000000\n",
      "STM32F Programming flash...\n",
      "STM32F Reading flash...\n",
      "Verified flash OK, 21323 bytes\n"
     ]
    },
    {
     "name": "stderr",
     "output_type": "stream",
     "text": [
      "(ChipWhisperer Target WARNING|File SimpleSerial.py:397) Unexpected start to command: \n"
     ]
    },
    {
     "name": "stdout",
     "output_type": "stream",
     "text": [
      "😍ok to continue\n",
      "file deleted\n",
      "(5000, 151)\n",
      "INFO: Found ChipWhisperer😍\n",
      "Detected unknown STM32F ID: 0x446\n",
      "Extended erase (0x44), this can take ten seconds or more\n",
      "Attempting to program 21323 bytes at 0x8000000\n",
      "STM32F Programming flash...\n",
      "STM32F Reading flash...\n",
      "Verified flash OK, 21323 bytes\n"
     ]
    },
    {
     "name": "stderr",
     "output_type": "stream",
     "text": [
      "(ChipWhisperer Target WARNING|File SimpleSerial.py:397) Unexpected start to command: \n"
     ]
    },
    {
     "name": "stdout",
     "output_type": "stream",
     "text": [
      "😍ok to continue\n",
      "file deleted\n",
      "(5000, 152)\n",
      "INFO: Found ChipWhisperer😍\n",
      "Detected unknown STM32F ID: 0x446\n",
      "Extended erase (0x44), this can take ten seconds or more\n",
      "Attempting to program 21323 bytes at 0x8000000\n",
      "STM32F Programming flash...\n",
      "STM32F Reading flash...\n",
      "Verified flash OK, 21323 bytes\n"
     ]
    },
    {
     "name": "stderr",
     "output_type": "stream",
     "text": [
      "(ChipWhisperer Target WARNING|File SimpleSerial.py:397) Unexpected start to command: \n"
     ]
    },
    {
     "name": "stdout",
     "output_type": "stream",
     "text": [
      "😍ok to continue\n",
      "file deleted\n",
      "(5000, 153)\n",
      "INFO: Found ChipWhisperer😍\n",
      "Detected unknown STM32F ID: 0x446\n",
      "Extended erase (0x44), this can take ten seconds or more\n",
      "Attempting to program 21323 bytes at 0x8000000\n",
      "STM32F Programming flash...\n",
      "STM32F Reading flash...\n",
      "Verified flash OK, 21323 bytes\n"
     ]
    },
    {
     "name": "stderr",
     "output_type": "stream",
     "text": [
      "(ChipWhisperer Target WARNING|File SimpleSerial.py:397) Unexpected start to command: \n"
     ]
    },
    {
     "name": "stdout",
     "output_type": "stream",
     "text": [
      "😍ok to continue\n",
      "file deleted\n",
      "(5000, 154)\n",
      "INFO: Found ChipWhisperer😍\n",
      "Detected unknown STM32F ID: 0x446\n",
      "Extended erase (0x44), this can take ten seconds or more\n",
      "Attempting to program 21323 bytes at 0x8000000\n",
      "STM32F Programming flash...\n",
      "STM32F Reading flash...\n",
      "Verified flash OK, 21323 bytes\n"
     ]
    },
    {
     "name": "stderr",
     "output_type": "stream",
     "text": [
      "(ChipWhisperer Target WARNING|File SimpleSerial.py:397) Unexpected start to command: \n"
     ]
    },
    {
     "name": "stdout",
     "output_type": "stream",
     "text": [
      "😍ok to continue\n",
      "file deleted\n",
      "(5000, 155)\n",
      "INFO: Found ChipWhisperer😍\n",
      "Detected unknown STM32F ID: 0x446\n",
      "Extended erase (0x44), this can take ten seconds or more\n",
      "Attempting to program 21323 bytes at 0x8000000\n",
      "STM32F Programming flash...\n",
      "STM32F Reading flash...\n",
      "Verified flash OK, 21323 bytes\n"
     ]
    },
    {
     "name": "stderr",
     "output_type": "stream",
     "text": [
      "(ChipWhisperer Target WARNING|File SimpleSerial.py:397) Unexpected start to command: \n"
     ]
    },
    {
     "name": "stdout",
     "output_type": "stream",
     "text": [
      "😍ok to continue\n",
      "file deleted\n",
      "(5000, 156)\n",
      "INFO: Found ChipWhisperer😍\n",
      "Detected unknown STM32F ID: 0x446\n",
      "Extended erase (0x44), this can take ten seconds or more\n",
      "Attempting to program 21323 bytes at 0x8000000\n",
      "STM32F Programming flash...\n",
      "STM32F Reading flash...\n",
      "Verified flash OK, 21323 bytes\n"
     ]
    },
    {
     "name": "stderr",
     "output_type": "stream",
     "text": [
      "(ChipWhisperer Target WARNING|File SimpleSerial.py:397) Unexpected start to command: \n"
     ]
    },
    {
     "name": "stdout",
     "output_type": "stream",
     "text": [
      "😍ok to continue\n",
      "file deleted\n",
      "(5000, 157)\n",
      "INFO: Found ChipWhisperer😍\n",
      "Detected unknown STM32F ID: 0x446\n",
      "Extended erase (0x44), this can take ten seconds or more\n",
      "Attempting to program 21323 bytes at 0x8000000\n",
      "STM32F Programming flash...\n",
      "STM32F Reading flash...\n",
      "Verified flash OK, 21323 bytes\n"
     ]
    },
    {
     "name": "stderr",
     "output_type": "stream",
     "text": [
      "(ChipWhisperer Target WARNING|File SimpleSerial.py:397) Unexpected start to command: \n"
     ]
    },
    {
     "name": "stdout",
     "output_type": "stream",
     "text": [
      "😍ok to continue\n",
      "file deleted\n",
      "(5000, 158)\n",
      "INFO: Found ChipWhisperer😍\n",
      "Detected unknown STM32F ID: 0x446\n",
      "Extended erase (0x44), this can take ten seconds or more\n",
      "Attempting to program 21323 bytes at 0x8000000\n",
      "STM32F Programming flash...\n",
      "STM32F Reading flash...\n",
      "Verified flash OK, 21323 bytes\n"
     ]
    },
    {
     "name": "stderr",
     "output_type": "stream",
     "text": [
      "(ChipWhisperer Target WARNING|File SimpleSerial.py:397) Unexpected start to command: \n"
     ]
    },
    {
     "name": "stdout",
     "output_type": "stream",
     "text": [
      "😍ok to continue\n",
      "file deleted\n",
      "(5000, 159)\n",
      "INFO: Found ChipWhisperer😍\n",
      "Detected unknown STM32F ID: 0x446\n",
      "Extended erase (0x44), this can take ten seconds or more\n",
      "Attempting to program 21323 bytes at 0x8000000\n",
      "STM32F Programming flash...\n",
      "STM32F Reading flash...\n",
      "Verified flash OK, 21323 bytes\n"
     ]
    },
    {
     "name": "stderr",
     "output_type": "stream",
     "text": [
      "(ChipWhisperer Target WARNING|File SimpleSerial.py:397) Unexpected start to command: \n"
     ]
    },
    {
     "name": "stdout",
     "output_type": "stream",
     "text": [
      "😍ok to continue\n",
      "file deleted\n",
      "(5000, 160)\n",
      "INFO: Found ChipWhisperer😍\n",
      "Detected unknown STM32F ID: 0x446\n",
      "Extended erase (0x44), this can take ten seconds or more\n",
      "Attempting to program 21323 bytes at 0x8000000\n",
      "STM32F Programming flash...\n",
      "STM32F Reading flash...\n",
      "Verified flash OK, 21323 bytes\n"
     ]
    },
    {
     "name": "stderr",
     "output_type": "stream",
     "text": [
      "(ChipWhisperer Target WARNING|File SimpleSerial.py:397) Unexpected start to command: \n"
     ]
    },
    {
     "name": "stdout",
     "output_type": "stream",
     "text": [
      "😍ok to continue\n",
      "file deleted\n",
      "(5000, 161)\n",
      "INFO: Found ChipWhisperer😍\n",
      "Detected unknown STM32F ID: 0x446\n",
      "Extended erase (0x44), this can take ten seconds or more\n",
      "Attempting to program 21323 bytes at 0x8000000\n",
      "STM32F Programming flash...\n",
      "STM32F Reading flash...\n",
      "Verified flash OK, 21323 bytes\n"
     ]
    },
    {
     "name": "stderr",
     "output_type": "stream",
     "text": [
      "(ChipWhisperer Target WARNING|File SimpleSerial.py:397) Unexpected start to command: \n"
     ]
    },
    {
     "name": "stdout",
     "output_type": "stream",
     "text": [
      "😍ok to continue\n",
      "file deleted\n",
      "(5000, 162)\n",
      "INFO: Found ChipWhisperer😍\n",
      "Detected unknown STM32F ID: 0x446\n",
      "Extended erase (0x44), this can take ten seconds or more\n",
      "Attempting to program 21323 bytes at 0x8000000\n",
      "STM32F Programming flash...\n",
      "STM32F Reading flash...\n",
      "Verified flash OK, 21323 bytes\n"
     ]
    },
    {
     "name": "stderr",
     "output_type": "stream",
     "text": [
      "(ChipWhisperer Target WARNING|File SimpleSerial.py:397) Unexpected start to command: \n"
     ]
    },
    {
     "name": "stdout",
     "output_type": "stream",
     "text": [
      "😍ok to continue\n",
      "file deleted\n",
      "(5000, 163)\n",
      "INFO: Found ChipWhisperer😍\n",
      "Detected unknown STM32F ID: 0x446\n",
      "Extended erase (0x44), this can take ten seconds or more\n",
      "Attempting to program 21323 bytes at 0x8000000\n",
      "STM32F Programming flash...\n",
      "STM32F Reading flash...\n",
      "Verified flash OK, 21323 bytes\n"
     ]
    },
    {
     "name": "stderr",
     "output_type": "stream",
     "text": [
      "(ChipWhisperer Target WARNING|File SimpleSerial.py:397) Unexpected start to command: \n"
     ]
    },
    {
     "name": "stdout",
     "output_type": "stream",
     "text": [
      "😍ok to continue\n",
      "file deleted\n",
      "(5000, 164)\n",
      "INFO: Found ChipWhisperer😍\n",
      "Detected unknown STM32F ID: 0x446\n",
      "Extended erase (0x44), this can take ten seconds or more\n",
      "Attempting to program 21323 bytes at 0x8000000\n",
      "STM32F Programming flash...\n",
      "STM32F Reading flash...\n",
      "Verified flash OK, 21323 bytes\n"
     ]
    },
    {
     "name": "stderr",
     "output_type": "stream",
     "text": [
      "(ChipWhisperer Target WARNING|File SimpleSerial.py:397) Unexpected start to command: \n"
     ]
    },
    {
     "name": "stdout",
     "output_type": "stream",
     "text": [
      "😍ok to continue\n",
      "file deleted\n",
      "(5000, 165)\n",
      "INFO: Found ChipWhisperer😍\n",
      "Detected unknown STM32F ID: 0x446\n",
      "Extended erase (0x44), this can take ten seconds or more\n",
      "Attempting to program 21323 bytes at 0x8000000\n",
      "STM32F Programming flash...\n",
      "STM32F Reading flash...\n",
      "Verified flash OK, 21323 bytes\n"
     ]
    },
    {
     "name": "stderr",
     "output_type": "stream",
     "text": [
      "(ChipWhisperer Target WARNING|File SimpleSerial.py:397) Unexpected start to command: \n"
     ]
    },
    {
     "name": "stdout",
     "output_type": "stream",
     "text": [
      "😍ok to continue\n",
      "file deleted\n",
      "(5000, 166)\n",
      "INFO: Found ChipWhisperer😍\n",
      "Detected unknown STM32F ID: 0x446\n",
      "Extended erase (0x44), this can take ten seconds or more\n",
      "Attempting to program 21323 bytes at 0x8000000\n",
      "STM32F Programming flash...\n",
      "STM32F Reading flash...\n",
      "Verified flash OK, 21323 bytes\n"
     ]
    },
    {
     "name": "stderr",
     "output_type": "stream",
     "text": [
      "(ChipWhisperer Target WARNING|File SimpleSerial.py:397) Unexpected start to command: \n"
     ]
    },
    {
     "name": "stdout",
     "output_type": "stream",
     "text": [
      "😍ok to continue\n",
      "file deleted\n",
      "(5000, 167)\n",
      "INFO: Found ChipWhisperer😍\n",
      "Detected unknown STM32F ID: 0x446\n",
      "Extended erase (0x44), this can take ten seconds or more\n",
      "Attempting to program 21323 bytes at 0x8000000\n",
      "STM32F Programming flash...\n",
      "STM32F Reading flash...\n",
      "Verified flash OK, 21323 bytes\n"
     ]
    },
    {
     "name": "stderr",
     "output_type": "stream",
     "text": [
      "(ChipWhisperer Target WARNING|File SimpleSerial.py:397) Unexpected start to command: \n"
     ]
    },
    {
     "name": "stdout",
     "output_type": "stream",
     "text": [
      "😍ok to continue\n",
      "file deleted\n",
      "(5000, 168)\n",
      "INFO: Found ChipWhisperer😍\n",
      "Detected unknown STM32F ID: 0x446\n",
      "Extended erase (0x44), this can take ten seconds or more\n",
      "Attempting to program 21323 bytes at 0x8000000\n",
      "STM32F Programming flash...\n",
      "STM32F Reading flash...\n",
      "Verified flash OK, 21323 bytes\n"
     ]
    },
    {
     "name": "stderr",
     "output_type": "stream",
     "text": [
      "(ChipWhisperer Target WARNING|File SimpleSerial.py:397) Unexpected start to command: \n"
     ]
    },
    {
     "name": "stdout",
     "output_type": "stream",
     "text": [
      "😍ok to continue\n",
      "file deleted\n",
      "(5000, 169)\n",
      "INFO: Found ChipWhisperer😍\n",
      "Detected unknown STM32F ID: 0x446\n",
      "Extended erase (0x44), this can take ten seconds or more\n",
      "Attempting to program 21323 bytes at 0x8000000\n",
      "STM32F Programming flash...\n",
      "STM32F Reading flash...\n",
      "Verified flash OK, 21323 bytes\n"
     ]
    },
    {
     "name": "stderr",
     "output_type": "stream",
     "text": [
      "(ChipWhisperer Target WARNING|File SimpleSerial.py:397) Unexpected start to command: \n"
     ]
    },
    {
     "name": "stdout",
     "output_type": "stream",
     "text": [
      "😍ok to continue\n",
      "file deleted\n",
      "(5000, 170)\n",
      "INFO: Found ChipWhisperer😍\n",
      "Detected unknown STM32F ID: 0x446\n",
      "Extended erase (0x44), this can take ten seconds or more\n",
      "Attempting to program 21323 bytes at 0x8000000\n",
      "STM32F Programming flash...\n",
      "STM32F Reading flash...\n",
      "Verified flash OK, 21323 bytes\n"
     ]
    },
    {
     "name": "stderr",
     "output_type": "stream",
     "text": [
      "(ChipWhisperer Target WARNING|File SimpleSerial.py:397) Unexpected start to command: \n"
     ]
    },
    {
     "name": "stdout",
     "output_type": "stream",
     "text": [
      "😍ok to continue\n",
      "file deleted\n",
      "(5000, 171)\n",
      "INFO: Found ChipWhisperer😍\n",
      "Detected unknown STM32F ID: 0x446\n",
      "Extended erase (0x44), this can take ten seconds or more\n",
      "Attempting to program 21323 bytes at 0x8000000\n",
      "STM32F Programming flash...\n",
      "STM32F Reading flash...\n",
      "Verified flash OK, 21323 bytes\n"
     ]
    },
    {
     "name": "stderr",
     "output_type": "stream",
     "text": [
      "(ChipWhisperer Target WARNING|File SimpleSerial.py:397) Unexpected start to command: \n"
     ]
    },
    {
     "name": "stdout",
     "output_type": "stream",
     "text": [
      "😍ok to continue\n",
      "file deleted\n",
      "(5000, 172)\n",
      "INFO: Found ChipWhisperer😍\n",
      "Detected unknown STM32F ID: 0x446\n",
      "Extended erase (0x44), this can take ten seconds or more\n",
      "Attempting to program 21323 bytes at 0x8000000\n",
      "STM32F Programming flash...\n",
      "STM32F Reading flash...\n",
      "Verified flash OK, 21323 bytes\n"
     ]
    },
    {
     "name": "stderr",
     "output_type": "stream",
     "text": [
      "(ChipWhisperer Target WARNING|File SimpleSerial.py:397) Unexpected start to command: \n"
     ]
    },
    {
     "name": "stdout",
     "output_type": "stream",
     "text": [
      "😍ok to continue\n",
      "file deleted\n",
      "(5000, 173)\n",
      "INFO: Found ChipWhisperer😍\n",
      "Detected unknown STM32F ID: 0x446\n",
      "Extended erase (0x44), this can take ten seconds or more\n",
      "Attempting to program 21323 bytes at 0x8000000\n",
      "STM32F Programming flash...\n",
      "STM32F Reading flash...\n",
      "Verified flash OK, 21323 bytes\n"
     ]
    },
    {
     "name": "stderr",
     "output_type": "stream",
     "text": [
      "(ChipWhisperer Target WARNING|File SimpleSerial.py:397) Unexpected start to command: \n"
     ]
    },
    {
     "name": "stdout",
     "output_type": "stream",
     "text": [
      "😍ok to continue\n",
      "file deleted\n",
      "(5000, 174)\n",
      "INFO: Found ChipWhisperer😍\n",
      "Detected unknown STM32F ID: 0x446\n",
      "Extended erase (0x44), this can take ten seconds or more\n",
      "Attempting to program 21323 bytes at 0x8000000\n",
      "STM32F Programming flash...\n",
      "STM32F Reading flash...\n",
      "Verified flash OK, 21323 bytes\n"
     ]
    },
    {
     "name": "stderr",
     "output_type": "stream",
     "text": [
      "(ChipWhisperer Target WARNING|File SimpleSerial.py:397) Unexpected start to command: \n"
     ]
    },
    {
     "name": "stdout",
     "output_type": "stream",
     "text": [
      "😍ok to continue\n",
      "file deleted\n",
      "(5000, 175)\n",
      "INFO: Found ChipWhisperer😍\n",
      "Detected unknown STM32F ID: 0x446\n",
      "Extended erase (0x44), this can take ten seconds or more\n",
      "Attempting to program 21323 bytes at 0x8000000\n",
      "STM32F Programming flash...\n",
      "STM32F Reading flash...\n",
      "Verified flash OK, 21323 bytes\n"
     ]
    },
    {
     "name": "stderr",
     "output_type": "stream",
     "text": [
      "(ChipWhisperer Target WARNING|File SimpleSerial.py:397) Unexpected start to command: \n"
     ]
    },
    {
     "name": "stdout",
     "output_type": "stream",
     "text": [
      "😍ok to continue\n",
      "file deleted\n",
      "(5000, 176)\n",
      "INFO: Found ChipWhisperer😍\n",
      "Detected unknown STM32F ID: 0x446\n",
      "Extended erase (0x44), this can take ten seconds or more\n",
      "Attempting to program 21323 bytes at 0x8000000\n",
      "STM32F Programming flash...\n",
      "STM32F Reading flash...\n",
      "Verified flash OK, 21323 bytes\n"
     ]
    },
    {
     "name": "stderr",
     "output_type": "stream",
     "text": [
      "(ChipWhisperer Target WARNING|File SimpleSerial.py:397) Unexpected start to command: \n"
     ]
    },
    {
     "name": "stdout",
     "output_type": "stream",
     "text": [
      "😍ok to continue\n",
      "file deleted\n",
      "(5000, 177)\n",
      "INFO: Found ChipWhisperer😍\n",
      "Detected unknown STM32F ID: 0x446\n",
      "Extended erase (0x44), this can take ten seconds or more\n",
      "Attempting to program 21323 bytes at 0x8000000\n",
      "STM32F Programming flash...\n",
      "STM32F Reading flash...\n",
      "Verified flash OK, 21323 bytes\n"
     ]
    },
    {
     "name": "stderr",
     "output_type": "stream",
     "text": [
      "(ChipWhisperer Target WARNING|File SimpleSerial.py:397) Unexpected start to command: \n"
     ]
    },
    {
     "name": "stdout",
     "output_type": "stream",
     "text": [
      "😍ok to continue\n",
      "file deleted\n",
      "(5000, 178)\n",
      "INFO: Found ChipWhisperer😍\n",
      "Detected unknown STM32F ID: 0x446\n",
      "Extended erase (0x44), this can take ten seconds or more\n",
      "Attempting to program 21323 bytes at 0x8000000\n",
      "STM32F Programming flash...\n",
      "STM32F Reading flash...\n",
      "Verified flash OK, 21323 bytes\n"
     ]
    },
    {
     "name": "stderr",
     "output_type": "stream",
     "text": [
      "(ChipWhisperer Target WARNING|File SimpleSerial.py:397) Unexpected start to command: \n"
     ]
    },
    {
     "name": "stdout",
     "output_type": "stream",
     "text": [
      "😍ok to continue\n",
      "file deleted\n",
      "(5000, 179)\n",
      "INFO: Found ChipWhisperer😍\n",
      "Detected unknown STM32F ID: 0x446\n",
      "Extended erase (0x44), this can take ten seconds or more\n",
      "Attempting to program 21323 bytes at 0x8000000\n",
      "STM32F Programming flash...\n",
      "STM32F Reading flash...\n",
      "Verified flash OK, 21323 bytes\n"
     ]
    },
    {
     "name": "stderr",
     "output_type": "stream",
     "text": [
      "(ChipWhisperer Target WARNING|File SimpleSerial.py:397) Unexpected start to command: \n"
     ]
    },
    {
     "name": "stdout",
     "output_type": "stream",
     "text": [
      "😍ok to continue\n",
      "file deleted\n",
      "(5000, 180)\n",
      "INFO: Found ChipWhisperer😍\n",
      "Detected unknown STM32F ID: 0x446\n",
      "Extended erase (0x44), this can take ten seconds or more\n",
      "Attempting to program 21323 bytes at 0x8000000\n",
      "STM32F Programming flash...\n",
      "STM32F Reading flash...\n",
      "Verified flash OK, 21323 bytes\n"
     ]
    },
    {
     "name": "stderr",
     "output_type": "stream",
     "text": [
      "(ChipWhisperer Target WARNING|File SimpleSerial.py:397) Unexpected start to command: \n"
     ]
    },
    {
     "name": "stdout",
     "output_type": "stream",
     "text": [
      "😍ok to continue\n",
      "file deleted\n",
      "(5000, 181)\n",
      "INFO: Found ChipWhisperer😍\n",
      "Detected unknown STM32F ID: 0x446\n",
      "Extended erase (0x44), this can take ten seconds or more\n",
      "Attempting to program 21323 bytes at 0x8000000\n",
      "STM32F Programming flash...\n",
      "STM32F Reading flash...\n",
      "Verified flash OK, 21323 bytes\n"
     ]
    },
    {
     "name": "stderr",
     "output_type": "stream",
     "text": [
      "(ChipWhisperer Target WARNING|File SimpleSerial.py:397) Unexpected start to command: \n"
     ]
    },
    {
     "name": "stdout",
     "output_type": "stream",
     "text": [
      "😍ok to continue\n",
      "file deleted\n",
      "(5000, 182)\n",
      "INFO: Found ChipWhisperer😍\n",
      "Detected unknown STM32F ID: 0x446\n",
      "Extended erase (0x44), this can take ten seconds or more\n",
      "Attempting to program 21323 bytes at 0x8000000\n",
      "STM32F Programming flash...\n",
      "STM32F Reading flash...\n",
      "Verified flash OK, 21323 bytes\n"
     ]
    },
    {
     "name": "stderr",
     "output_type": "stream",
     "text": [
      "(ChipWhisperer Target WARNING|File SimpleSerial.py:397) Unexpected start to command: \n"
     ]
    },
    {
     "name": "stdout",
     "output_type": "stream",
     "text": [
      "😍ok to continue\n",
      "file deleted\n",
      "(5000, 183)\n",
      "INFO: Found ChipWhisperer😍\n",
      "Detected unknown STM32F ID: 0x446\n",
      "Extended erase (0x44), this can take ten seconds or more\n",
      "Attempting to program 21323 bytes at 0x8000000\n",
      "STM32F Programming flash...\n",
      "STM32F Reading flash...\n",
      "Verified flash OK, 21323 bytes\n"
     ]
    },
    {
     "name": "stderr",
     "output_type": "stream",
     "text": [
      "(ChipWhisperer Target WARNING|File SimpleSerial.py:397) Unexpected start to command: \n"
     ]
    },
    {
     "name": "stdout",
     "output_type": "stream",
     "text": [
      "😍ok to continue\n",
      "file deleted\n",
      "(5000, 184)\n",
      "INFO: Found ChipWhisperer😍\n",
      "Detected unknown STM32F ID: 0x446\n",
      "Extended erase (0x44), this can take ten seconds or more\n",
      "Attempting to program 21323 bytes at 0x8000000\n",
      "STM32F Programming flash...\n",
      "STM32F Reading flash...\n",
      "Verified flash OK, 21323 bytes\n"
     ]
    },
    {
     "name": "stderr",
     "output_type": "stream",
     "text": [
      "(ChipWhisperer Target WARNING|File SimpleSerial.py:397) Unexpected start to command: \n"
     ]
    },
    {
     "name": "stdout",
     "output_type": "stream",
     "text": [
      "😍ok to continue\n",
      "file deleted\n",
      "(5000, 185)\n",
      "INFO: Found ChipWhisperer😍\n",
      "Detected unknown STM32F ID: 0x446\n",
      "Extended erase (0x44), this can take ten seconds or more\n",
      "Attempting to program 21323 bytes at 0x8000000\n",
      "STM32F Programming flash...\n",
      "STM32F Reading flash...\n",
      "Verified flash OK, 21323 bytes\n"
     ]
    },
    {
     "name": "stderr",
     "output_type": "stream",
     "text": [
      "(ChipWhisperer Target WARNING|File SimpleSerial.py:397) Unexpected start to command: \n"
     ]
    },
    {
     "name": "stdout",
     "output_type": "stream",
     "text": [
      "😍ok to continue\n",
      "file deleted\n",
      "(5000, 186)\n",
      "INFO: Found ChipWhisperer😍\n",
      "Detected unknown STM32F ID: 0x446\n",
      "Extended erase (0x44), this can take ten seconds or more\n",
      "Attempting to program 21323 bytes at 0x8000000\n",
      "STM32F Programming flash...\n",
      "STM32F Reading flash...\n",
      "Verified flash OK, 21323 bytes\n"
     ]
    },
    {
     "name": "stderr",
     "output_type": "stream",
     "text": [
      "(ChipWhisperer Target WARNING|File SimpleSerial.py:397) Unexpected start to command: \n"
     ]
    },
    {
     "name": "stdout",
     "output_type": "stream",
     "text": [
      "😍ok to continue\n",
      "file deleted\n",
      "(5000, 187)\n",
      "INFO: Found ChipWhisperer😍\n",
      "Detected unknown STM32F ID: 0x446\n",
      "Extended erase (0x44), this can take ten seconds or more\n",
      "Attempting to program 21323 bytes at 0x8000000\n",
      "STM32F Programming flash...\n",
      "STM32F Reading flash...\n",
      "Verified flash OK, 21323 bytes\n"
     ]
    },
    {
     "name": "stderr",
     "output_type": "stream",
     "text": [
      "(ChipWhisperer Target WARNING|File SimpleSerial.py:397) Unexpected start to command: \n"
     ]
    },
    {
     "name": "stdout",
     "output_type": "stream",
     "text": [
      "😍ok to continue\n",
      "file deleted\n",
      "(5000, 188)\n",
      "INFO: Found ChipWhisperer😍\n",
      "Detected unknown STM32F ID: 0x446\n",
      "Extended erase (0x44), this can take ten seconds or more\n",
      "Attempting to program 21323 bytes at 0x8000000\n",
      "STM32F Programming flash...\n",
      "STM32F Reading flash...\n",
      "Verified flash OK, 21323 bytes\n"
     ]
    },
    {
     "name": "stderr",
     "output_type": "stream",
     "text": [
      "(ChipWhisperer Target WARNING|File SimpleSerial.py:397) Unexpected start to command: \n"
     ]
    },
    {
     "name": "stdout",
     "output_type": "stream",
     "text": [
      "😍ok to continue\n",
      "file deleted\n",
      "(5000, 189)\n",
      "INFO: Found ChipWhisperer😍\n",
      "Detected unknown STM32F ID: 0x446\n",
      "Extended erase (0x44), this can take ten seconds or more\n",
      "Attempting to program 21323 bytes at 0x8000000\n",
      "STM32F Programming flash...\n",
      "STM32F Reading flash...\n",
      "Verified flash OK, 21323 bytes\n"
     ]
    },
    {
     "name": "stderr",
     "output_type": "stream",
     "text": [
      "(ChipWhisperer Target WARNING|File SimpleSerial.py:397) Unexpected start to command: \n"
     ]
    },
    {
     "name": "stdout",
     "output_type": "stream",
     "text": [
      "😍ok to continue\n",
      "file deleted\n",
      "(5000, 190)\n",
      "INFO: Found ChipWhisperer😍\n",
      "Detected unknown STM32F ID: 0x446\n",
      "Extended erase (0x44), this can take ten seconds or more\n",
      "Attempting to program 21323 bytes at 0x8000000\n",
      "STM32F Programming flash...\n",
      "STM32F Reading flash...\n",
      "Verified flash OK, 21323 bytes\n"
     ]
    },
    {
     "name": "stderr",
     "output_type": "stream",
     "text": [
      "(ChipWhisperer Target WARNING|File SimpleSerial.py:397) Unexpected start to command: \n"
     ]
    },
    {
     "name": "stdout",
     "output_type": "stream",
     "text": [
      "😍ok to continue\n",
      "file deleted\n",
      "(5000, 191)\n",
      "INFO: Found ChipWhisperer😍\n",
      "Detected unknown STM32F ID: 0x446\n",
      "Extended erase (0x44), this can take ten seconds or more\n",
      "Attempting to program 21323 bytes at 0x8000000\n",
      "STM32F Programming flash...\n",
      "STM32F Reading flash...\n",
      "Verified flash OK, 21323 bytes\n"
     ]
    },
    {
     "name": "stderr",
     "output_type": "stream",
     "text": [
      "(ChipWhisperer Target WARNING|File SimpleSerial.py:397) Unexpected start to command: \n"
     ]
    },
    {
     "name": "stdout",
     "output_type": "stream",
     "text": [
      "😍ok to continue\n",
      "file deleted\n",
      "(5000, 192)\n",
      "INFO: Found ChipWhisperer😍\n",
      "Detected unknown STM32F ID: 0x446\n",
      "Extended erase (0x44), this can take ten seconds or more\n",
      "Attempting to program 21323 bytes at 0x8000000\n",
      "STM32F Programming flash...\n",
      "STM32F Reading flash...\n",
      "Verified flash OK, 21323 bytes\n"
     ]
    },
    {
     "name": "stderr",
     "output_type": "stream",
     "text": [
      "(ChipWhisperer Target WARNING|File SimpleSerial.py:397) Unexpected start to command: \n"
     ]
    },
    {
     "name": "stdout",
     "output_type": "stream",
     "text": [
      "😍ok to continue\n",
      "file deleted\n",
      "(5000, 193)\n",
      "INFO: Found ChipWhisperer😍\n",
      "Detected unknown STM32F ID: 0x446\n",
      "Extended erase (0x44), this can take ten seconds or more\n",
      "Attempting to program 21323 bytes at 0x8000000\n",
      "STM32F Programming flash...\n",
      "STM32F Reading flash...\n",
      "Verified flash OK, 21323 bytes\n"
     ]
    },
    {
     "name": "stderr",
     "output_type": "stream",
     "text": [
      "(ChipWhisperer Target WARNING|File SimpleSerial.py:397) Unexpected start to command: \n"
     ]
    },
    {
     "name": "stdout",
     "output_type": "stream",
     "text": [
      "😍ok to continue\n",
      "file deleted\n",
      "(5000, 194)\n",
      "INFO: Found ChipWhisperer😍\n",
      "Detected unknown STM32F ID: 0x446\n",
      "Extended erase (0x44), this can take ten seconds or more\n",
      "Attempting to program 21323 bytes at 0x8000000\n",
      "STM32F Programming flash...\n",
      "STM32F Reading flash...\n",
      "Verified flash OK, 21323 bytes\n"
     ]
    },
    {
     "name": "stderr",
     "output_type": "stream",
     "text": [
      "(ChipWhisperer Target WARNING|File SimpleSerial.py:397) Unexpected start to command: \n"
     ]
    },
    {
     "name": "stdout",
     "output_type": "stream",
     "text": [
      "😍ok to continue\n",
      "file deleted\n",
      "(5000, 195)\n",
      "INFO: Found ChipWhisperer😍\n",
      "Detected unknown STM32F ID: 0x446\n",
      "Extended erase (0x44), this can take ten seconds or more\n",
      "Attempting to program 21323 bytes at 0x8000000\n",
      "STM32F Programming flash...\n",
      "STM32F Reading flash...\n",
      "Verified flash OK, 21323 bytes\n"
     ]
    },
    {
     "name": "stderr",
     "output_type": "stream",
     "text": [
      "(ChipWhisperer Target WARNING|File SimpleSerial.py:397) Unexpected start to command: \n"
     ]
    },
    {
     "name": "stdout",
     "output_type": "stream",
     "text": [
      "😍ok to continue\n",
      "file deleted\n",
      "(5000, 196)\n",
      "INFO: Found ChipWhisperer😍\n",
      "Detected unknown STM32F ID: 0x446\n",
      "Extended erase (0x44), this can take ten seconds or more\n",
      "Attempting to program 21323 bytes at 0x8000000\n",
      "STM32F Programming flash...\n",
      "STM32F Reading flash...\n",
      "Verified flash OK, 21323 bytes\n"
     ]
    },
    {
     "name": "stderr",
     "output_type": "stream",
     "text": [
      "(ChipWhisperer Target WARNING|File SimpleSerial.py:397) Unexpected start to command: \n"
     ]
    },
    {
     "name": "stdout",
     "output_type": "stream",
     "text": [
      "😍ok to continue\n",
      "file deleted\n",
      "(5000, 197)\n",
      "INFO: Found ChipWhisperer😍\n",
      "Detected unknown STM32F ID: 0x446\n",
      "Extended erase (0x44), this can take ten seconds or more\n",
      "Attempting to program 21323 bytes at 0x8000000\n",
      "STM32F Programming flash...\n",
      "STM32F Reading flash...\n",
      "Verified flash OK, 21323 bytes\n"
     ]
    },
    {
     "name": "stderr",
     "output_type": "stream",
     "text": [
      "(ChipWhisperer Target WARNING|File SimpleSerial.py:397) Unexpected start to command: \n"
     ]
    },
    {
     "name": "stdout",
     "output_type": "stream",
     "text": [
      "😍ok to continue\n",
      "file deleted\n",
      "(5000, 198)\n",
      "INFO: Found ChipWhisperer😍\n",
      "Detected unknown STM32F ID: 0x446\n",
      "Extended erase (0x44), this can take ten seconds or more\n",
      "Attempting to program 21323 bytes at 0x8000000\n",
      "STM32F Programming flash...\n",
      "STM32F Reading flash...\n",
      "Verified flash OK, 21323 bytes\n"
     ]
    },
    {
     "name": "stderr",
     "output_type": "stream",
     "text": [
      "(ChipWhisperer Target WARNING|File SimpleSerial.py:397) Unexpected start to command: \n"
     ]
    },
    {
     "name": "stdout",
     "output_type": "stream",
     "text": [
      "😍ok to continue\n",
      "file deleted\n",
      "(5000, 199)\n",
      "INFO: Found ChipWhisperer😍\n",
      "Detected unknown STM32F ID: 0x446\n",
      "Extended erase (0x44), this can take ten seconds or more\n",
      "Attempting to program 21323 bytes at 0x8000000\n",
      "STM32F Programming flash...\n",
      "STM32F Reading flash...\n",
      "Verified flash OK, 21323 bytes\n"
     ]
    },
    {
     "name": "stderr",
     "output_type": "stream",
     "text": [
      "(ChipWhisperer Target WARNING|File SimpleSerial.py:397) Unexpected start to command: \n"
     ]
    },
    {
     "name": "stdout",
     "output_type": "stream",
     "text": [
      "😍ok to continue\n",
      "file deleted\n",
      "(5000, 200)\n",
      "INFO: Found ChipWhisperer😍\n",
      "Detected unknown STM32F ID: 0x446\n",
      "Extended erase (0x44), this can take ten seconds or more\n",
      "Attempting to program 21323 bytes at 0x8000000\n",
      "STM32F Programming flash...\n",
      "STM32F Reading flash...\n",
      "Verified flash OK, 21323 bytes\n"
     ]
    },
    {
     "name": "stderr",
     "output_type": "stream",
     "text": [
      "(ChipWhisperer Target WARNING|File SimpleSerial.py:397) Unexpected start to command: \n"
     ]
    },
    {
     "name": "stdout",
     "output_type": "stream",
     "text": [
      "😍ok to continue\n",
      "file deleted\n",
      "(5000, 201)\n"
     ]
    }
   ],
   "source": [
    "## automation\n",
    "import chipwhisperer as cw\n",
    "import pandas as pd\n",
    "import os\n",
    "\n",
    "def capture_trace(_ignored=None):\n",
    "    ktp = cw.ktp.Basic()\n",
    "    key, text = ktp.next()\n",
    "    return cw.capture_trace(scope, target, text).wave\n",
    "\n",
    "file = 'LOR.csv'\n",
    "for i in range(200):\n",
    "    try:\n",
    "        if not scope.connectStatus:\n",
    "            scope.con()\n",
    "    except NameError:\n",
    "        scope = cw.scope()\n",
    "\n",
    "    try:\n",
    "        target = cw.target(scope)\n",
    "    except IOError:\n",
    "        print(\"INFO: Caught exception on reconnecting to target - attempting to reconnect to scope first.\")\n",
    "        print(\"INFO: This is a work-around when USB has died without Python knowing. Ignore errors above this line.\")\n",
    "        scope = cw.scope()\n",
    "        target = cw.target(scope)\n",
    "\n",
    "    print(\"INFO: Found ChipWhisperer😍\")\n",
    "\n",
    "    if \"STM\" in PLATFORM or PLATFORM == \"CWLITEARM\" or PLATFORM == \"CWNANO\":\n",
    "        prog = cw.programmers.STM32FProgrammer\n",
    "    elif PLATFORM == \"CW303\" or PLATFORM == \"CWLITEXMEGA\":\n",
    "        prog = cw.programmers.XMEGAProgrammer\n",
    "    else:\n",
    "        prog = None\n",
    "\n",
    "    import time\n",
    "    time.sleep(0.05)\n",
    "    scope.default_setup()\n",
    "    def reset_target(scope):\n",
    "        if PLATFORM == \"CW303\" or PLATFORM == \"CWLITEXMEGA\":\n",
    "            scope.io.pdic = 'low'\n",
    "            time.sleep(0.05)\n",
    "            scope.io.pdic = 'high_z' #XMEGA doesn't like pdic driven high\n",
    "            time.sleep(0.05)\n",
    "        else:  \n",
    "            scope.io.nrst = 'low'\n",
    "            time.sleep(0.05)\n",
    "            scope.io.nrst = 'high_z'\n",
    "            time.sleep(0.05)\n",
    "            \n",
    "            \n",
    "    cw.program_target(scope, prog, \"hardware/victims/firmware/simpleserial-nn/simpleserial-base-{}.hex\".format(PLATFORM))\n",
    "    \n",
    "    \n",
    "    wave = capture_trace()\n",
    "    print(\"😍ok to continue\")\n",
    "    df = pd.DataFrame(wave)\n",
    "    olddf = pd.read_csv('LOR.csv')\n",
    "    if(os.path.exists(file) and os.path.isfile(file)):\n",
    "        os.remove(file)\n",
    "        print(\"file deleted\")\n",
    "        \n",
    "    finaldf = pd.concat([olddf, df], axis=1)\n",
    "    \n",
    "    print(finaldf.shape)\n",
    "    finaldf.to_csv('LOR.csv',index = False)\n",
    "\n",
    "    "
   ]
  },
  {
   "cell_type": "code",
   "execution_count": 10,
   "id": "f97fd96e",
   "metadata": {},
   "outputs": [
    {
     "name": "stdout",
     "output_type": "stream",
     "text": [
      "Detected unknown STM32F ID: 0x446\n",
      "Extended erase (0x44), this can take ten seconds or more\n",
      "Attempting to program 11843 bytes at 0x8000000\n",
      "STM32F Programming flash...\n",
      "STM32F Reading flash...\n",
      "Verified flash OK, 11843 bytes\n"
     ]
    }
   ],
   "source": [
    "cw.program_target(scope, prog, \"hardware/victims/firmware/simpleserial-nn/simpleserial-base-{}.hex\".format(PLATFORM))"
   ]
  },
  {
   "cell_type": "code",
   "execution_count": 11,
   "id": "4ecf9640",
   "metadata": {},
   "outputs": [],
   "source": [
    "def capture_trace(_ignored=None):\n",
    "    ktp = cw.ktp.Basic()\n",
    "    key, text = ktp.next()\n",
    "    return cw.capture_trace(scope, target, text).wave"
   ]
  },
  {
   "cell_type": "code",
   "execution_count": 12,
   "id": "cffa3834",
   "metadata": {},
   "outputs": [
    {
     "name": "stderr",
     "output_type": "stream",
     "text": [
      "(ChipWhisperer Target WARNING|File SimpleSerial.py:397) Unexpected start to command: \n"
     ]
    },
    {
     "name": "stdout",
     "output_type": "stream",
     "text": [
      "😍ok to continue\n"
     ]
    }
   ],
   "source": [
    "wave = capture_trace()\n",
    "print(\"😍ok to continue\")"
   ]
  },
  {
   "cell_type": "code",
   "execution_count": 13,
   "id": "15d157de",
   "metadata": {},
   "outputs": [],
   "source": [
    "import pandas as pd\n",
    "\n",
    "df = pd.DataFrame(wave)\n",
    "df.to_csv('new.csv')"
   ]
  },
  {
   "cell_type": "code",
   "execution_count": 14,
   "id": "b8c5a81b",
   "metadata": {},
   "outputs": [
    {
     "data": {
      "application/javascript": [
       "/* Put everything inside the global mpl namespace */\n",
       "/* global mpl */\n",
       "window.mpl = {};\n",
       "\n",
       "mpl.get_websocket_type = function () {\n",
       "    if (typeof WebSocket !== 'undefined') {\n",
       "        return WebSocket;\n",
       "    } else if (typeof MozWebSocket !== 'undefined') {\n",
       "        return MozWebSocket;\n",
       "    } else {\n",
       "        alert(\n",
       "            'Your browser does not have WebSocket support. ' +\n",
       "                'Please try Chrome, Safari or Firefox ≥ 6. ' +\n",
       "                'Firefox 4 and 5 are also supported but you ' +\n",
       "                'have to enable WebSockets in about:config.'\n",
       "        );\n",
       "    }\n",
       "};\n",
       "\n",
       "mpl.figure = function (figure_id, websocket, ondownload, parent_element) {\n",
       "    this.id = figure_id;\n",
       "\n",
       "    this.ws = websocket;\n",
       "\n",
       "    this.supports_binary = this.ws.binaryType !== undefined;\n",
       "\n",
       "    if (!this.supports_binary) {\n",
       "        var warnings = document.getElementById('mpl-warnings');\n",
       "        if (warnings) {\n",
       "            warnings.style.display = 'block';\n",
       "            warnings.textContent =\n",
       "                'This browser does not support binary websocket messages. ' +\n",
       "                'Performance may be slow.';\n",
       "        }\n",
       "    }\n",
       "\n",
       "    this.imageObj = new Image();\n",
       "\n",
       "    this.context = undefined;\n",
       "    this.message = undefined;\n",
       "    this.canvas = undefined;\n",
       "    this.rubberband_canvas = undefined;\n",
       "    this.rubberband_context = undefined;\n",
       "    this.format_dropdown = undefined;\n",
       "\n",
       "    this.image_mode = 'full';\n",
       "\n",
       "    this.root = document.createElement('div');\n",
       "    this.root.setAttribute('style', 'display: inline-block');\n",
       "    this._root_extra_style(this.root);\n",
       "\n",
       "    parent_element.appendChild(this.root);\n",
       "\n",
       "    this._init_header(this);\n",
       "    this._init_canvas(this);\n",
       "    this._init_toolbar(this);\n",
       "\n",
       "    var fig = this;\n",
       "\n",
       "    this.waiting = false;\n",
       "\n",
       "    this.ws.onopen = function () {\n",
       "        fig.send_message('supports_binary', { value: fig.supports_binary });\n",
       "        fig.send_message('send_image_mode', {});\n",
       "        if (fig.ratio !== 1) {\n",
       "            fig.send_message('set_device_pixel_ratio', {\n",
       "                device_pixel_ratio: fig.ratio,\n",
       "            });\n",
       "        }\n",
       "        fig.send_message('refresh', {});\n",
       "    };\n",
       "\n",
       "    this.imageObj.onload = function () {\n",
       "        if (fig.image_mode === 'full') {\n",
       "            // Full images could contain transparency (where diff images\n",
       "            // almost always do), so we need to clear the canvas so that\n",
       "            // there is no ghosting.\n",
       "            fig.context.clearRect(0, 0, fig.canvas.width, fig.canvas.height);\n",
       "        }\n",
       "        fig.context.drawImage(fig.imageObj, 0, 0);\n",
       "    };\n",
       "\n",
       "    this.imageObj.onunload = function () {\n",
       "        fig.ws.close();\n",
       "    };\n",
       "\n",
       "    this.ws.onmessage = this._make_on_message_function(this);\n",
       "\n",
       "    this.ondownload = ondownload;\n",
       "};\n",
       "\n",
       "mpl.figure.prototype._init_header = function () {\n",
       "    var titlebar = document.createElement('div');\n",
       "    titlebar.classList =\n",
       "        'ui-dialog-titlebar ui-widget-header ui-corner-all ui-helper-clearfix';\n",
       "    var titletext = document.createElement('div');\n",
       "    titletext.classList = 'ui-dialog-title';\n",
       "    titletext.setAttribute(\n",
       "        'style',\n",
       "        'width: 100%; text-align: center; padding: 3px;'\n",
       "    );\n",
       "    titlebar.appendChild(titletext);\n",
       "    this.root.appendChild(titlebar);\n",
       "    this.header = titletext;\n",
       "};\n",
       "\n",
       "mpl.figure.prototype._canvas_extra_style = function (_canvas_div) {};\n",
       "\n",
       "mpl.figure.prototype._root_extra_style = function (_canvas_div) {};\n",
       "\n",
       "mpl.figure.prototype._init_canvas = function () {\n",
       "    var fig = this;\n",
       "\n",
       "    var canvas_div = (this.canvas_div = document.createElement('div'));\n",
       "    canvas_div.setAttribute(\n",
       "        'style',\n",
       "        'border: 1px solid #ddd;' +\n",
       "            'box-sizing: content-box;' +\n",
       "            'clear: both;' +\n",
       "            'min-height: 1px;' +\n",
       "            'min-width: 1px;' +\n",
       "            'outline: 0;' +\n",
       "            'overflow: hidden;' +\n",
       "            'position: relative;' +\n",
       "            'resize: both;'\n",
       "    );\n",
       "\n",
       "    function on_keyboard_event_closure(name) {\n",
       "        return function (event) {\n",
       "            return fig.key_event(event, name);\n",
       "        };\n",
       "    }\n",
       "\n",
       "    canvas_div.addEventListener(\n",
       "        'keydown',\n",
       "        on_keyboard_event_closure('key_press')\n",
       "    );\n",
       "    canvas_div.addEventListener(\n",
       "        'keyup',\n",
       "        on_keyboard_event_closure('key_release')\n",
       "    );\n",
       "\n",
       "    this._canvas_extra_style(canvas_div);\n",
       "    this.root.appendChild(canvas_div);\n",
       "\n",
       "    var canvas = (this.canvas = document.createElement('canvas'));\n",
       "    canvas.classList.add('mpl-canvas');\n",
       "    canvas.setAttribute('style', 'box-sizing: content-box;');\n",
       "\n",
       "    this.context = canvas.getContext('2d');\n",
       "\n",
       "    var backingStore =\n",
       "        this.context.backingStorePixelRatio ||\n",
       "        this.context.webkitBackingStorePixelRatio ||\n",
       "        this.context.mozBackingStorePixelRatio ||\n",
       "        this.context.msBackingStorePixelRatio ||\n",
       "        this.context.oBackingStorePixelRatio ||\n",
       "        this.context.backingStorePixelRatio ||\n",
       "        1;\n",
       "\n",
       "    this.ratio = (window.devicePixelRatio || 1) / backingStore;\n",
       "\n",
       "    var rubberband_canvas = (this.rubberband_canvas = document.createElement(\n",
       "        'canvas'\n",
       "    ));\n",
       "    rubberband_canvas.setAttribute(\n",
       "        'style',\n",
       "        'box-sizing: content-box; position: absolute; left: 0; top: 0; z-index: 1;'\n",
       "    );\n",
       "\n",
       "    // Apply a ponyfill if ResizeObserver is not implemented by browser.\n",
       "    if (this.ResizeObserver === undefined) {\n",
       "        if (window.ResizeObserver !== undefined) {\n",
       "            this.ResizeObserver = window.ResizeObserver;\n",
       "        } else {\n",
       "            var obs = _JSXTOOLS_RESIZE_OBSERVER({});\n",
       "            this.ResizeObserver = obs.ResizeObserver;\n",
       "        }\n",
       "    }\n",
       "\n",
       "    this.resizeObserverInstance = new this.ResizeObserver(function (entries) {\n",
       "        var nentries = entries.length;\n",
       "        for (var i = 0; i < nentries; i++) {\n",
       "            var entry = entries[i];\n",
       "            var width, height;\n",
       "            if (entry.contentBoxSize) {\n",
       "                if (entry.contentBoxSize instanceof Array) {\n",
       "                    // Chrome 84 implements new version of spec.\n",
       "                    width = entry.contentBoxSize[0].inlineSize;\n",
       "                    height = entry.contentBoxSize[0].blockSize;\n",
       "                } else {\n",
       "                    // Firefox implements old version of spec.\n",
       "                    width = entry.contentBoxSize.inlineSize;\n",
       "                    height = entry.contentBoxSize.blockSize;\n",
       "                }\n",
       "            } else {\n",
       "                // Chrome <84 implements even older version of spec.\n",
       "                width = entry.contentRect.width;\n",
       "                height = entry.contentRect.height;\n",
       "            }\n",
       "\n",
       "            // Keep the size of the canvas and rubber band canvas in sync with\n",
       "            // the canvas container.\n",
       "            if (entry.devicePixelContentBoxSize) {\n",
       "                // Chrome 84 implements new version of spec.\n",
       "                canvas.setAttribute(\n",
       "                    'width',\n",
       "                    entry.devicePixelContentBoxSize[0].inlineSize\n",
       "                );\n",
       "                canvas.setAttribute(\n",
       "                    'height',\n",
       "                    entry.devicePixelContentBoxSize[0].blockSize\n",
       "                );\n",
       "            } else {\n",
       "                canvas.setAttribute('width', width * fig.ratio);\n",
       "                canvas.setAttribute('height', height * fig.ratio);\n",
       "            }\n",
       "            canvas.setAttribute(\n",
       "                'style',\n",
       "                'width: ' + width + 'px; height: ' + height + 'px;'\n",
       "            );\n",
       "\n",
       "            rubberband_canvas.setAttribute('width', width);\n",
       "            rubberband_canvas.setAttribute('height', height);\n",
       "\n",
       "            // And update the size in Python. We ignore the initial 0/0 size\n",
       "            // that occurs as the element is placed into the DOM, which should\n",
       "            // otherwise not happen due to the minimum size styling.\n",
       "            if (fig.ws.readyState == 1 && width != 0 && height != 0) {\n",
       "                fig.request_resize(width, height);\n",
       "            }\n",
       "        }\n",
       "    });\n",
       "    this.resizeObserverInstance.observe(canvas_div);\n",
       "\n",
       "    function on_mouse_event_closure(name) {\n",
       "        return function (event) {\n",
       "            return fig.mouse_event(event, name);\n",
       "        };\n",
       "    }\n",
       "\n",
       "    rubberband_canvas.addEventListener(\n",
       "        'mousedown',\n",
       "        on_mouse_event_closure('button_press')\n",
       "    );\n",
       "    rubberband_canvas.addEventListener(\n",
       "        'mouseup',\n",
       "        on_mouse_event_closure('button_release')\n",
       "    );\n",
       "    rubberband_canvas.addEventListener(\n",
       "        'dblclick',\n",
       "        on_mouse_event_closure('dblclick')\n",
       "    );\n",
       "    // Throttle sequential mouse events to 1 every 20ms.\n",
       "    rubberband_canvas.addEventListener(\n",
       "        'mousemove',\n",
       "        on_mouse_event_closure('motion_notify')\n",
       "    );\n",
       "\n",
       "    rubberband_canvas.addEventListener(\n",
       "        'mouseenter',\n",
       "        on_mouse_event_closure('figure_enter')\n",
       "    );\n",
       "    rubberband_canvas.addEventListener(\n",
       "        'mouseleave',\n",
       "        on_mouse_event_closure('figure_leave')\n",
       "    );\n",
       "\n",
       "    canvas_div.addEventListener('wheel', function (event) {\n",
       "        if (event.deltaY < 0) {\n",
       "            event.step = 1;\n",
       "        } else {\n",
       "            event.step = -1;\n",
       "        }\n",
       "        on_mouse_event_closure('scroll')(event);\n",
       "    });\n",
       "\n",
       "    canvas_div.appendChild(canvas);\n",
       "    canvas_div.appendChild(rubberband_canvas);\n",
       "\n",
       "    this.rubberband_context = rubberband_canvas.getContext('2d');\n",
       "    this.rubberband_context.strokeStyle = '#000000';\n",
       "\n",
       "    this._resize_canvas = function (width, height, forward) {\n",
       "        if (forward) {\n",
       "            canvas_div.style.width = width + 'px';\n",
       "            canvas_div.style.height = height + 'px';\n",
       "        }\n",
       "    };\n",
       "\n",
       "    // Disable right mouse context menu.\n",
       "    this.rubberband_canvas.addEventListener('contextmenu', function (_e) {\n",
       "        event.preventDefault();\n",
       "        return false;\n",
       "    });\n",
       "\n",
       "    function set_focus() {\n",
       "        canvas.focus();\n",
       "        canvas_div.focus();\n",
       "    }\n",
       "\n",
       "    window.setTimeout(set_focus, 100);\n",
       "};\n",
       "\n",
       "mpl.figure.prototype._init_toolbar = function () {\n",
       "    var fig = this;\n",
       "\n",
       "    var toolbar = document.createElement('div');\n",
       "    toolbar.classList = 'mpl-toolbar';\n",
       "    this.root.appendChild(toolbar);\n",
       "\n",
       "    function on_click_closure(name) {\n",
       "        return function (_event) {\n",
       "            return fig.toolbar_button_onclick(name);\n",
       "        };\n",
       "    }\n",
       "\n",
       "    function on_mouseover_closure(tooltip) {\n",
       "        return function (event) {\n",
       "            if (!event.currentTarget.disabled) {\n",
       "                return fig.toolbar_button_onmouseover(tooltip);\n",
       "            }\n",
       "        };\n",
       "    }\n",
       "\n",
       "    fig.buttons = {};\n",
       "    var buttonGroup = document.createElement('div');\n",
       "    buttonGroup.classList = 'mpl-button-group';\n",
       "    for (var toolbar_ind in mpl.toolbar_items) {\n",
       "        var name = mpl.toolbar_items[toolbar_ind][0];\n",
       "        var tooltip = mpl.toolbar_items[toolbar_ind][1];\n",
       "        var image = mpl.toolbar_items[toolbar_ind][2];\n",
       "        var method_name = mpl.toolbar_items[toolbar_ind][3];\n",
       "\n",
       "        if (!name) {\n",
       "            /* Instead of a spacer, we start a new button group. */\n",
       "            if (buttonGroup.hasChildNodes()) {\n",
       "                toolbar.appendChild(buttonGroup);\n",
       "            }\n",
       "            buttonGroup = document.createElement('div');\n",
       "            buttonGroup.classList = 'mpl-button-group';\n",
       "            continue;\n",
       "        }\n",
       "\n",
       "        var button = (fig.buttons[name] = document.createElement('button'));\n",
       "        button.classList = 'mpl-widget';\n",
       "        button.setAttribute('role', 'button');\n",
       "        button.setAttribute('aria-disabled', 'false');\n",
       "        button.addEventListener('click', on_click_closure(method_name));\n",
       "        button.addEventListener('mouseover', on_mouseover_closure(tooltip));\n",
       "\n",
       "        var icon_img = document.createElement('img');\n",
       "        icon_img.src = '_images/' + image + '.png';\n",
       "        icon_img.srcset = '_images/' + image + '_large.png 2x';\n",
       "        icon_img.alt = tooltip;\n",
       "        button.appendChild(icon_img);\n",
       "\n",
       "        buttonGroup.appendChild(button);\n",
       "    }\n",
       "\n",
       "    if (buttonGroup.hasChildNodes()) {\n",
       "        toolbar.appendChild(buttonGroup);\n",
       "    }\n",
       "\n",
       "    var fmt_picker = document.createElement('select');\n",
       "    fmt_picker.classList = 'mpl-widget';\n",
       "    toolbar.appendChild(fmt_picker);\n",
       "    this.format_dropdown = fmt_picker;\n",
       "\n",
       "    for (var ind in mpl.extensions) {\n",
       "        var fmt = mpl.extensions[ind];\n",
       "        var option = document.createElement('option');\n",
       "        option.selected = fmt === mpl.default_extension;\n",
       "        option.innerHTML = fmt;\n",
       "        fmt_picker.appendChild(option);\n",
       "    }\n",
       "\n",
       "    var status_bar = document.createElement('span');\n",
       "    status_bar.classList = 'mpl-message';\n",
       "    toolbar.appendChild(status_bar);\n",
       "    this.message = status_bar;\n",
       "};\n",
       "\n",
       "mpl.figure.prototype.request_resize = function (x_pixels, y_pixels) {\n",
       "    // Request matplotlib to resize the figure. Matplotlib will then trigger a resize in the client,\n",
       "    // which will in turn request a refresh of the image.\n",
       "    this.send_message('resize', { width: x_pixels, height: y_pixels });\n",
       "};\n",
       "\n",
       "mpl.figure.prototype.send_message = function (type, properties) {\n",
       "    properties['type'] = type;\n",
       "    properties['figure_id'] = this.id;\n",
       "    this.ws.send(JSON.stringify(properties));\n",
       "};\n",
       "\n",
       "mpl.figure.prototype.send_draw_message = function () {\n",
       "    if (!this.waiting) {\n",
       "        this.waiting = true;\n",
       "        this.ws.send(JSON.stringify({ type: 'draw', figure_id: this.id }));\n",
       "    }\n",
       "};\n",
       "\n",
       "mpl.figure.prototype.handle_save = function (fig, _msg) {\n",
       "    var format_dropdown = fig.format_dropdown;\n",
       "    var format = format_dropdown.options[format_dropdown.selectedIndex].value;\n",
       "    fig.ondownload(fig, format);\n",
       "};\n",
       "\n",
       "mpl.figure.prototype.handle_resize = function (fig, msg) {\n",
       "    var size = msg['size'];\n",
       "    if (size[0] !== fig.canvas.width || size[1] !== fig.canvas.height) {\n",
       "        fig._resize_canvas(size[0], size[1], msg['forward']);\n",
       "        fig.send_message('refresh', {});\n",
       "    }\n",
       "};\n",
       "\n",
       "mpl.figure.prototype.handle_rubberband = function (fig, msg) {\n",
       "    var x0 = msg['x0'] / fig.ratio;\n",
       "    var y0 = (fig.canvas.height - msg['y0']) / fig.ratio;\n",
       "    var x1 = msg['x1'] / fig.ratio;\n",
       "    var y1 = (fig.canvas.height - msg['y1']) / fig.ratio;\n",
       "    x0 = Math.floor(x0) + 0.5;\n",
       "    y0 = Math.floor(y0) + 0.5;\n",
       "    x1 = Math.floor(x1) + 0.5;\n",
       "    y1 = Math.floor(y1) + 0.5;\n",
       "    var min_x = Math.min(x0, x1);\n",
       "    var min_y = Math.min(y0, y1);\n",
       "    var width = Math.abs(x1 - x0);\n",
       "    var height = Math.abs(y1 - y0);\n",
       "\n",
       "    fig.rubberband_context.clearRect(\n",
       "        0,\n",
       "        0,\n",
       "        fig.canvas.width / fig.ratio,\n",
       "        fig.canvas.height / fig.ratio\n",
       "    );\n",
       "\n",
       "    fig.rubberband_context.strokeRect(min_x, min_y, width, height);\n",
       "};\n",
       "\n",
       "mpl.figure.prototype.handle_figure_label = function (fig, msg) {\n",
       "    // Updates the figure title.\n",
       "    fig.header.textContent = msg['label'];\n",
       "};\n",
       "\n",
       "mpl.figure.prototype.handle_cursor = function (fig, msg) {\n",
       "    fig.rubberband_canvas.style.cursor = msg['cursor'];\n",
       "};\n",
       "\n",
       "mpl.figure.prototype.handle_message = function (fig, msg) {\n",
       "    fig.message.textContent = msg['message'];\n",
       "};\n",
       "\n",
       "mpl.figure.prototype.handle_draw = function (fig, _msg) {\n",
       "    // Request the server to send over a new figure.\n",
       "    fig.send_draw_message();\n",
       "};\n",
       "\n",
       "mpl.figure.prototype.handle_image_mode = function (fig, msg) {\n",
       "    fig.image_mode = msg['mode'];\n",
       "};\n",
       "\n",
       "mpl.figure.prototype.handle_history_buttons = function (fig, msg) {\n",
       "    for (var key in msg) {\n",
       "        if (!(key in fig.buttons)) {\n",
       "            continue;\n",
       "        }\n",
       "        fig.buttons[key].disabled = !msg[key];\n",
       "        fig.buttons[key].setAttribute('aria-disabled', !msg[key]);\n",
       "    }\n",
       "};\n",
       "\n",
       "mpl.figure.prototype.handle_navigate_mode = function (fig, msg) {\n",
       "    if (msg['mode'] === 'PAN') {\n",
       "        fig.buttons['Pan'].classList.add('active');\n",
       "        fig.buttons['Zoom'].classList.remove('active');\n",
       "    } else if (msg['mode'] === 'ZOOM') {\n",
       "        fig.buttons['Pan'].classList.remove('active');\n",
       "        fig.buttons['Zoom'].classList.add('active');\n",
       "    } else {\n",
       "        fig.buttons['Pan'].classList.remove('active');\n",
       "        fig.buttons['Zoom'].classList.remove('active');\n",
       "    }\n",
       "};\n",
       "\n",
       "mpl.figure.prototype.updated_canvas_event = function () {\n",
       "    // Called whenever the canvas gets updated.\n",
       "    this.send_message('ack', {});\n",
       "};\n",
       "\n",
       "// A function to construct a web socket function for onmessage handling.\n",
       "// Called in the figure constructor.\n",
       "mpl.figure.prototype._make_on_message_function = function (fig) {\n",
       "    return function socket_on_message(evt) {\n",
       "        if (evt.data instanceof Blob) {\n",
       "            var img = evt.data;\n",
       "            if (img.type !== 'image/png') {\n",
       "                /* FIXME: We get \"Resource interpreted as Image but\n",
       "                 * transferred with MIME type text/plain:\" errors on\n",
       "                 * Chrome.  But how to set the MIME type?  It doesn't seem\n",
       "                 * to be part of the websocket stream */\n",
       "                img.type = 'image/png';\n",
       "            }\n",
       "\n",
       "            /* Free the memory for the previous frames */\n",
       "            if (fig.imageObj.src) {\n",
       "                (window.URL || window.webkitURL).revokeObjectURL(\n",
       "                    fig.imageObj.src\n",
       "                );\n",
       "            }\n",
       "\n",
       "            fig.imageObj.src = (window.URL || window.webkitURL).createObjectURL(\n",
       "                img\n",
       "            );\n",
       "            fig.updated_canvas_event();\n",
       "            fig.waiting = false;\n",
       "            return;\n",
       "        } else if (\n",
       "            typeof evt.data === 'string' &&\n",
       "            evt.data.slice(0, 21) === 'data:image/png;base64'\n",
       "        ) {\n",
       "            fig.imageObj.src = evt.data;\n",
       "            fig.updated_canvas_event();\n",
       "            fig.waiting = false;\n",
       "            return;\n",
       "        }\n",
       "\n",
       "        var msg = JSON.parse(evt.data);\n",
       "        var msg_type = msg['type'];\n",
       "\n",
       "        // Call the  \"handle_{type}\" callback, which takes\n",
       "        // the figure and JSON message as its only arguments.\n",
       "        try {\n",
       "            var callback = fig['handle_' + msg_type];\n",
       "        } catch (e) {\n",
       "            console.log(\n",
       "                \"No handler for the '\" + msg_type + \"' message type: \",\n",
       "                msg\n",
       "            );\n",
       "            return;\n",
       "        }\n",
       "\n",
       "        if (callback) {\n",
       "            try {\n",
       "                // console.log(\"Handling '\" + msg_type + \"' message: \", msg);\n",
       "                callback(fig, msg);\n",
       "            } catch (e) {\n",
       "                console.log(\n",
       "                    \"Exception inside the 'handler_\" + msg_type + \"' callback:\",\n",
       "                    e,\n",
       "                    e.stack,\n",
       "                    msg\n",
       "                );\n",
       "            }\n",
       "        }\n",
       "    };\n",
       "};\n",
       "\n",
       "// from https://stackoverflow.com/questions/1114465/getting-mouse-location-in-canvas\n",
       "mpl.findpos = function (e) {\n",
       "    //this section is from http://www.quirksmode.org/js/events_properties.html\n",
       "    var targ;\n",
       "    if (!e) {\n",
       "        e = window.event;\n",
       "    }\n",
       "    if (e.target) {\n",
       "        targ = e.target;\n",
       "    } else if (e.srcElement) {\n",
       "        targ = e.srcElement;\n",
       "    }\n",
       "    if (targ.nodeType === 3) {\n",
       "        // defeat Safari bug\n",
       "        targ = targ.parentNode;\n",
       "    }\n",
       "\n",
       "    // pageX,Y are the mouse positions relative to the document\n",
       "    var boundingRect = targ.getBoundingClientRect();\n",
       "    var x = e.pageX - (boundingRect.left + document.body.scrollLeft);\n",
       "    var y = e.pageY - (boundingRect.top + document.body.scrollTop);\n",
       "\n",
       "    return { x: x, y: y };\n",
       "};\n",
       "\n",
       "/*\n",
       " * return a copy of an object with only non-object keys\n",
       " * we need this to avoid circular references\n",
       " * https://stackoverflow.com/a/24161582/3208463\n",
       " */\n",
       "function simpleKeys(original) {\n",
       "    return Object.keys(original).reduce(function (obj, key) {\n",
       "        if (typeof original[key] !== 'object') {\n",
       "            obj[key] = original[key];\n",
       "        }\n",
       "        return obj;\n",
       "    }, {});\n",
       "}\n",
       "\n",
       "mpl.figure.prototype.mouse_event = function (event, name) {\n",
       "    var canvas_pos = mpl.findpos(event);\n",
       "\n",
       "    if (name === 'button_press') {\n",
       "        this.canvas.focus();\n",
       "        this.canvas_div.focus();\n",
       "    }\n",
       "\n",
       "    var x = canvas_pos.x * this.ratio;\n",
       "    var y = canvas_pos.y * this.ratio;\n",
       "\n",
       "    this.send_message(name, {\n",
       "        x: x,\n",
       "        y: y,\n",
       "        button: event.button,\n",
       "        step: event.step,\n",
       "        guiEvent: simpleKeys(event),\n",
       "    });\n",
       "\n",
       "    /* This prevents the web browser from automatically changing to\n",
       "     * the text insertion cursor when the button is pressed.  We want\n",
       "     * to control all of the cursor setting manually through the\n",
       "     * 'cursor' event from matplotlib */\n",
       "    event.preventDefault();\n",
       "    return false;\n",
       "};\n",
       "\n",
       "mpl.figure.prototype._key_event_extra = function (_event, _name) {\n",
       "    // Handle any extra behaviour associated with a key event\n",
       "};\n",
       "\n",
       "mpl.figure.prototype.key_event = function (event, name) {\n",
       "    // Prevent repeat events\n",
       "    if (name === 'key_press') {\n",
       "        if (event.key === this._key) {\n",
       "            return;\n",
       "        } else {\n",
       "            this._key = event.key;\n",
       "        }\n",
       "    }\n",
       "    if (name === 'key_release') {\n",
       "        this._key = null;\n",
       "    }\n",
       "\n",
       "    var value = '';\n",
       "    if (event.ctrlKey && event.key !== 'Control') {\n",
       "        value += 'ctrl+';\n",
       "    }\n",
       "    else if (event.altKey && event.key !== 'Alt') {\n",
       "        value += 'alt+';\n",
       "    }\n",
       "    else if (event.shiftKey && event.key !== 'Shift') {\n",
       "        value += 'shift+';\n",
       "    }\n",
       "\n",
       "    value += 'k' + event.key;\n",
       "\n",
       "    this._key_event_extra(event, name);\n",
       "\n",
       "    this.send_message(name, { key: value, guiEvent: simpleKeys(event) });\n",
       "    return false;\n",
       "};\n",
       "\n",
       "mpl.figure.prototype.toolbar_button_onclick = function (name) {\n",
       "    if (name === 'download') {\n",
       "        this.handle_save(this, null);\n",
       "    } else {\n",
       "        this.send_message('toolbar_button', { name: name });\n",
       "    }\n",
       "};\n",
       "\n",
       "mpl.figure.prototype.toolbar_button_onmouseover = function (tooltip) {\n",
       "    this.message.textContent = tooltip;\n",
       "};\n",
       "\n",
       "///////////////// REMAINING CONTENT GENERATED BY embed_js.py /////////////////\n",
       "// prettier-ignore\n",
       "var _JSXTOOLS_RESIZE_OBSERVER=function(A){var t,i=new WeakMap,n=new WeakMap,a=new WeakMap,r=new WeakMap,o=new Set;function s(e){if(!(this instanceof s))throw new TypeError(\"Constructor requires 'new' operator\");i.set(this,e)}function h(){throw new TypeError(\"Function is not a constructor\")}function c(e,t,i,n){e=0 in arguments?Number(arguments[0]):0,t=1 in arguments?Number(arguments[1]):0,i=2 in arguments?Number(arguments[2]):0,n=3 in arguments?Number(arguments[3]):0,this.right=(this.x=this.left=e)+(this.width=i),this.bottom=(this.y=this.top=t)+(this.height=n),Object.freeze(this)}function d(){t=requestAnimationFrame(d);var s=new WeakMap,p=new Set;o.forEach((function(t){r.get(t).forEach((function(i){var r=t instanceof window.SVGElement,o=a.get(t),d=r?0:parseFloat(o.paddingTop),f=r?0:parseFloat(o.paddingRight),l=r?0:parseFloat(o.paddingBottom),u=r?0:parseFloat(o.paddingLeft),g=r?0:parseFloat(o.borderTopWidth),m=r?0:parseFloat(o.borderRightWidth),w=r?0:parseFloat(o.borderBottomWidth),b=u+f,F=d+l,v=(r?0:parseFloat(o.borderLeftWidth))+m,W=g+w,y=r?0:t.offsetHeight-W-t.clientHeight,E=r?0:t.offsetWidth-v-t.clientWidth,R=b+v,z=F+W,M=r?t.width:parseFloat(o.width)-R-E,O=r?t.height:parseFloat(o.height)-z-y;if(n.has(t)){var k=n.get(t);if(k[0]===M&&k[1]===O)return}n.set(t,[M,O]);var S=Object.create(h.prototype);S.target=t,S.contentRect=new c(u,d,M,O),s.has(i)||(s.set(i,[]),p.add(i)),s.get(i).push(S)}))})),p.forEach((function(e){i.get(e).call(e,s.get(e),e)}))}return s.prototype.observe=function(i){if(i instanceof window.Element){r.has(i)||(r.set(i,new Set),o.add(i),a.set(i,window.getComputedStyle(i)));var n=r.get(i);n.has(this)||n.add(this),cancelAnimationFrame(t),t=requestAnimationFrame(d)}},s.prototype.unobserve=function(i){if(i instanceof window.Element&&r.has(i)){var n=r.get(i);n.has(this)&&(n.delete(this),n.size||(r.delete(i),o.delete(i))),n.size||r.delete(i),o.size||cancelAnimationFrame(t)}},A.DOMRectReadOnly=c,A.ResizeObserver=s,A.ResizeObserverEntry=h,A}; // eslint-disable-line\n",
       "mpl.toolbar_items = [[\"Home\", \"Reset original view\", \"fa fa-home icon-home\", \"home\"], [\"Back\", \"Back to previous view\", \"fa fa-arrow-left icon-arrow-left\", \"back\"], [\"Forward\", \"Forward to next view\", \"fa fa-arrow-right icon-arrow-right\", \"forward\"], [\"\", \"\", \"\", \"\"], [\"Pan\", \"Left button pans, Right button zooms\\nx/y fixes axis, CTRL fixes aspect\", \"fa fa-arrows icon-move\", \"pan\"], [\"Zoom\", \"Zoom to rectangle\\nx/y fixes axis\", \"fa fa-square-o icon-check-empty\", \"zoom\"], [\"\", \"\", \"\", \"\"], [\"Download\", \"Download plot\", \"fa fa-floppy-o icon-save\", \"download\"]];\n",
       "\n",
       "mpl.extensions = [\"eps\", \"jpeg\", \"pgf\", \"pdf\", \"png\", \"ps\", \"raw\", \"svg\", \"tif\"];\n",
       "\n",
       "mpl.default_extension = \"png\";/* global mpl */\n",
       "\n",
       "var comm_websocket_adapter = function (comm) {\n",
       "    // Create a \"websocket\"-like object which calls the given IPython comm\n",
       "    // object with the appropriate methods. Currently this is a non binary\n",
       "    // socket, so there is still some room for performance tuning.\n",
       "    var ws = {};\n",
       "\n",
       "    ws.binaryType = comm.kernel.ws.binaryType;\n",
       "    ws.readyState = comm.kernel.ws.readyState;\n",
       "    function updateReadyState(_event) {\n",
       "        if (comm.kernel.ws) {\n",
       "            ws.readyState = comm.kernel.ws.readyState;\n",
       "        } else {\n",
       "            ws.readyState = 3; // Closed state.\n",
       "        }\n",
       "    }\n",
       "    comm.kernel.ws.addEventListener('open', updateReadyState);\n",
       "    comm.kernel.ws.addEventListener('close', updateReadyState);\n",
       "    comm.kernel.ws.addEventListener('error', updateReadyState);\n",
       "\n",
       "    ws.close = function () {\n",
       "        comm.close();\n",
       "    };\n",
       "    ws.send = function (m) {\n",
       "        //console.log('sending', m);\n",
       "        comm.send(m);\n",
       "    };\n",
       "    // Register the callback with on_msg.\n",
       "    comm.on_msg(function (msg) {\n",
       "        //console.log('receiving', msg['content']['data'], msg);\n",
       "        var data = msg['content']['data'];\n",
       "        if (data['blob'] !== undefined) {\n",
       "            data = {\n",
       "                data: new Blob(msg['buffers'], { type: data['blob'] }),\n",
       "            };\n",
       "        }\n",
       "        // Pass the mpl event to the overridden (by mpl) onmessage function.\n",
       "        ws.onmessage(data);\n",
       "    });\n",
       "    return ws;\n",
       "};\n",
       "\n",
       "mpl.mpl_figure_comm = function (comm, msg) {\n",
       "    // This is the function which gets called when the mpl process\n",
       "    // starts-up an IPython Comm through the \"matplotlib\" channel.\n",
       "\n",
       "    var id = msg.content.data.id;\n",
       "    // Get hold of the div created by the display call when the Comm\n",
       "    // socket was opened in Python.\n",
       "    var element = document.getElementById(id);\n",
       "    var ws_proxy = comm_websocket_adapter(comm);\n",
       "\n",
       "    function ondownload(figure, _format) {\n",
       "        window.open(figure.canvas.toDataURL());\n",
       "    }\n",
       "\n",
       "    var fig = new mpl.figure(id, ws_proxy, ondownload, element);\n",
       "\n",
       "    // Call onopen now - mpl needs it, as it is assuming we've passed it a real\n",
       "    // web socket which is closed, not our websocket->open comm proxy.\n",
       "    ws_proxy.onopen();\n",
       "\n",
       "    fig.parent_element = element;\n",
       "    fig.cell_info = mpl.find_output_cell(\"<div id='\" + id + \"'></div>\");\n",
       "    if (!fig.cell_info) {\n",
       "        console.error('Failed to find cell for figure', id, fig);\n",
       "        return;\n",
       "    }\n",
       "    fig.cell_info[0].output_area.element.on(\n",
       "        'cleared',\n",
       "        { fig: fig },\n",
       "        fig._remove_fig_handler\n",
       "    );\n",
       "};\n",
       "\n",
       "mpl.figure.prototype.handle_close = function (fig, msg) {\n",
       "    var width = fig.canvas.width / fig.ratio;\n",
       "    fig.cell_info[0].output_area.element.off(\n",
       "        'cleared',\n",
       "        fig._remove_fig_handler\n",
       "    );\n",
       "    fig.resizeObserverInstance.unobserve(fig.canvas_div);\n",
       "\n",
       "    // Update the output cell to use the data from the current canvas.\n",
       "    fig.push_to_output();\n",
       "    var dataURL = fig.canvas.toDataURL();\n",
       "    // Re-enable the keyboard manager in IPython - without this line, in FF,\n",
       "    // the notebook keyboard shortcuts fail.\n",
       "    IPython.keyboard_manager.enable();\n",
       "    fig.parent_element.innerHTML =\n",
       "        '<img src=\"' + dataURL + '\" width=\"' + width + '\">';\n",
       "    fig.close_ws(fig, msg);\n",
       "};\n",
       "\n",
       "mpl.figure.prototype.close_ws = function (fig, msg) {\n",
       "    fig.send_message('closing', msg);\n",
       "    // fig.ws.close()\n",
       "};\n",
       "\n",
       "mpl.figure.prototype.push_to_output = function (_remove_interactive) {\n",
       "    // Turn the data on the canvas into data in the output cell.\n",
       "    var width = this.canvas.width / this.ratio;\n",
       "    var dataURL = this.canvas.toDataURL();\n",
       "    this.cell_info[1]['text/html'] =\n",
       "        '<img src=\"' + dataURL + '\" width=\"' + width + '\">';\n",
       "};\n",
       "\n",
       "mpl.figure.prototype.updated_canvas_event = function () {\n",
       "    // Tell IPython that the notebook contents must change.\n",
       "    IPython.notebook.set_dirty(true);\n",
       "    this.send_message('ack', {});\n",
       "    var fig = this;\n",
       "    // Wait a second, then push the new image to the DOM so\n",
       "    // that it is saved nicely (might be nice to debounce this).\n",
       "    setTimeout(function () {\n",
       "        fig.push_to_output();\n",
       "    }, 1000);\n",
       "};\n",
       "\n",
       "mpl.figure.prototype._init_toolbar = function () {\n",
       "    var fig = this;\n",
       "\n",
       "    var toolbar = document.createElement('div');\n",
       "    toolbar.classList = 'btn-toolbar';\n",
       "    this.root.appendChild(toolbar);\n",
       "\n",
       "    function on_click_closure(name) {\n",
       "        return function (_event) {\n",
       "            return fig.toolbar_button_onclick(name);\n",
       "        };\n",
       "    }\n",
       "\n",
       "    function on_mouseover_closure(tooltip) {\n",
       "        return function (event) {\n",
       "            if (!event.currentTarget.disabled) {\n",
       "                return fig.toolbar_button_onmouseover(tooltip);\n",
       "            }\n",
       "        };\n",
       "    }\n",
       "\n",
       "    fig.buttons = {};\n",
       "    var buttonGroup = document.createElement('div');\n",
       "    buttonGroup.classList = 'btn-group';\n",
       "    var button;\n",
       "    for (var toolbar_ind in mpl.toolbar_items) {\n",
       "        var name = mpl.toolbar_items[toolbar_ind][0];\n",
       "        var tooltip = mpl.toolbar_items[toolbar_ind][1];\n",
       "        var image = mpl.toolbar_items[toolbar_ind][2];\n",
       "        var method_name = mpl.toolbar_items[toolbar_ind][3];\n",
       "\n",
       "        if (!name) {\n",
       "            /* Instead of a spacer, we start a new button group. */\n",
       "            if (buttonGroup.hasChildNodes()) {\n",
       "                toolbar.appendChild(buttonGroup);\n",
       "            }\n",
       "            buttonGroup = document.createElement('div');\n",
       "            buttonGroup.classList = 'btn-group';\n",
       "            continue;\n",
       "        }\n",
       "\n",
       "        button = fig.buttons[name] = document.createElement('button');\n",
       "        button.classList = 'btn btn-default';\n",
       "        button.href = '#';\n",
       "        button.title = name;\n",
       "        button.innerHTML = '<i class=\"fa ' + image + ' fa-lg\"></i>';\n",
       "        button.addEventListener('click', on_click_closure(method_name));\n",
       "        button.addEventListener('mouseover', on_mouseover_closure(tooltip));\n",
       "        buttonGroup.appendChild(button);\n",
       "    }\n",
       "\n",
       "    if (buttonGroup.hasChildNodes()) {\n",
       "        toolbar.appendChild(buttonGroup);\n",
       "    }\n",
       "\n",
       "    // Add the status bar.\n",
       "    var status_bar = document.createElement('span');\n",
       "    status_bar.classList = 'mpl-message pull-right';\n",
       "    toolbar.appendChild(status_bar);\n",
       "    this.message = status_bar;\n",
       "\n",
       "    // Add the close button to the window.\n",
       "    var buttongrp = document.createElement('div');\n",
       "    buttongrp.classList = 'btn-group inline pull-right';\n",
       "    button = document.createElement('button');\n",
       "    button.classList = 'btn btn-mini btn-primary';\n",
       "    button.href = '#';\n",
       "    button.title = 'Stop Interaction';\n",
       "    button.innerHTML = '<i class=\"fa fa-power-off icon-remove icon-large\"></i>';\n",
       "    button.addEventListener('click', function (_evt) {\n",
       "        fig.handle_close(fig, {});\n",
       "    });\n",
       "    button.addEventListener(\n",
       "        'mouseover',\n",
       "        on_mouseover_closure('Stop Interaction')\n",
       "    );\n",
       "    buttongrp.appendChild(button);\n",
       "    var titlebar = this.root.querySelector('.ui-dialog-titlebar');\n",
       "    titlebar.insertBefore(buttongrp, titlebar.firstChild);\n",
       "};\n",
       "\n",
       "mpl.figure.prototype._remove_fig_handler = function (event) {\n",
       "    var fig = event.data.fig;\n",
       "    if (event.target !== this) {\n",
       "        // Ignore bubbled events from children.\n",
       "        return;\n",
       "    }\n",
       "    fig.close_ws(fig, {});\n",
       "};\n",
       "\n",
       "mpl.figure.prototype._root_extra_style = function (el) {\n",
       "    el.style.boxSizing = 'content-box'; // override notebook setting of border-box.\n",
       "};\n",
       "\n",
       "mpl.figure.prototype._canvas_extra_style = function (el) {\n",
       "    // this is important to make the div 'focusable\n",
       "    el.setAttribute('tabindex', 0);\n",
       "    // reach out to IPython and tell the keyboard manager to turn it's self\n",
       "    // off when our div gets focus\n",
       "\n",
       "    // location in version 3\n",
       "    if (IPython.notebook.keyboard_manager) {\n",
       "        IPython.notebook.keyboard_manager.register_events(el);\n",
       "    } else {\n",
       "        // location in version 2\n",
       "        IPython.keyboard_manager.register_events(el);\n",
       "    }\n",
       "};\n",
       "\n",
       "mpl.figure.prototype._key_event_extra = function (event, _name) {\n",
       "    // Check for shift+enter\n",
       "    if (event.shiftKey && event.which === 13) {\n",
       "        this.canvas_div.blur();\n",
       "        // select the cell after this one\n",
       "        var index = IPython.notebook.find_cell_index(this.cell_info[0]);\n",
       "        IPython.notebook.select(index + 1);\n",
       "    }\n",
       "};\n",
       "\n",
       "mpl.figure.prototype.handle_save = function (fig, _msg) {\n",
       "    fig.ondownload(fig, null);\n",
       "};\n",
       "\n",
       "mpl.find_output_cell = function (html_output) {\n",
       "    // Return the cell and output element which can be found *uniquely* in the notebook.\n",
       "    // Note - this is a bit hacky, but it is done because the \"notebook_saving.Notebook\"\n",
       "    // IPython event is triggered only after the cells have been serialised, which for\n",
       "    // our purposes (turning an active figure into a static one), is too late.\n",
       "    var cells = IPython.notebook.get_cells();\n",
       "    var ncells = cells.length;\n",
       "    for (var i = 0; i < ncells; i++) {\n",
       "        var cell = cells[i];\n",
       "        if (cell.cell_type === 'code') {\n",
       "            for (var j = 0; j < cell.output_area.outputs.length; j++) {\n",
       "                var data = cell.output_area.outputs[j];\n",
       "                if (data.data) {\n",
       "                    // IPython >= 3 moved mimebundle to data attribute of output\n",
       "                    data = data.data;\n",
       "                }\n",
       "                if (data['text/html'] === html_output) {\n",
       "                    return [cell, data, j];\n",
       "                }\n",
       "            }\n",
       "        }\n",
       "    }\n",
       "};\n",
       "\n",
       "// Register the function which deals with the matplotlib target/channel.\n",
       "// The kernel may be null if the page has been refreshed.\n",
       "if (IPython.notebook.kernel !== null) {\n",
       "    IPython.notebook.kernel.comm_manager.register_target(\n",
       "        'matplotlib',\n",
       "        mpl.mpl_figure_comm\n",
       "    );\n",
       "}\n"
      ],
      "text/plain": [
       "<IPython.core.display.Javascript object>"
      ]
     },
     "metadata": {},
     "output_type": "display_data"
    },
    {
     "data": {
      "text/html": [
       "<img src=\"data:image/png;base64,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\" width=\"640\">"
      ],
      "text/plain": [
       "<IPython.core.display.HTML object>"
      ]
     },
     "metadata": {},
     "output_type": "display_data"
    }
   ],
   "source": [
    "%matplotlib notebook\n",
    "import matplotlib.pylab as plt\n",
    "#plt.style.use('white_background')\n",
    "plt.figure()\n",
    "plt.plot(wave, 'b')\n",
    "plt.show()"
   ]
  },
  {
   "cell_type": "code",
   "execution_count": 12,
   "id": "68ea8046",
   "metadata": {},
   "outputs": [
    {
     "data": {
      "text/plain": [
       "(5000,)"
      ]
     },
     "execution_count": 12,
     "metadata": {},
     "output_type": "execute_result"
    }
   ],
   "source": [
    "wave.shape"
   ]
  },
  {
   "cell_type": "code",
   "execution_count": 13,
   "id": "7c80f142",
   "metadata": {},
   "outputs": [
    {
     "data": {
      "text/plain": [
       "-0.4658203125"
      ]
     },
     "execution_count": 13,
     "metadata": {},
     "output_type": "execute_result"
    }
   ],
   "source": [
    "min(wave)"
   ]
  },
  {
   "cell_type": "code",
   "execution_count": 14,
   "id": "6fd131ee",
   "metadata": {},
   "outputs": [
    {
     "data": {
      "text/plain": [
       "0.2314453125"
      ]
     },
     "execution_count": 14,
     "metadata": {},
     "output_type": "execute_result"
    }
   ],
   "source": [
    "max(wave)"
   ]
  },
  {
   "cell_type": "code",
   "execution_count": null,
   "id": "fcfd3b4c",
   "metadata": {},
   "outputs": [],
   "source": []
  }
 ],
 "metadata": {
  "kernelspec": {
   "display_name": "Python 3 (ipykernel)",
   "language": "python",
   "name": "python3"
  },
  "language_info": {
   "codemirror_mode": {
    "name": "ipython",
    "version": 3
   },
   "file_extension": ".py",
   "mimetype": "text/x-python",
   "name": "python",
   "nbconvert_exporter": "python",
   "pygments_lexer": "ipython3",
   "version": "3.8.13"
  }
 },
 "nbformat": 4,
 "nbformat_minor": 5
}
